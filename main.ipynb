{
 "cells": [
  {
   "cell_type": "markdown",
   "id": "94cf7738",
   "metadata": {},
   "source": [
    "# Kernel methods for machine learning - image classification challenge"
   ]
  },
  {
   "cell_type": "markdown",
   "id": "4908eba2",
   "metadata": {},
   "source": [
    "## Imports"
   ]
  },
  {
   "cell_type": "code",
   "execution_count": 1,
   "id": "05b76b91",
   "metadata": {},
   "outputs": [],
   "source": [
    "import pandas as pd\n",
    "import numpy as np\n",
    "import matplotlib.pyplot as plt\n",
    "%matplotlib inline"
   ]
  },
  {
   "cell_type": "markdown",
   "id": "b860291e",
   "metadata": {},
   "source": [
    "### Helper functions"
   ]
  },
  {
   "cell_type": "code",
   "execution_count": 67,
   "id": "c736053d",
   "metadata": {},
   "outputs": [],
   "source": [
    "from sklearn.preprocessing import LabelBinarizer"
   ]
  },
  {
   "cell_type": "markdown",
   "id": "5cb77269",
   "metadata": {},
   "source": [
    "## Load data"
   ]
  },
  {
   "cell_type": "code",
   "execution_count": 2,
   "id": "c9ae23c3",
   "metadata": {},
   "outputs": [],
   "source": [
    "Xtr = np.array(pd.read_csv('data/Xtr.csv', header=None, sep=',', usecols=range(3072)))\n",
    "Xte = np.array(pd.read_csv('data/Xte.csv', header=None, sep=',', usecols=range(3072)))\n",
    "Ytr = np.array(pd.read_csv('data/Ytr.csv', sep=',', usecols=[1])).squeeze()\n",
    "\n",
    "classes = ['airplane', 'automobile', 'bird', 'cat', 'deer', 'dog', 'frog', 'horse', 'ship', 'truck']"
   ]
  },
  {
   "cell_type": "code",
   "execution_count": 3,
   "id": "d0e2420e",
   "metadata": {},
   "outputs": [
    {
     "data": {
      "text/plain": [
       "array([8, 9, 3, ..., 1, 7, 5], dtype=int64)"
      ]
     },
     "execution_count": 3,
     "metadata": {},
     "output_type": "execute_result"
    }
   ],
   "source": [
    "Ytr"
   ]
  },
  {
   "cell_type": "markdown",
   "id": "101212ff",
   "metadata": {},
   "source": [
    "## Visualization"
   ]
  },
  {
   "cell_type": "code",
   "execution_count": 4,
   "id": "fb34fe34",
   "metadata": {},
   "outputs": [],
   "source": [
    "def scale(A):\n",
    "    return (A-np.min(A))/(np.max(A) - np.min(A))\n",
    "\n",
    "X = scale(Xtr)"
   ]
  },
  {
   "cell_type": "code",
   "execution_count": 5,
   "id": "a29c6428",
   "metadata": {
    "scrolled": true
   },
   "outputs": [
    {
     "name": "stdout",
     "output_type": "stream",
     "text": [
      "automobile\n"
     ]
    },
    {
     "data": {
      "image/png": "[encoded data removed]",
      "text/plain": [
       "<Figure size 432x288 with 1 Axes>"
      ]
     },
     "metadata": {
      "needs_background": "light"
     },
     "output_type": "display_data"
    },
    {
     "data": {
      "image/png": "[encoded data removed]",
      "text/plain": [
       "<Figure size 432x288 with 1 Axes>"
      ]
     },
     "metadata": {
      "needs_background": "light"
     },
     "output_type": "display_data"
    }
   ],
   "source": [
    "i = 1000\n",
    "print(classes[Ytr[i]])\n",
    "tmp = scale(Xtr[i])\n",
    "r = tmp[:1024].reshape([32, 32])\n",
    "g = tmp[1024:2048].reshape([32, 32])\n",
    "b = tmp[2048:].reshape([32, 32])\n",
    "img = np.dstack((r, g, b))\n",
    "\n",
    "plt.imshow(scale(img))\n",
    "plt.show()\n",
    "\n",
    "tmp = X[i]\n",
    "r = tmp[:1024].reshape([32, 32])\n",
    "g = tmp[1024:2048].reshape([32, 32])\n",
    "b = tmp[2048:].reshape([32, 32])\n",
    "img = np.dstack((r, g, b))\n",
    "\n",
    "plt.imshow(scale(img))\n",
    "plt.show()"
   ]
  },
  {
   "cell_type": "markdown",
   "id": "acf93450",
   "metadata": {},
   "source": [
    "## Kernels"
   ]
  },
  {
   "cell_type": "code",
   "execution_count": 62,
   "id": "a5d5a38d",
   "metadata": {},
   "outputs": [],
   "source": [
    "class Kernel:\n",
    "    \n",
    "    def __init__(self, X, sigma):\n",
    "        self.X = X\n",
    "        self.sigma = sigma\n",
    "\n",
    "\n",
    "class LinearKernel(Kernel):\n",
    "    \n",
    "    def __init__(self, X, sigma=None):\n",
    "        super().__init__(X, sigma)\n",
    "    \n",
    "    def similarity_matrix(self):\n",
    "        l = len(self.X)\n",
    "        K = np.empty([l, l])\n",
    "        for i in range(l):\n",
    "            for j in range(i, l):\n",
    "                K[i, j] = K[j, i] = np.dot(self.X[i], self.X[j])\n",
    "        return K\n",
    "    \n",
    "    def similarity(self, x):\n",
    "        return np.array([np.dot(x_i, x) for x_i in self.X])\n",
    "\n",
    "\n",
    "class GaussianKernel(Kernel):\n",
    "    \n",
    "    def __init__(self, X, sigma):\n",
    "        super().__init__(X, sigma)\n",
    "    \n",
    "    def similarity_matrix(self):\n",
    "        l = len(self.X)\n",
    "        K = np.empty([l, ll])\n",
    "        for i in range(ll):\n",
    "            for j in range(i, ll):\n",
    "                K[i, j] = K[j, i] = np.exp(-np.linalg.norm(self.X[i] - self.X[j]) ** 2 / (2 * self.sigma ** 2))\n",
    "        return K\n",
    "    \n",
    "    def similarity(self, x):\n",
    "        return np.array([np.exp(-np.linalg.norm(x_i - x) ** 2 / (2 * self.sigma ** 2)) for x_i in self.X])\n",
    "    \n",
    "\n",
    "kernels = {'linear': LinearKernel, 'rbf': GaussianKernel}"
   ]
  },
  {
   "cell_type": "markdown",
   "id": "badc16a7",
   "metadata": {},
   "source": [
    "## Algorithms"
   ]
  },
  {
   "cell_type": "code",
   "execution_count": 85,
   "id": "4af8aa69",
   "metadata": {},
   "outputs": [],
   "source": [
    "class KernelRidgeClassifier:\n",
    "    \n",
    "    def __init__(self, lambd=1.0, kernel='rbf', sigma=10):\n",
    "        self.lambd = lambd\n",
    "        self.kernel_class = kernels[kernel]\n",
    "        self.sigma = sigma\n",
    "    \n",
    "    def fit(self, X, y):\n",
    "        Y = LabelBinarizer(pos_label=1, neg_label=-1).fit_transform(y)\n",
    "        # initialize kernel\n",
    "        self.kernel = self.kernel_class(X, self.sigma)\n",
    "        K = self.kernel.similarity_matrix()\n",
    "        # get second term of KRR\n",
    "        diag = np.zeros_like(K)\n",
    "        np.fill_diagonal(diag, self.lambd * len(X))\n",
    "        # compute coefficients num_classes times, one-vs-all\n",
    "        # @ is matrix multiplication, equivalent to np.matmul\n",
    "        self.alpha = []\n",
    "        for c in set(y):\n",
    "            self.alpha.append(np.linalg.inv(K + diag) @ Y[:,c])\n",
    "        self.alpha = np.array(self.alpha)\n",
    "    \n",
    "    def predict(self, X):\n",
    "        # TODO\n",
    "        return np.array([np.sum([alpha * self.kernel.similarity(x) for alpha in self.alpha]) for x in X])"
   ]
  },
  {
   "cell_type": "markdown",
   "id": "73e5d2f0",
   "metadata": {},
   "source": [
    "## Tests"
   ]
  },
  {
   "cell_type": "code",
   "execution_count": 69,
   "id": "08bac0d3",
   "metadata": {},
   "outputs": [
    {
     "data": {
      "text/plain": [
       "{0, 1, 2, 3, 4, 5, 6, 7, 8, 9}"
      ]
     },
     "execution_count": 69,
     "metadata": {},
     "output_type": "execute_result"
    }
   ],
   "source": [
    "set(Ytr)"
   ]
  },
  {
   "cell_type": "code",
   "execution_count": 36,
   "id": "ec1c86bf",
   "metadata": {
    "scrolled": true
   },
   "outputs": [
    {
     "data": {
      "text/plain": [
       "100"
      ]
     },
     "execution_count": 36,
     "metadata": {},
     "output_type": "execute_result"
    }
   ],
   "source": [
    "subset = Xtr[:100]\n",
    "sub_y = Ytr[:100]\n",
    "len(subset)"
   ]
  },
  {
   "cell_type": "code",
   "execution_count": 86,
   "id": "268e8ea8",
   "metadata": {
    "scrolled": true
   },
   "outputs": [],
   "source": [
    "clf = KernelRidgeClassifier(kernel='linear')\n",
    "clf.fit(subset, sub_y)"
   ]
  },
  {
   "cell_type": "code",
   "execution_count": 87,
   "id": "d98b2885",
   "metadata": {},
   "outputs": [
    {
     "data": {
      "text/plain": [
       "array([[-0.00979196, -0.0089491 , -0.00965786, -0.00935608, -0.00983955,\n",
       "        -0.00929625, -0.00948132,  0.00961549, -0.00965994, -0.00958097,\n",
       "        -0.00946024, -0.00947924, -0.00954396, -0.00945198, -0.00973134,\n",
       "        -0.00996816, -0.00954213, -0.00960041, -0.00986029, -0.00976087,\n",
       "        -0.00949415, -0.00989168, -0.00963161, -0.00968237, -0.0095559 ,\n",
       "        -0.00970641,  0.00955778, -0.009454  , -0.00956109, -0.00956513,\n",
       "        -0.00961544, -0.00957469, -0.00946362, -0.00948115,  0.00962964,\n",
       "        -0.00946198, -0.00953007, -0.00953103, -0.00958184, -0.00921008,\n",
       "        -0.00964576, -0.00930584, -0.00934579, -0.00982812, -0.00945811,\n",
       "        -0.00956023, -0.00942512, -0.00995932, -0.00970988, -0.0094868 ,\n",
       "        -0.00959898, -0.00954253, -0.00930329, -0.00945205, -0.00923819,\n",
       "        -0.00997101, -0.00946407,  0.00967982, -0.00958884, -0.00940229,\n",
       "        -0.00945552, -0.00955923, -0.00960891, -0.00983054, -0.00951776,\n",
       "        -0.00965291, -0.00945844, -0.00950368, -0.00958809, -0.00903587,\n",
       "        -0.00958578, -0.00978572,  0.00915053,  0.00973507, -0.00952939,\n",
       "        -0.00925717, -0.00931731, -0.00991336, -0.00949978, -0.009445  ,\n",
       "        -0.00975253, -0.0097789 , -0.00956453, -0.0095368 , -0.00972255,\n",
       "        -0.00898082, -0.00961596, -0.00956357, -0.00957953, -0.00937505,\n",
       "        -0.00958376, -0.00962956, -0.00963326, -0.00987098, -0.00937327,\n",
       "        -0.00959619, -0.00969169,  0.00980036, -0.00939811, -0.00948836],\n",
       "       [-0.00980904, -0.00899268, -0.00967167,  0.00957957, -0.00967723,\n",
       "        -0.00940258, -0.00930863, -0.00941356, -0.00976004, -0.00955479,\n",
       "        -0.00942908, -0.00930405, -0.00958438, -0.00941863, -0.00980307,\n",
       "        -0.01001822, -0.00933207, -0.00966545, -0.00978624, -0.00982781,\n",
       "        -0.00969474, -0.00975989, -0.00937554, -0.00986107, -0.0095431 ,\n",
       "        -0.00966688, -0.00917705, -0.00939667, -0.00935132, -0.00968534,\n",
       "        -0.00963107, -0.00978076, -0.00956874, -0.00943257, -0.00961863,\n",
       "        -0.00945901, -0.00963765, -0.00981437, -0.00962523, -0.00907385,\n",
       "        -0.00960261,  0.0095175 , -0.00938603, -0.0099304 , -0.00941017,\n",
       "        -0.00949278, -0.00976656, -0.01005443, -0.00968297, -0.00943241,\n",
       "        -0.00952333, -0.0095709 ,  0.00965461, -0.0094359 , -0.00912851,\n",
       "        -0.00990932, -0.00962052, -0.00927634, -0.00980314, -0.00948298,\n",
       "        -0.00931489, -0.00946988, -0.00961728,  0.00953068, -0.00969845,\n",
       "        -0.00963421, -0.00973225, -0.00943662, -0.00960223, -0.00921512,\n",
       "        -0.00955623, -0.00986448, -0.0099461 , -0.00964897, -0.0093958 ,\n",
       "        -0.00934647, -0.00937912, -0.00980641, -0.00944942,  0.00960154,\n",
       "        -0.00967114, -0.00966438, -0.00980108, -0.00958153, -0.00977517,\n",
       "         0.00987366, -0.00969455, -0.00973805, -0.00967491,  0.00960432,\n",
       "        -0.00952206, -0.00968906, -0.00947572, -0.00984191, -0.00947557,\n",
       "        -0.00954761, -0.00974807, -0.00966903, -0.00935347, -0.0096101 ],\n",
       "       [-0.00986543, -0.00904834, -0.00980305, -0.00937221, -0.00974553,\n",
       "        -0.00942224, -0.00942831, -0.00944599, -0.00943008, -0.0095903 ,\n",
       "        -0.00951968, -0.00930303, -0.00969816, -0.0092445 , -0.00971239,\n",
       "        -0.01010155, -0.00945128, -0.00969808, -0.00972975, -0.0096456 ,\n",
       "        -0.0096601 , -0.0098154 , -0.00944146, -0.00979155, -0.0094245 ,\n",
       "         0.00937075, -0.00922624, -0.00944049, -0.00929942, -0.0096845 ,\n",
       "        -0.00960378, -0.00969088, -0.00942071, -0.00950307, -0.00947637,\n",
       "        -0.00950917, -0.00921054, -0.00981612, -0.00940644, -0.00908578,\n",
       "        -0.00967589, -0.00934165, -0.00939525, -0.00982659, -0.00905765,\n",
       "        -0.00954463, -0.00952577, -0.00996574,  0.00960985, -0.00957492,\n",
       "        -0.00954421, -0.00973828, -0.00945415, -0.0094199 , -0.00900488,\n",
       "        -0.00989549,  0.00972342, -0.00886419, -0.01002808, -0.00950775,\n",
       "        -0.00951326, -0.00953754, -0.00966751, -0.00961541, -0.00959156,\n",
       "        -0.00969475, -0.0095651 , -0.00919352, -0.00971789, -0.0088885 ,\n",
       "        -0.00963424, -0.01002767, -0.01007884, -0.0096398 ,  0.00983553,\n",
       "        -0.00949624, -0.00939477, -0.00988388, -0.00948277, -0.00948468,\n",
       "        -0.00976654, -0.00976934,  0.00982456,  0.00935054,  0.00982232,\n",
       "        -0.00891738,  0.00979646, -0.00967431, -0.00949797, -0.00952078,\n",
       "        -0.00964985, -0.00965668, -0.00947662,  0.0094696 ,  0.00996571,\n",
       "        -0.00949184, -0.00966238, -0.00968575, -0.00940066, -0.00941167],\n",
       "       [-0.00979014, -0.00886628,  0.00931575, -0.00924783, -0.00981292,\n",
       "        -0.00951948, -0.00954722, -0.00948446,  0.00993731,  0.00962866,\n",
       "        -0.00961235,  0.00990783, -0.00952503, -0.00947061, -0.00989558,\n",
       "        -0.00979647, -0.00946764, -0.0094839 , -0.00987859,  0.00978152,\n",
       "        -0.00961047, -0.00962077, -0.00961961, -0.0098152 , -0.00948446,\n",
       "        -0.00988719, -0.00938655, -0.00958968, -0.00930349, -0.00960047,\n",
       "        -0.00939498, -0.00958912, -0.00954139, -0.00940365, -0.00962653,\n",
       "         0.00947642, -0.009298  , -0.009571  , -0.00977607, -0.009305  ,\n",
       "        -0.00957467, -0.00957294, -0.0094935 ,  0.00962997, -0.00908564,\n",
       "        -0.00956107,  0.00966627,  0.00961293, -0.00975027, -0.00946013,\n",
       "        -0.0096895 , -0.00955827, -0.00949125,  0.00984912, -0.00938132,\n",
       "        -0.00991975, -0.00949519, -0.00915725, -0.00965428, -0.00967078,\n",
       "        -0.00933656, -0.00946349, -0.00964279, -0.00974364, -0.0095144 ,\n",
       "        -0.009653  , -0.00946785, -0.0094428 , -0.00970941, -0.00910376,\n",
       "        -0.00952798, -0.00983131, -0.00997155, -0.00954479, -0.00953766,\n",
       "        -0.00940915, -0.00941017, -0.00979376,  0.00983495, -0.00957797,\n",
       "        -0.00967635, -0.00966582, -0.00968616, -0.00945171, -0.00961394,\n",
       "        -0.009163  , -0.00963136, -0.0097333 , -0.00953967, -0.00939933,\n",
       "        -0.00950445, -0.0097705 , -0.00941924, -0.01002819, -0.00923193,\n",
       "        -0.00959759, -0.00964121, -0.00972905, -0.00934918, -0.00946003],\n",
       "       [-0.00970623, -0.0089707 , -0.00950817, -0.00925898,  0.00948261,\n",
       "        -0.00944226, -0.00936341, -0.00942084, -0.00951273, -0.00972497,\n",
       "        -0.00966664, -0.00915398, -0.00960519, -0.00927341, -0.00963983,\n",
       "        -0.01012324, -0.00933412, -0.0095994 , -0.00989446, -0.00977908,\n",
       "        -0.009612  , -0.00985525, -0.00950192, -0.00978044, -0.00978548,\n",
       "        -0.00990344, -0.00914889, -0.00942806, -0.00932946,  0.00950023,\n",
       "         0.00967556, -0.00964989, -0.00944878, -0.00951709, -0.00959464,\n",
       "        -0.009494  , -0.00943425, -0.00986532, -0.00952011, -0.00908686,\n",
       "        -0.00957651, -0.009428  , -0.00936017, -0.0097389 , -0.008906  ,\n",
       "        -0.00967107, -0.00959378, -0.00996759, -0.00963591, -0.00954593,\n",
       "        -0.00958318, -0.00968978, -0.00935546, -0.0094975 , -0.00903107,\n",
       "        -0.00997288, -0.00961696, -0.0089237 , -0.00977261, -0.00966569,\n",
       "        -0.00918141, -0.00941522, -0.00962943, -0.00978764, -0.00968985,\n",
       "        -0.00946319, -0.00958195, -0.00910863,  0.00962386, -0.00878604,\n",
       "        -0.00967946, -0.01003132, -0.01001951, -0.00977542, -0.00940402,\n",
       "        -0.00939971,  0.00964726, -0.00976628, -0.00952263, -0.00943495,\n",
       "         0.00976024, -0.00977165, -0.00963493, -0.00974667, -0.00978631,\n",
       "        -0.00884811, -0.00967558,  0.00975159, -0.00957696, -0.00942624,\n",
       "         0.00954946, -0.00971242, -0.00949389, -0.00993893, -0.00935731,\n",
       "        -0.0096336 , -0.00965201, -0.00972861, -0.00940397, -0.00943454],\n",
       "       [-0.00975865, -0.00907534, -0.00940096, -0.00934604, -0.00971614,\n",
       "         0.0097727 , -0.00945185, -0.00932972, -0.00955712, -0.00948682,\n",
       "         0.00968511, -0.00917618, -0.00962998, -0.00940104, -0.00987837,\n",
       "         0.00940479, -0.00942407, -0.00970799,  0.00969353, -0.00973414,\n",
       "        -0.00968958, -0.00959823, -0.00944137,  0.00977507, -0.00961101,\n",
       "        -0.00975977, -0.00921209, -0.00945326, -0.00921853, -0.00967097,\n",
       "        -0.00963174, -0.00957356, -0.00961464, -0.009516  , -0.00959606,\n",
       "        -0.00950917, -0.00954904, -0.00974113, -0.00953105, -0.00895021,\n",
       "        -0.00966609, -0.00927076, -0.00927419, -0.0097329 ,  0.01005611,\n",
       "        -0.00953768, -0.00960669, -0.00994136, -0.00972665, -0.00944637,\n",
       "        -0.00954476,  0.00983587, -0.00939913, -0.00944562, -0.00893982,\n",
       "        -0.0098073 , -0.00957157, -0.00890141, -0.00984722, -0.00956818,\n",
       "        -0.00940299, -0.00939696, -0.00966218, -0.00990577,  0.00944063,\n",
       "        -0.00975436,  0.00952779, -0.00889616, -0.00965939, -0.00889619,\n",
       "        -0.00966384,  0.00933609, -0.00983343, -0.00975448, -0.00951376,\n",
       "        -0.00957298, -0.00937799, -0.00967099, -0.00951136, -0.0093204 ,\n",
       "        -0.00979456,  0.0094035 , -0.00975555, -0.00946718, -0.00967644,\n",
       "        -0.00908629, -0.00971301, -0.00960683, -0.0095876 , -0.00959832,\n",
       "        -0.00980012, -0.00957275, -0.00970986, -0.00984383, -0.00940678,\n",
       "        -0.00954017, -0.00974298, -0.00970179, -0.00942842,  0.00959903],\n",
       "       [-0.00986017, -0.00920323, -0.00964027, -0.00933534, -0.00965524,\n",
       "        -0.00942281, -0.00940776, -0.00951148, -0.00975888, -0.0095471 ,\n",
       "        -0.00958903, -0.0091504 , -0.00971798,  0.0100572 , -0.00969475,\n",
       "        -0.00995941, -0.00931727, -0.00970677, -0.00971304, -0.0098099 ,\n",
       "        -0.00964937, -0.00962373, -0.00937148, -0.00983493, -0.00955079,\n",
       "        -0.0098113 , -0.00920932, -0.00954379, -0.00916434, -0.00964978,\n",
       "        -0.00954759,  0.00987372,  0.00954942,  0.00954374, -0.00961246,\n",
       "        -0.00954148, -0.00960037,  0.00931838, -0.00946231, -0.00923698,\n",
       "        -0.00949718, -0.00946206, -0.00942231, -0.00970211, -0.00945304,\n",
       "        -0.00959963, -0.00951687, -0.01005327, -0.00963698, -0.00949552,\n",
       "        -0.00957524, -0.00951922, -0.00949074, -0.00942499, -0.00923126,\n",
       "        -0.00990684, -0.00962269, -0.00875454, -0.00980989, -0.00946682,\n",
       "        -0.00946189, -0.00939329, -0.0095704 , -0.00981178, -0.00966338,\n",
       "         0.00990549, -0.00973374, -0.00935049, -0.00970317, -0.00882509,\n",
       "         0.00976278, -0.00984466, -0.0101058 , -0.00974312, -0.00953578,\n",
       "        -0.00947964, -0.00943037, -0.00978703, -0.00938468, -0.00961063,\n",
       "        -0.00973305, -0.00970486, -0.00972975, -0.00964908, -0.00965014,\n",
       "        -0.00883812, -0.00961517, -0.00973485, -0.00964665, -0.00943732,\n",
       "        -0.00951775,  0.00941652, -0.00950699, -0.00992309, -0.00932243,\n",
       "        -0.00958212,  0.00980107, -0.00962212, -0.00931525, -0.00960675],\n",
       "       [-0.00979859, -0.00901978, -0.0097192 , -0.00941192, -0.00973463,\n",
       "        -0.00933789, -0.00942501, -0.00949763, -0.00954479, -0.00956965,\n",
       "        -0.00957606, -0.00923007,  0.00955418, -0.00932198,  0.00927194,\n",
       "        -0.01008508, -0.00938963, -0.00957994, -0.0098481 , -0.0097422 ,\n",
       "        -0.00962706, -0.00979618, -0.00946264, -0.00978172,  0.00963432,\n",
       "        -0.00991891, -0.0092944 , -0.00934392, -0.00938067, -0.00980536,\n",
       "        -0.00958525, -0.00951071, -0.00944115, -0.00954833, -0.00955768,\n",
       "        -0.00955547, -0.00956089, -0.00984722, -0.00950385, -0.00911519,\n",
       "        -0.00957782, -0.00939509, -0.00916929, -0.00981127, -0.00918375,\n",
       "        -0.00957321, -0.00965026, -0.01004778, -0.0097671 ,  0.00989786,\n",
       "        -0.00954505, -0.00974302, -0.00928091, -0.00942749, -0.00883256,\n",
       "        -0.00988115, -0.00963968, -0.00884827, -0.00991652,  0.00950476,\n",
       "        -0.00924642, -0.00946249, -0.00956108, -0.00978393, -0.0097287 ,\n",
       "        -0.00962055, -0.00961105, -0.00925188, -0.00975783, -0.00894093,\n",
       "        -0.00958525, -0.00988011, -0.00992389, -0.00970569, -0.00946994,\n",
       "         0.00929001, -0.00948396, -0.00971864, -0.00942346, -0.00935483,\n",
       "        -0.00974772, -0.00976221, -0.00971668, -0.00958694, -0.00961357,\n",
       "        -0.00884885, -0.00952213, -0.0096075 , -0.00961127, -0.0093253 ,\n",
       "        -0.00958084, -0.0096798 , -0.00933667, -0.00988562, -0.00927573,\n",
       "         0.00938108, -0.00975007, -0.00955995, -0.00939138, -0.00949137],\n",
       "       [ 0.00957001, -0.00899972, -0.00958006, -0.00937294, -0.00969325,\n",
       "        -0.00942433, -0.0094868 , -0.00969537, -0.00956175, -0.00967484,\n",
       "        -0.00953669, -0.00956383, -0.00966465, -0.00947977, -0.00972905,\n",
       "        -0.00972993,  0.00944582,  0.0096588 , -0.00981754, -0.00974578,\n",
       "         0.00985144, -0.00976387,  0.00984458, -0.00983016, -0.0094821 ,\n",
       "        -0.00982545, -0.00947621, -0.0093893 ,  0.00998084, -0.00962519,\n",
       "        -0.00944454, -0.00942686, -0.00958043, -0.00937069, -0.00960098,\n",
       "        -0.00943745, -0.00954058, -0.009484  ,  0.00999311, -0.00924436,\n",
       "         0.00951483, -0.00936263,  0.00965645, -0.00977876, -0.00940441,\n",
       "        -0.00983377, -0.00930259, -0.00990671, -0.00964156, -0.00946822,\n",
       "         0.00940982, -0.00937171, -0.00945925, -0.00954733, -0.00933259,\n",
       "         0.00958535, -0.00969659, -0.00915043,  0.00932626, -0.00951823,\n",
       "        -0.0094333 ,  0.00971082,  0.0095376 , -0.00967149, -0.00964082,\n",
       "        -0.00959072, -0.00958318, -0.00940303, -0.00966166, -0.00919666,\n",
       "        -0.00960869, -0.0096996 , -0.01003806, -0.00953484, -0.00951033,\n",
       "        -0.00935909, -0.00943531,  0.00951228, -0.00975381, -0.00923809,\n",
       "        -0.0096144 , -0.00972482, -0.00968919, -0.00962966, -0.00974864,\n",
       "        -0.00928941, -0.00971667, -0.00960265,  0.00965976, -0.00926886,\n",
       "        -0.00961319, -0.00941145, -0.00955604, -0.00990991, -0.00947331,\n",
       "        -0.00935784, -0.00982272, -0.0097328 ,  0.00996033, -0.00967787],\n",
       "       [-0.00985814,  0.00974306, -0.00963641, -0.00932584, -0.00952044,\n",
       "        -0.0094266 ,  0.00944052, -0.00978205, -0.00977052, -0.0096431 ,\n",
       "        -0.00954502, -0.00966167, -0.0096037 , -0.00964653, -0.00975745,\n",
       "        -0.00981126, -0.00961635, -0.00965431, -0.00969792, -0.00987198,\n",
       "        -0.00967496,  0.00905572, -0.00970305, -0.00981174, -0.00945498,\n",
       "        -0.00962538, -0.00949575,  0.0097362 , -0.00950066, -0.00968972,\n",
       "        -0.00934445, -0.00964152, -0.00955017, -0.00961424, -0.00939859,\n",
       "        -0.00959611,  0.00959001, -0.00974437, -0.00960895,  0.00956023,\n",
       "        -0.00954968, -0.00936971, -0.00978684, -0.00971035, -0.00958424,\n",
       "         0.00970812, -0.0093989 , -0.00980278, -0.00963013, -0.00953599,\n",
       "        -0.00954278, -0.0096177 , -0.00951985, -0.00956042,  0.00956814,\n",
       "        -0.00999144, -0.00955044, -0.00942802, -0.0096345 , -0.00926056,\n",
       "         0.00910961, -0.00956495, -0.00958045, -0.00968261, -0.00944064,\n",
       "        -0.00960851, -0.00965775,  0.00965559, -0.00959886,  0.00966144,\n",
       "        -0.00972843, -0.00960394, -0.01005618, -0.00973892, -0.00956443,\n",
       "        -0.00947483, -0.00938145, -0.00972497, -0.00954338, -0.00941313,\n",
       "        -0.00973749, -0.00945177, -0.00960108, -0.0096066 , -0.00963647,\n",
       "        -0.00919961, -0.00974048, -0.00962772, -0.00961573, -0.00942807,\n",
       "        -0.00958315, -0.00963211,  0.00960956, -0.00988774, -0.00934303,\n",
       "        -0.00940014, -0.00978778, -0.00990236, -0.00961513, -0.00963907]])"
      ]
     },
     "execution_count": 87,
     "metadata": {},
     "output_type": "execute_result"
    }
   ],
   "source": [
    "clf.alpha"
   ]
  },
  {
   "cell_type": "code",
   "execution_count": 30,
   "id": "b6fe4502",
   "metadata": {},
   "outputs": [],
   "source": [
    "kernel = LinearKernel(subset)\n",
    "K = kernel.similarity_matrix()"
   ]
  },
  {
   "cell_type": "code",
   "execution_count": 34,
   "id": "9a7a1b49",
   "metadata": {},
   "outputs": [],
   "source": [
    "diag = np.zeros_like(K)\n",
    "np.fill_diagonal(diag, 1 * len(subset))"
   ]
  },
  {
   "cell_type": "code",
   "execution_count": 41,
   "id": "6c17b037",
   "metadata": {
    "scrolled": true
   },
   "outputs": [
    {
     "data": {
      "text/plain": [
       "(100,)"
      ]
     },
     "execution_count": 41,
     "metadata": {},
     "output_type": "execute_result"
    }
   ],
   "source": [
    "(np.linalg.inv(K + diag) @ sub_y).shape"
   ]
  },
  {
   "cell_type": "code",
   "execution_count": null,
   "id": "5d79b3af",
   "metadata": {},
   "outputs": [],
   "source": []
  },
  {
   "cell_type": "code",
   "execution_count": 47,
   "id": "0fd8f75c",
   "metadata": {},
   "outputs": [],
   "source": [
    "from sklearn.datasets import make_regression"
   ]
  },
  {
   "cell_type": "code",
   "execution_count": 48,
   "id": "75486b7f",
   "metadata": {},
   "outputs": [],
   "source": [
    "X, y = make_regression()"
   ]
  },
  {
   "cell_type": "code",
   "execution_count": 71,
   "id": "b305aae6",
   "metadata": {
    "scrolled": true
   },
   "outputs": [
    {
     "ename": "ValueError",
     "evalue": "Unknown label type: (array([-186.65004386,  172.26450221,   87.63704423,  -29.28412983,\n        -22.24395372,  -71.82116385,  -89.42881881,   17.74348851,\n        -91.98780414, -154.45581274, -205.99932861,  -22.63441729,\n         80.33411238,  165.25449566,  -44.0192526 ,  -41.62930277,\n          2.6915323 ,   25.63599589, -204.26464553,   -5.20350154,\n         30.39431319,  143.34409091, -160.60690103,  185.24639633,\n         35.93359346, -246.21709837,   26.8683438 ,  -24.28088814,\n       -145.40329222,    4.29923095,  162.02076367,  195.63478682,\n        -43.44663351,  -46.87620352,  -86.10823866,   67.80780969,\n        -85.5429439 ,   70.91738778, -252.40816249,  -59.4790153 ,\n        179.55908478, -190.63917353,   57.02974444,  -16.0839174 ,\n         27.5632778 , -142.49919578,  -59.86140171,  -81.83888326,\n         16.1188696 ,   -3.75152529,   17.81912076, -121.25224876,\n        -13.21465601,  -28.25819551,  -29.45393551,  -97.76479893,\n       -157.26752833,  -76.43257306,    4.12426895, -111.83328368,\n       -164.84820191,  416.46809976,  -75.12180539,   65.26988992,\n        -49.24504074,   95.68664372,   25.64018138,  -84.8486868 ,\n       -203.4716216 ,  -87.62260607,  -95.19403578,   68.93634348,\n       -143.79565482, -213.04633694,  136.5947441 ,   13.9802413 ,\n       -117.93079608,  -13.22627553,  -26.36814035,   76.11302677,\n        -48.22655653,   69.13418518,  -24.62865874, -178.31520356,\n       -196.92131082,    3.66423433,  115.76874031, -122.61033802,\n        -27.32410214, -222.52264124,  250.88270878,  -97.00485882,\n        -73.66712877,  -48.58790034,   20.54499847,  177.5811756 ,\n        -42.81779086,   48.48160004,  122.08246258,   55.00321204]),)",
     "output_type": "error",
     "traceback": [
      "\u001b[1;31m---------------------------------------------------------------------------\u001b[0m",
      "\u001b[1;31mValueError\u001b[0m                                Traceback (most recent call last)",
      "\u001b[1;32m~\\AppData\\Local\\Temp/ipykernel_9312/3237403693.py\u001b[0m in \u001b[0;36m<module>\u001b[1;34m\u001b[0m\n\u001b[0;32m      1\u001b[0m \u001b[0mclf\u001b[0m \u001b[1;33m=\u001b[0m \u001b[0mKernelRidgeClassifier\u001b[0m\u001b[1;33m(\u001b[0m\u001b[0mkernel\u001b[0m\u001b[1;33m=\u001b[0m\u001b[1;34m'linear'\u001b[0m\u001b[1;33m)\u001b[0m\u001b[1;33m\u001b[0m\u001b[1;33m\u001b[0m\u001b[0m\n\u001b[1;32m----> 2\u001b[1;33m \u001b[0mclf\u001b[0m\u001b[1;33m.\u001b[0m\u001b[0mfit\u001b[0m\u001b[1;33m(\u001b[0m\u001b[0mX\u001b[0m\u001b[1;33m,\u001b[0m \u001b[0my\u001b[0m\u001b[1;33m)\u001b[0m\u001b[1;33m\u001b[0m\u001b[1;33m\u001b[0m\u001b[0m\n\u001b[0m",
      "\u001b[1;32m~\\AppData\\Local\\Temp/ipykernel_9312/1184403404.py\u001b[0m in \u001b[0;36mfit\u001b[1;34m(self, X, y)\u001b[0m\n\u001b[0;32m      7\u001b[0m \u001b[1;33m\u001b[0m\u001b[0m\n\u001b[0;32m      8\u001b[0m     \u001b[1;32mdef\u001b[0m \u001b[0mfit\u001b[0m\u001b[1;33m(\u001b[0m\u001b[0mself\u001b[0m\u001b[1;33m,\u001b[0m \u001b[0mX\u001b[0m\u001b[1;33m,\u001b[0m \u001b[0my\u001b[0m\u001b[1;33m)\u001b[0m\u001b[1;33m:\u001b[0m\u001b[1;33m\u001b[0m\u001b[1;33m\u001b[0m\u001b[0m\n\u001b[1;32m----> 9\u001b[1;33m         \u001b[0mY\u001b[0m \u001b[1;33m=\u001b[0m \u001b[0mLabelBinarizer\u001b[0m\u001b[1;33m(\u001b[0m\u001b[0mpos_label\u001b[0m\u001b[1;33m=\u001b[0m\u001b[1;36m1\u001b[0m\u001b[1;33m,\u001b[0m \u001b[0mneg_label\u001b[0m\u001b[1;33m=\u001b[0m\u001b[1;33m-\u001b[0m\u001b[1;36m1\u001b[0m\u001b[1;33m)\u001b[0m\u001b[1;33m.\u001b[0m\u001b[0mfit_transform\u001b[0m\u001b[1;33m(\u001b[0m\u001b[0my\u001b[0m\u001b[1;33m)\u001b[0m\u001b[1;33m\u001b[0m\u001b[1;33m\u001b[0m\u001b[0m\n\u001b[0m\u001b[0;32m     10\u001b[0m         \u001b[1;31m# initialize kernel\u001b[0m\u001b[1;33m\u001b[0m\u001b[1;33m\u001b[0m\u001b[1;33m\u001b[0m\u001b[0m\n\u001b[0;32m     11\u001b[0m         \u001b[0mself\u001b[0m\u001b[1;33m.\u001b[0m\u001b[0mkernel\u001b[0m \u001b[1;33m=\u001b[0m \u001b[0mself\u001b[0m\u001b[1;33m.\u001b[0m\u001b[0mkernel_class\u001b[0m\u001b[1;33m(\u001b[0m\u001b[0mX\u001b[0m\u001b[1;33m,\u001b[0m \u001b[0mself\u001b[0m\u001b[1;33m.\u001b[0m\u001b[0msigma\u001b[0m\u001b[1;33m)\u001b[0m\u001b[1;33m\u001b[0m\u001b[1;33m\u001b[0m\u001b[0m\n",
      "\u001b[1;32mG:\\Programmi\\miniconda3\\envs\\kernel\\lib\\site-packages\\sklearn\\preprocessing\\_label.py\u001b[0m in \u001b[0;36mfit_transform\u001b[1;34m(self, y)\u001b[0m\n\u001b[0;32m    322\u001b[0m             \u001b[0mwill\u001b[0m \u001b[0mbe\u001b[0m \u001b[0mof\u001b[0m \u001b[0mCSR\u001b[0m \u001b[0mformat\u001b[0m\u001b[1;33m.\u001b[0m\u001b[1;33m\u001b[0m\u001b[1;33m\u001b[0m\u001b[0m\n\u001b[0;32m    323\u001b[0m         \"\"\"\n\u001b[1;32m--> 324\u001b[1;33m         \u001b[1;32mreturn\u001b[0m \u001b[0mself\u001b[0m\u001b[1;33m.\u001b[0m\u001b[0mfit\u001b[0m\u001b[1;33m(\u001b[0m\u001b[0my\u001b[0m\u001b[1;33m)\u001b[0m\u001b[1;33m.\u001b[0m\u001b[0mtransform\u001b[0m\u001b[1;33m(\u001b[0m\u001b[0my\u001b[0m\u001b[1;33m)\u001b[0m\u001b[1;33m\u001b[0m\u001b[1;33m\u001b[0m\u001b[0m\n\u001b[0m\u001b[0;32m    325\u001b[0m \u001b[1;33m\u001b[0m\u001b[0m\n\u001b[0;32m    326\u001b[0m     \u001b[1;32mdef\u001b[0m \u001b[0mtransform\u001b[0m\u001b[1;33m(\u001b[0m\u001b[0mself\u001b[0m\u001b[1;33m,\u001b[0m \u001b[0my\u001b[0m\u001b[1;33m)\u001b[0m\u001b[1;33m:\u001b[0m\u001b[1;33m\u001b[0m\u001b[1;33m\u001b[0m\u001b[0m\n",
      "\u001b[1;32mG:\\Programmi\\miniconda3\\envs\\kernel\\lib\\site-packages\\sklearn\\preprocessing\\_label.py\u001b[0m in \u001b[0;36mfit\u001b[1;34m(self, y)\u001b[0m\n\u001b[0;32m    299\u001b[0m \u001b[1;33m\u001b[0m\u001b[0m\n\u001b[0;32m    300\u001b[0m         \u001b[0mself\u001b[0m\u001b[1;33m.\u001b[0m\u001b[0msparse_input_\u001b[0m \u001b[1;33m=\u001b[0m \u001b[0msp\u001b[0m\u001b[1;33m.\u001b[0m\u001b[0missparse\u001b[0m\u001b[1;33m(\u001b[0m\u001b[0my\u001b[0m\u001b[1;33m)\u001b[0m\u001b[1;33m\u001b[0m\u001b[1;33m\u001b[0m\u001b[0m\n\u001b[1;32m--> 301\u001b[1;33m         \u001b[0mself\u001b[0m\u001b[1;33m.\u001b[0m\u001b[0mclasses_\u001b[0m \u001b[1;33m=\u001b[0m \u001b[0munique_labels\u001b[0m\u001b[1;33m(\u001b[0m\u001b[0my\u001b[0m\u001b[1;33m)\u001b[0m\u001b[1;33m\u001b[0m\u001b[1;33m\u001b[0m\u001b[0m\n\u001b[0m\u001b[0;32m    302\u001b[0m         \u001b[1;32mreturn\u001b[0m \u001b[0mself\u001b[0m\u001b[1;33m\u001b[0m\u001b[1;33m\u001b[0m\u001b[0m\n\u001b[0;32m    303\u001b[0m \u001b[1;33m\u001b[0m\u001b[0m\n",
      "\u001b[1;32mG:\\Programmi\\miniconda3\\envs\\kernel\\lib\\site-packages\\sklearn\\utils\\multiclass.py\u001b[0m in \u001b[0;36munique_labels\u001b[1;34m(*ys)\u001b[0m\n\u001b[0;32m    100\u001b[0m     \u001b[0m_unique_labels\u001b[0m \u001b[1;33m=\u001b[0m \u001b[0m_FN_UNIQUE_LABELS\u001b[0m\u001b[1;33m.\u001b[0m\u001b[0mget\u001b[0m\u001b[1;33m(\u001b[0m\u001b[0mlabel_type\u001b[0m\u001b[1;33m,\u001b[0m \u001b[1;32mNone\u001b[0m\u001b[1;33m)\u001b[0m\u001b[1;33m\u001b[0m\u001b[1;33m\u001b[0m\u001b[0m\n\u001b[0;32m    101\u001b[0m     \u001b[1;32mif\u001b[0m \u001b[1;32mnot\u001b[0m \u001b[0m_unique_labels\u001b[0m\u001b[1;33m:\u001b[0m\u001b[1;33m\u001b[0m\u001b[1;33m\u001b[0m\u001b[0m\n\u001b[1;32m--> 102\u001b[1;33m         \u001b[1;32mraise\u001b[0m \u001b[0mValueError\u001b[0m\u001b[1;33m(\u001b[0m\u001b[1;34m\"Unknown label type: %s\"\u001b[0m \u001b[1;33m%\u001b[0m \u001b[0mrepr\u001b[0m\u001b[1;33m(\u001b[0m\u001b[0mys\u001b[0m\u001b[1;33m)\u001b[0m\u001b[1;33m)\u001b[0m\u001b[1;33m\u001b[0m\u001b[1;33m\u001b[0m\u001b[0m\n\u001b[0m\u001b[0;32m    103\u001b[0m \u001b[1;33m\u001b[0m\u001b[0m\n\u001b[0;32m    104\u001b[0m     \u001b[0mys_labels\u001b[0m \u001b[1;33m=\u001b[0m \u001b[0mset\u001b[0m\u001b[1;33m(\u001b[0m\u001b[0mchain\u001b[0m\u001b[1;33m.\u001b[0m\u001b[0mfrom_iterable\u001b[0m\u001b[1;33m(\u001b[0m\u001b[0m_unique_labels\u001b[0m\u001b[1;33m(\u001b[0m\u001b[0my\u001b[0m\u001b[1;33m)\u001b[0m \u001b[1;32mfor\u001b[0m \u001b[0my\u001b[0m \u001b[1;32min\u001b[0m \u001b[0mys\u001b[0m\u001b[1;33m)\u001b[0m\u001b[1;33m)\u001b[0m\u001b[1;33m\u001b[0m\u001b[1;33m\u001b[0m\u001b[0m\n",
      "\u001b[1;31mValueError\u001b[0m: Unknown label type: (array([-186.65004386,  172.26450221,   87.63704423,  -29.28412983,\n        -22.24395372,  -71.82116385,  -89.42881881,   17.74348851,\n        -91.98780414, -154.45581274, -205.99932861,  -22.63441729,\n         80.33411238,  165.25449566,  -44.0192526 ,  -41.62930277,\n          2.6915323 ,   25.63599589, -204.26464553,   -5.20350154,\n         30.39431319,  143.34409091, -160.60690103,  185.24639633,\n         35.93359346, -246.21709837,   26.8683438 ,  -24.28088814,\n       -145.40329222,    4.29923095,  162.02076367,  195.63478682,\n        -43.44663351,  -46.87620352,  -86.10823866,   67.80780969,\n        -85.5429439 ,   70.91738778, -252.40816249,  -59.4790153 ,\n        179.55908478, -190.63917353,   57.02974444,  -16.0839174 ,\n         27.5632778 , -142.49919578,  -59.86140171,  -81.83888326,\n         16.1188696 ,   -3.75152529,   17.81912076, -121.25224876,\n        -13.21465601,  -28.25819551,  -29.45393551,  -97.76479893,\n       -157.26752833,  -76.43257306,    4.12426895, -111.83328368,\n       -164.84820191,  416.46809976,  -75.12180539,   65.26988992,\n        -49.24504074,   95.68664372,   25.64018138,  -84.8486868 ,\n       -203.4716216 ,  -87.62260607,  -95.19403578,   68.93634348,\n       -143.79565482, -213.04633694,  136.5947441 ,   13.9802413 ,\n       -117.93079608,  -13.22627553,  -26.36814035,   76.11302677,\n        -48.22655653,   69.13418518,  -24.62865874, -178.31520356,\n       -196.92131082,    3.66423433,  115.76874031, -122.61033802,\n        -27.32410214, -222.52264124,  250.88270878,  -97.00485882,\n        -73.66712877,  -48.58790034,   20.54499847,  177.5811756 ,\n        -42.81779086,   48.48160004,  122.08246258,   55.00321204]),)"
     ]
    }
   ],
   "source": [
    "clf = KernelRidgeClassifier(kernel='linear')\n",
    "clf.fit(X, y)"
   ]
  },
  {
   "cell_type": "code",
   "execution_count": 65,
   "id": "6440e960",
   "metadata": {},
   "outputs": [
    {
     "data": {
      "text/plain": [
       "array([-186.65004386,  172.26450221,   87.63704423,  -29.28412983,\n",
       "        -22.24395372,  -71.82116385,  -89.42881881,   17.74348851,\n",
       "        -91.98780414, -154.45581274, -205.99932861,  -22.63441729,\n",
       "         80.33411238,  165.25449566,  -44.0192526 ,  -41.62930277,\n",
       "          2.6915323 ,   25.63599589, -204.26464553,   -5.20350154,\n",
       "         30.39431319,  143.34409091, -160.60690103,  185.24639633,\n",
       "         35.93359346, -246.21709837,   26.8683438 ,  -24.28088814,\n",
       "       -145.40329222,    4.29923095,  162.02076367,  195.63478682,\n",
       "        -43.44663351,  -46.87620352,  -86.10823866,   67.80780969,\n",
       "        -85.5429439 ,   70.91738778, -252.40816249,  -59.4790153 ,\n",
       "        179.55908478, -190.63917353,   57.02974444,  -16.0839174 ,\n",
       "         27.5632778 , -142.49919578,  -59.86140171,  -81.83888326,\n",
       "         16.1188696 ,   -3.75152529,   17.81912076, -121.25224876,\n",
       "        -13.21465601,  -28.25819551,  -29.45393551,  -97.76479893,\n",
       "       -157.26752833,  -76.43257306,    4.12426895, -111.83328368,\n",
       "       -164.84820191,  416.46809976,  -75.12180539,   65.26988992,\n",
       "        -49.24504074,   95.68664372,   25.64018138,  -84.8486868 ,\n",
       "       -203.4716216 ,  -87.62260607,  -95.19403578,   68.93634348,\n",
       "       -143.79565482, -213.04633694,  136.5947441 ,   13.9802413 ,\n",
       "       -117.93079608,  -13.22627553,  -26.36814035,   76.11302677,\n",
       "        -48.22655653,   69.13418518,  -24.62865874, -178.31520356,\n",
       "       -196.92131082,    3.66423433,  115.76874031, -122.61033802,\n",
       "        -27.32410214, -222.52264124,  250.88270878,  -97.00485882,\n",
       "        -73.66712877,  -48.58790034,   20.54499847,  177.5811756 ,\n",
       "        -42.81779086,   48.48160004,  122.08246258,   55.00321204])"
      ]
     },
     "execution_count": 65,
     "metadata": {},
     "output_type": "execute_result"
    }
   ],
   "source": [
    "y"
   ]
  },
  {
   "cell_type": "code",
   "execution_count": 66,
   "id": "638e7d80",
   "metadata": {
    "scrolled": false
   },
   "outputs": [
    {
     "data": {
      "text/plain": [
       "array([-356624.41461848,  329138.56321656,  167444.42675918,\n",
       "        -55951.95929598,  -42500.58993259, -137225.68709069,\n",
       "       -170867.89532544,   33901.7397125 , -175757.24134144,\n",
       "       -295112.2467751 , -393594.28188278,  -43246.63230129,\n",
       "        153491.02100215,  315744.83755573,  -84105.74069463,\n",
       "        -79539.3637413 ,    5142.59792996,   48981.62270629,\n",
       "       -390279.89564702,   -9942.11226196,   58073.14011939,\n",
       "        273881.54565208, -306864.87331199,  353942.52412336,\n",
       "         68656.8107199 , -470436.68867755,   51336.21821006,\n",
       "        -46392.47513932, -277815.97529352,    8214.36035833,\n",
       "        309566.28139919,  373791.1863692 ,  -83011.66141357,\n",
       "        -89564.39706695, -164523.40203883,  129557.53953732,\n",
       "       -163443.31703949,  135498.88003863, -482265.6953629 ,\n",
       "       -113644.06123797,  343076.01634754, -364246.27746217,\n",
       "        108964.34207963,  -30730.86675981,   52663.99946207,\n",
       "       -272267.23995884, -114374.67092549, -156366.12363785,\n",
       "         30797.64845338,   -7167.8821049 ,   34046.24707324,\n",
       "       -231671.58893354,  -25248.68929909,  -53991.74960971,\n",
       "        -56276.39990217, -186795.10311145, -300484.47388965,\n",
       "       -146036.51336701,    7880.06779463, -213675.16718746,\n",
       "       -314968.54911242,  795728.14029438, -143532.08451908,\n",
       "        124708.44261279,  -94090.43503957,  182824.45906041,\n",
       "         48989.61975265, -162116.82908971, -388764.69805478,\n",
       "       -167416.84035883, -181883.25372798,  131713.78174531,\n",
       "       -274744.32990206, -407058.70529909,  260985.85163201,\n",
       "         26711.46100553, -225325.42853717,  -25270.89022205,\n",
       "        -50380.50044955,  145425.96966269,  -92144.45994439,\n",
       "        132091.78959411,  -47056.94585304, -340699.38465349,\n",
       "       -376249.29383262,    7001.09894074,  221194.47919441,\n",
       "       -234266.43315784,  -52207.01656035, -425164.68268525,\n",
       "        479351.07491928, -185343.11740338, -140752.69488037,\n",
       "        -92834.86442316,   39254.46735914,  339296.90819426,\n",
       "        -81810.15811529,   92631.76090207,  233257.84367022,\n",
       "        105092.33156819])"
      ]
     },
     "execution_count": 66,
     "metadata": {},
     "output_type": "execute_result"
    }
   ],
   "source": [
    "clf.predict(y)"
   ]
  },
  {
   "cell_type": "markdown",
   "id": "946640da",
   "metadata": {},
   "source": [
    "## Comparison with *sklearn*"
   ]
  },
  {
   "cell_type": "code",
   "execution_count": 7,
   "id": "9639f880",
   "metadata": {},
   "outputs": [],
   "source": [
    "from sklearn.linear_model import RidgeClassifier"
   ]
  },
  {
   "cell_type": "code",
   "execution_count": 8,
   "id": "c47cf60e",
   "metadata": {},
   "outputs": [
    {
     "data": {
      "text/plain": [
       "RidgeClassifier()"
      ]
     },
     "execution_count": 8,
     "metadata": {},
     "output_type": "execute_result"
    }
   ],
   "source": [
    "clf = RidgeClassifier()\n",
    "clf.fit(Xtr, Ytr)"
   ]
  },
  {
   "cell_type": "code",
   "execution_count": 42,
   "id": "99f2d6b3",
   "metadata": {},
   "outputs": [
    {
     "data": {
      "text/plain": [
       "array([1, 5, 1, 0, 1, 4, 6, 0, 1, 6], dtype=int64)"
      ]
     },
     "execution_count": 42,
     "metadata": {},
     "output_type": "execute_result"
    }
   ],
   "source": [
    "clf.predict(Xte[:10])"
   ]
  }
 ],
 "metadata": {
  "kernelspec": {
   "display_name": "Python 3 (ipykernel)",
   "language": "python",
   "name": "python3"
  },
  "language_info": {
   "codemirror_mode": {
    "name": "ipython",
    "version": 3
   },
   "file_extension": ".py",
   "mimetype": "text/x-python",
   "name": "python",
   "nbconvert_exporter": "python",
   "pygments_lexer": "ipython3",
   "version": "3.8.12"
  },
  "toc": {
   "base_numbering": 1,
   "nav_menu": {},
   "number_sections": false,
   "sideBar": false,
   "skip_h1_title": false,
   "title_cell": "Table of Contents",
   "title_sidebar": "Contents",
   "toc_cell": false,
   "toc_position": {},
   "toc_section_display": true,
   "toc_window_display": false
  }
 },
 "nbformat": 4,
 "nbformat_minor": 5
}
