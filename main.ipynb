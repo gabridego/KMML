{
 "cells": [
  {
   "cell_type": "markdown",
   "id": "94cf7738",
   "metadata": {},
   "source": [
    "# Kernel methods for machine learning - image classification challenge"
   ]
  },
  {
   "cell_type": "markdown",
   "id": "4908eba2",
   "metadata": {},
   "source": [
    "## Imports"
   ]
  },
  {
   "cell_type": "markdown",
   "id": "formed-shield",
   "metadata": {},
   "source": [
    "### Libraries"
   ]
  },
  {
   "cell_type": "code",
   "execution_count": 1,
   "id": "05b76b91",
   "metadata": {},
   "outputs": [],
   "source": [
    "import pandas as pd\n",
    "import numpy as np\n",
    "import matplotlib.pyplot as plt\n",
    "%matplotlib inline"
   ]
  },
  {
   "cell_type": "markdown",
   "id": "b860291e",
   "metadata": {},
   "source": [
    "### Helper functions"
   ]
  },
  {
   "cell_type": "code",
   "execution_count": 2,
   "id": "c736053d",
   "metadata": {},
   "outputs": [],
   "source": [
    "from sklearn.model_selection import StratifiedKFold, GridSearchCV, ParameterGrid"
   ]
  },
  {
   "cell_type": "markdown",
   "id": "vulnerable-scope",
   "metadata": {},
   "source": [
    "### Implemented classes"
   ]
  },
  {
   "cell_type": "code",
   "execution_count": 3,
   "id": "organic-lightning",
   "metadata": {},
   "outputs": [],
   "source": [
    "from models import *\n",
    "from utils import *"
   ]
  },
  {
   "cell_type": "markdown",
   "id": "5cb77269",
   "metadata": {},
   "source": [
    "## Load data"
   ]
  },
  {
   "cell_type": "code",
   "execution_count": 4,
   "id": "c9ae23c3",
   "metadata": {},
   "outputs": [],
   "source": [
    "Xtr = np.array(pd.read_csv('data/Xtr.csv', header=None, sep=',', usecols=range(3072)))\n",
    "Xte = np.array(pd.read_csv('data/Xte.csv', header=None, sep=',', usecols=range(3072)))\n",
    "Ytr = np.array(pd.read_csv('data/Ytr.csv', sep=',', usecols=[1])).squeeze()\n",
    "\n",
    "classes = ['airplane', 'automobile', 'bird', 'cat', 'deer', 'dog', 'frog', 'horse', 'ship', 'truck']"
   ]
  },
  {
   "cell_type": "code",
   "execution_count": 5,
   "id": "d0e2420e",
   "metadata": {},
   "outputs": [
    {
     "data": {
      "text/plain": [
       "array([8, 9, 3, ..., 1, 7, 5])"
      ]
     },
     "execution_count": 5,
     "metadata": {},
     "output_type": "execute_result"
    }
   ],
   "source": [
    "Ytr"
   ]
  },
  {
   "cell_type": "markdown",
   "id": "101212ff",
   "metadata": {},
   "source": [
    "## Visualization"
   ]
  },
  {
   "cell_type": "code",
   "execution_count": 6,
   "id": "atomic-airport",
   "metadata": {},
   "outputs": [
    {
     "name": "stdout",
     "output_type": "stream",
     "text": [
      "automobile\n"
     ]
    },
    {
     "data": {
      "image/png": "[encoded data removed]",
      "text/plain": [
       "<Figure size 432x288 with 1 Axes>"
      ]
     },
     "metadata": {
      "needs_background": "light"
     },
     "output_type": "display_data"
    }
   ],
   "source": [
    "i = 1000\n",
    "show_image(Xtr[i], classes[Ytr[i]])"
   ]
  },
  {
   "cell_type": "markdown",
   "id": "38cca75d",
   "metadata": {},
   "source": [
    "## Training"
   ]
  },
  {
   "cell_type": "markdown",
   "id": "a7b0ace6",
   "metadata": {},
   "source": [
    "Feature scaling:"
   ]
  },
  {
   "cell_type": "code",
   "execution_count": null,
   "id": "6a90eec5",
   "metadata": {},
   "outputs": [],
   "source": [
    "scaler = StandardScaler()\n",
    "Xtr_scaled = scaler.fit_transform(Xtr)"
   ]
  },
  {
   "cell_type": "markdown",
   "id": "09324aac",
   "metadata": {},
   "source": [
    "Kernel ridge regression with linear kernel:"
   ]
  },
  {
   "cell_type": "code",
   "execution_count": null,
   "id": "4a5ba898",
   "metadata": {
    "scrolled": false
   },
   "outputs": [],
   "source": [
    "clf = KernelRidgeClassifier(kernel='linear')\n",
    "start = time.time()\n",
    "clf.fit(Xtr_scaled, Ytr)\n",
    "end = time.time()\n",
    "print(f\"fit completed in {end - start:2f} seconds\")"
   ]
  },
  {
   "cell_type": "markdown",
   "id": "4cef825c",
   "metadata": {},
   "source": [
    "**Kernel ridge regression with gaussian kernel:**"
   ]
  },
  {
   "cell_type": "code",
   "execution_count": null,
   "id": "8ff970c3",
   "metadata": {
    "scrolled": true
   },
   "outputs": [],
   "source": [
    "clf = KernelRidgeClassifier(kernel='rbf')\n",
    "start = time.time()\n",
    "clf.fit(Xtr_scaled, Ytr)\n",
    "end = time.time()\n",
    "print(f\"fit completed in {end - start:2f} seconds\")"
   ]
  },
  {
   "cell_type": "markdown",
   "id": "e5a301b9",
   "metadata": {},
   "source": [
    "With cross-validation:"
   ]
  },
  {
   "cell_type": "code",
   "execution_count": null,
   "id": "fb06b071",
   "metadata": {
    "scrolled": false
   },
   "outputs": [],
   "source": [
    "skf = StratifiedKFold(n_splits=5, shuffle=True)\n",
    "ridge = KernelRidgeClassifier(kernel='rbf')\n",
    "params = {'C': [0.00001, 0.0001, 0.001, 0.01], 'gamma': [0.00001, 0.0001, 0.001, 0.01]}\n",
    "clf = GridSearchCV(ridge, params, scoring='accuracy', cv=skf, verbose=5)\n",
    "clf.fit(Xtr_scaled, Ytr)\n",
    "print(clf.best_params_)\n",
    "print(clf.best_score_)"
   ]
  },
  {
   "cell_type": "code",
   "execution_count": null,
   "id": "b2efa3dc",
   "metadata": {
    "scrolled": false
   },
   "outputs": [],
   "source": [
    "clf.cv_results_"
   ]
  },
  {
   "cell_type": "markdown",
   "id": "ac079a65",
   "metadata": {},
   "source": [
    "## Predict and export"
   ]
  },
  {
   "cell_type": "code",
   "execution_count": null,
   "id": "c8b18885",
   "metadata": {},
   "outputs": [],
   "source": [
    "Xte_scaled = scaler.transform(Xte)"
   ]
  },
  {
   "cell_type": "code",
   "execution_count": null,
   "id": "5e7235a5",
   "metadata": {
    "scrolled": true
   },
   "outputs": [],
   "source": [
    "start = time.time()\n",
    "Yte = clf.predict(Xte_scaled)\n",
    "end = time.time()\n",
    "print(f\"predict completed in {end - start:.2f} seconds\")"
   ]
  },
  {
   "cell_type": "code",
   "execution_count": null,
   "id": "e94c7535",
   "metadata": {},
   "outputs": [],
   "source": [
    "Yte = {'Prediction' : Yte}\n",
    "dataframe = pd.DataFrame(Yte)\n",
    "dataframe.index += 1\n",
    "dataframe.to_csv('Yte_pred_krr_rbf_C0.00001_gamma0.0001_scaled.csv', index_label='Id')"
   ]
  },
  {
   "cell_type": "markdown",
   "id": "73e5d2f0",
   "metadata": {},
   "source": [
    "## Tests"
   ]
  },
  {
   "cell_type": "code",
   "execution_count": null,
   "id": "0fd8f75c",
   "metadata": {},
   "outputs": [],
   "source": [
    "from sklearn.datasets import make_classification\n",
    "from sklearn.linear_model import RidgeClassifier"
   ]
  },
  {
   "cell_type": "code",
   "execution_count": null,
   "id": "75486b7f",
   "metadata": {},
   "outputs": [],
   "source": [
    "X, y = make_classification(n_informative=5, n_classes=10)\n",
    "y"
   ]
  },
  {
   "cell_type": "code",
   "execution_count": null,
   "id": "b305aae6",
   "metadata": {
    "scrolled": true
   },
   "outputs": [],
   "source": [
    "clf = KernelRidgeClassifier(kernel='rbf', gamma=0.01, verbose=False)\n",
    "clf.fit(X, y)\n",
    "clf.predict(X)"
   ]
  },
  {
   "cell_type": "code",
   "execution_count": null,
   "id": "914e843a",
   "metadata": {},
   "outputs": [],
   "source": [
    "clf.K.similarity_matrix()"
   ]
  },
  {
   "cell_type": "code",
   "execution_count": null,
   "id": "0870d9ee",
   "metadata": {},
   "outputs": [],
   "source": [
    "clf = RidgeClassifier(fit_intercept=False)\n",
    "clf.fit(X, Ytr)\n",
    "Yte = clf.predict(Xte_scaled)"
   ]
  },
  {
   "cell_type": "markdown",
   "id": "56225cf6",
   "metadata": {},
   "source": [
    "### Comparison for regression"
   ]
  },
  {
   "cell_type": "code",
   "execution_count": 7,
   "id": "19bc5678",
   "metadata": {},
   "outputs": [],
   "source": [
    "from sklearn.kernel_ridge import KernelRidge\n",
    "from sklearn.datasets import make_regression"
   ]
  },
  {
   "cell_type": "code",
   "execution_count": 8,
   "id": "c2b2fa04",
   "metadata": {},
   "outputs": [
    {
     "data": {
      "image/png": "[encoded data removed]",
      "text/plain": [
       "<Figure size 432x288 with 1 Axes>"
      ]
     },
     "metadata": {
      "needs_background": "light"
     },
     "output_type": "display_data"
    }
   ],
   "source": [
    "x = np.linspace(2,30,100)\n",
    "y= x + 4*np.sin(x)+ 4*np.random.rand(x.shape[0])\n",
    "plt.scatter(x, y)\n",
    "plt.show()"
   ]
  },
  {
   "cell_type": "code",
   "execution_count": 9,
   "id": "departmental-secret",
   "metadata": {},
   "outputs": [],
   "source": [
    "C = 0.01\n",
    "gamma = 10"
   ]
  },
  {
   "cell_type": "code",
   "execution_count": 10,
   "id": "b172c875",
   "metadata": {},
   "outputs": [
    {
     "name": "stdout",
     "output_type": "stream",
     "text": [
      "Start computing kernel similarity matrix...\n",
      "Kernel similarity matrix computed in 0.00 seconds\n",
      "Predicting...\n"
     ]
    },
    {
     "name": "stderr",
     "output_type": "stream",
     "text": [
      "100%|██████████| 175/175 [00:00<00:00, 1428.10it/s]\n"
     ]
    }
   ],
   "source": [
    "x = StandardScaler().fit_transform(x.reshape(-1,1))[:,0]\n",
    "reg = KernelRidgeRegressor(C=C/len(x), kernel='rbf', gamma=gamma)\n",
    "reg.fit(x.reshape(-1,1), y)\n",
    "x_pred=np.arange(0,35,0.2)\n",
    "x_pred = StandardScaler().fit_transform(x_pred.reshape(-1, 1))[:,0]\n",
    "y_pred = reg.predict(x_pred)"
   ]
  },
  {
   "cell_type": "code",
   "execution_count": 11,
   "id": "ebd75b07",
   "metadata": {
    "scrolled": true
   },
   "outputs": [],
   "source": [
    "reg2 = KernelRidge(alpha=C, kernel='rbf', gamma=gamma)\n",
    "reg2.fit(x.reshape(-1,1), y)\n",
    "y_pred2 = reg2.predict(x_pred.reshape(-1,1))"
   ]
  },
  {
   "cell_type": "code",
   "execution_count": 12,
   "id": "82557112",
   "metadata": {
    "scrolled": true
   },
   "outputs": [
    {
     "data": {
      "image/png": "[encoded data removed]",
      "text/plain": [
       "<Figure size 432x288 with 1 Axes>"
      ]
     },
     "metadata": {
      "needs_background": "light"
     },
     "output_type": "display_data"
    }
   ],
   "source": [
    "plt.scatter(x, y)\n",
    "plt.plot(x_pred, y_pred)\n",
    "plt.plot(x_pred, y_pred2, linestyle=(0, (5, 10)))\n",
    "plt.show()"
   ]
  },
  {
   "cell_type": "markdown",
   "id": "monthly-border",
   "metadata": {},
   "source": [
    "In our implementation, regularization is multiplied by the number of training examples. Fixing the regularization factor, its behavior is the same as sklearn's KernelRidge if the value is divided by the number of examples. It is also important to standardize."
   ]
  },
  {
   "cell_type": "code",
   "execution_count": 13,
   "id": "announced-sudan",
   "metadata": {},
   "outputs": [
    {
     "name": "stdout",
     "output_type": "stream",
     "text": [
      "Start computing kernel similarity matrix...\n",
      "Kernel similarity matrix computed in 0.14 seconds\n",
      "Predicting...\n"
     ]
    },
    {
     "name": "stderr",
     "output_type": "stream",
     "text": [
      "100%|██████████| 1000/1000 [00:07<00:00, 132.03it/s]\n"
     ]
    }
   ],
   "source": [
    "X, y = make_regression(n_samples=1000, n_features=500)\n",
    "#X = StandardScaler().fit_transform(X)\n",
    "\n",
    "reg1 = KernelRidgeRegressor(C=C/len(X), kernel='rbf', gamma=gamma)\n",
    "reg1.fit(X, y)\n",
    "y_pred1 = reg1.predict(X)\n",
    "\n",
    "reg2 = KernelRidge(alpha=C, kernel='rbf', gamma=gamma)\n",
    "reg2.fit(X, y)\n",
    "y_pred2 = reg2.predict(X)"
   ]
  },
  {
   "cell_type": "code",
   "execution_count": 14,
   "id": "closed-filename",
   "metadata": {},
   "outputs": [
    {
     "name": "stdout",
     "output_type": "stream",
     "text": [
      "3.096179128528922\n",
      "3.096179128528922\n"
     ]
    }
   ],
   "source": [
    "from sklearn.metrics import mean_squared_error\n",
    "print(mean_squared_error(y, y_pred1))\n",
    "print(mean_squared_error(y, y_pred2))"
   ]
  }
 ],
 "metadata": {
  "kernelspec": {
   "display_name": "Python 3",
   "language": "python",
   "name": "python3"
  },
  "language_info": {
   "codemirror_mode": {
    "name": "ipython",
    "version": 3
   },
   "file_extension": ".py",
   "mimetype": "text/x-python",
   "name": "python",
   "nbconvert_exporter": "python",
   "pygments_lexer": "ipython3",
   "version": "3.8.10"
  },
  "toc": {
   "base_numbering": 1,
   "nav_menu": {},
   "number_sections": false,
   "sideBar": false,
   "skip_h1_title": false,
   "title_cell": "Table of Contents",
   "title_sidebar": "Contents",
   "toc_cell": false,
   "toc_position": {},
   "toc_section_display": true,
   "toc_window_display": false
  }
 },
 "nbformat": 4,
 "nbformat_minor": 5
}
