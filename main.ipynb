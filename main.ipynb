{
 "cells": [
  {
   "cell_type": "markdown",
   "metadata": {},
   "source": [
    "# Kernel methods for machine learning - image classification challenge"
   ]
  },
  {
   "cell_type": "markdown",
   "metadata": {},
   "source": [
    "## Imports"
   ]
  },
  {
   "cell_type": "markdown",
   "metadata": {},
   "source": [
    "### Libraries"
   ]
  },
  {
   "cell_type": "code",
   "execution_count": 1,
   "metadata": {},
   "outputs": [],
   "source": [
    "import pandas as pd\n",
    "import numpy as np\n",
    "import matplotlib.pyplot as plt\n",
    "%matplotlib inline"
   ]
  },
  {
   "cell_type": "markdown",
   "metadata": {},
   "source": [
    "### Helper functions"
   ]
  },
  {
   "cell_type": "code",
   "execution_count": 2,
   "metadata": {},
   "outputs": [],
   "source": [
    "from sklearn.model_selection import StratifiedKFold, GridSearchCV, ParameterGrid\n",
    "from sklearn.pipeline import Pipeline"
   ]
  },
  {
   "cell_type": "markdown",
   "metadata": {},
   "source": [
    "### Implemented classes"
   ]
  },
  {
   "cell_type": "code",
   "execution_count": 3,
   "metadata": {},
   "outputs": [],
   "source": [
    "from models import *\n",
    "from utils import *"
   ]
  },
  {
   "cell_type": "markdown",
   "metadata": {},
   "source": [
    "## Load data"
   ]
  },
  {
   "cell_type": "code",
   "execution_count": 4,
   "metadata": {},
   "outputs": [],
   "source": [
    "Xtr = np.array(pd.read_csv('data/Xtr.csv', header=None, sep=',', usecols=range(3072)))\n",
    "Xte = np.array(pd.read_csv('data/Xte.csv', header=None, sep=',', usecols=range(3072)))\n",
    "Ytr = np.array(pd.read_csv('data/Ytr.csv', sep=',', usecols=[1])).squeeze()\n",
    "\n",
    "classes = ['airplane', 'automobile', 'bird', 'cat', 'deer', 'dog', 'frog', 'horse', 'ship', 'truck']"
   ]
  },
  {
   "cell_type": "code",
   "execution_count": 5,
   "metadata": {},
   "outputs": [
    {
     "data": {
      "text/plain": [
       "array([8, 9, 3, ..., 1, 7, 5])"
      ]
     },
     "execution_count": 5,
     "metadata": {},
     "output_type": "execute_result"
    }
   ],
   "source": [
    "Ytr"
   ]
  },
  {
   "cell_type": "markdown",
   "metadata": {},
   "source": [
    "## Visualization"
   ]
  },
  {
   "cell_type": "code",
   "execution_count": 36,
   "metadata": {
    "scrolled": true
   },
   "outputs": [
    {
     "name": "stdout",
     "output_type": "stream",
     "text": [
      "dog\n"
     ]
    },
    {
     "data": {
      "image/png": "[encoded data removed]",
      "text/plain": [
       "<Figure size 432x288 with 1 Axes>"
      ]
     },
     "metadata": {
      "needs_background": "light"
     },
     "output_type": "display_data"
    }
   ],
   "source": [
    "i = 12\n",
    "show_image(X[i], classes[Yte[i]])"
   ]
  },
  {
   "cell_type": "markdown",
   "metadata": {},
   "source": [
    "## Data processing"
   ]
  },
  {
   "cell_type": "code",
   "execution_count": 24,
   "metadata": {},
   "outputs": [],
   "source": [
    "X, y = augment_dataset(Xtr, Ytr, ratio=1)"
   ]
  },
  {
   "cell_type": "code",
   "execution_count": 26,
   "metadata": {},
   "outputs": [],
   "source": [
    "hogs = HOGExtractor().fit_transform(X)"
   ]
  },
  {
   "cell_type": "markdown",
   "metadata": {},
   "source": [
    "## Training"
   ]
  },
  {
   "cell_type": "markdown",
   "metadata": {},
   "source": [
    "Feature scaling:"
   ]
  },
  {
   "cell_type": "code",
   "execution_count": 8,
   "metadata": {},
   "outputs": [],
   "source": [
    "scaler = StandardScaler()\n",
    "Xtr_scaled = scaler.fit_transform(Xtr)"
   ]
  },
  {
   "cell_type": "markdown",
   "metadata": {},
   "source": [
    "Kernel ridge regression with linear kernel:"
   ]
  },
  {
   "cell_type": "code",
   "execution_count": null,
   "metadata": {
    "scrolled": false
   },
   "outputs": [],
   "source": [
    "clf = KernelRidgeClassifier(kernel='linear')\n",
    "start = time.time()\n",
    "clf.fit(Xtr_scaled, Ytr)\n",
    "end = time.time()\n",
    "print(f\"fit completed in {end - start:2f} seconds\")"
   ]
  },
  {
   "cell_type": "markdown",
   "metadata": {},
   "source": [
    "Kernel ridge regression with gaussian kernel:"
   ]
  },
  {
   "cell_type": "code",
   "execution_count": null,
   "metadata": {
    "scrolled": true
   },
   "outputs": [],
   "source": [
    "clf = KernelRidgeClassifier(kernel='rbf')\n",
    "start = time.time()\n",
    "clf.fit(Xtr_scaled, Ytr)\n",
    "end = time.time()\n",
    "print(f\"fit completed in {end - start:2f} seconds\")"
   ]
  },
  {
   "cell_type": "code",
   "execution_count": 185,
   "metadata": {},
   "outputs": [
    {
     "name": "stdout",
     "output_type": "stream",
     "text": [
      "Start computing kernel similarity matrix...\n",
      "Kernel similarity matrix computed in 0.10 seconds\n"
     ]
    },
    {
     "name": "stderr",
     "output_type": "stream",
     "text": [
      "100%|███████████████████████████████████████████| 10/10 [00:04<00:00,  2.05it/s]"
     ]
    },
    {
     "name": "stdout",
     "output_type": "stream",
     "text": [
      "fit completed in 5.000481 seconds\n"
     ]
    },
    {
     "name": "stderr",
     "output_type": "stream",
     "text": [
      "\n"
     ]
    }
   ],
   "source": [
    "clf = KernelRidgeClassifier(kernel='linear')\n",
    "start = time.time()\n",
    "clf.fit(hogs[:4000], Ytr[:4000])\n",
    "end = time.time()\n",
    "print(f\"fit completed in {end - start:2f} seconds\")"
   ]
  },
  {
   "cell_type": "code",
   "execution_count": 186,
   "metadata": {},
   "outputs": [
    {
     "name": "stdout",
     "output_type": "stream",
     "text": [
      "Predicting...\n"
     ]
    },
    {
     "name": "stderr",
     "output_type": "stream",
     "text": [
      "100%|█████████████████████████████████████| 1000/1000 [00:00<00:00, 5662.01it/s]"
     ]
    },
    {
     "name": "stdout",
     "output_type": "stream",
     "text": [
      "0.369\n"
     ]
    },
    {
     "name": "stderr",
     "output_type": "stream",
     "text": [
      "\n"
     ]
    }
   ],
   "source": [
    "preds = clf.predict(hogs[4000:])\n",
    "print(accuracy_score(Ytr[4000:], preds))"
   ]
  },
  {
   "cell_type": "markdown",
   "metadata": {},
   "source": [
    "Linear support vector machines:"
   ]
  },
  {
   "cell_type": "code",
   "execution_count": 31,
   "metadata": {
    "scrolled": true
   },
   "outputs": [
    {
     "name": "stdout",
     "output_type": "stream",
     "text": [
      "Start computing kernel similarity matrix...\n",
      "Kernel similarity matrix computed in 0.44 seconds\n"
     ]
    },
    {
     "name": "stderr",
     "output_type": "stream",
     "text": [
      "\r",
      "  0%|                                                    | 0/10 [00:00<?, ?it/s]"
     ]
    },
    {
     "name": "stdout",
     "output_type": "stream",
     "text": [
      "     pcost       dcost       gap    pres   dres\n",
      " 0: -3.5154e+03 -3.3023e+05  1e+06  8e-01  2e-11\n",
      " 1: -1.2365e+03 -1.4312e+05  3e+05  2e-01  1e-11\n",
      " 2: -1.3865e+02 -8.3244e+04  2e+05  1e-01  1e-11\n",
      " 3:  5.9321e+02 -1.9443e+04  3e+04  2e-02  5e-12\n",
      " 4:  3.0646e+02 -4.3820e+03  7e+03  3e-03  1e-12\n",
      " 5:  1.3475e+02 -9.7237e+02  1e+03  5e-04  5e-13\n",
      " 6:  2.8717e+01 -6.9174e+01  1e+02  5e-06  2e-13\n",
      " 7: -1.8053e+00 -1.4160e+01  1e+01  7e-16  1e-13\n",
      " 8: -4.7703e+00 -9.1180e+00  4e+00  2e-16  6e-14\n",
      " 9: -5.7557e+00 -7.8059e+00  2e+00  3e-16  5e-14\n",
      "10: -6.3222e+00 -6.9831e+00  7e-01  2e-16  5e-14\n",
      "11: -6.4873e+00 -6.6086e+00  1e-01  5e-16  6e-14\n",
      "12: -6.5202e+00 -6.5340e+00  1e-02  2e-16  6e-14\n",
      "13: -6.5243e+00 -6.5249e+00  6e-04  6e-16  6e-14\n",
      "14: -6.5245e+00 -6.5245e+00  2e-05  7e-16  6e-14\n"
     ]
    },
    {
     "name": "stderr",
     "output_type": "stream",
     "text": [
      "\r",
      " 10%|████▍                                       | 1/10 [00:32<04:48, 32.08s/it]"
     ]
    },
    {
     "name": "stdout",
     "output_type": "stream",
     "text": [
      "15: -6.5245e+00 -6.5245e+00  3e-07  2e-16  6e-14\n",
      "Optimal solution found.\n",
      "     pcost       dcost       gap    pres   dres\n",
      " 0: -2.6781e+03 -3.2799e+05  1e+06  8e-01  2e-11\n",
      " 1: -5.3670e+02 -1.3057e+05  2e+05  2e-01  1e-11\n",
      " 2:  4.7704e+02 -2.6739e+04  4e+04  2e-02  7e-12\n",
      " 3:  2.2391e+02 -5.6496e+03  9e+03  4e-03  2e-12\n",
      " 4:  1.0245e+02 -1.5337e+03  2e+03  1e-03  5e-13\n",
      " 5:  4.1493e+01 -2.0114e+02  3e+02  7e-05  2e-13\n",
      " 6:  5.6948e+00 -1.6348e+01  2e+01  7e-07  8e-14\n",
      " 7: -1.0161e+00 -4.4852e+00  3e+00  4e-08  4e-14\n",
      " 8: -1.7767e+00 -3.2999e+00  2e+00  1e-08  3e-14\n",
      " 9: -2.1567e+00 -2.9261e+00  8e-01  2e-09  2e-14\n",
      "10: -2.3377e+00 -2.5261e+00  2e-01  8e-11  3e-14\n",
      "11: -2.3874e+00 -2.4128e+00  3e-02  7e-13  3e-14\n",
      "12: -2.3955e+00 -2.3971e+00  2e-03  4e-14  3e-14\n",
      "13: -2.3960e+00 -2.3961e+00  5e-05  1e-15  3e-14\n"
     ]
    },
    {
     "name": "stderr",
     "output_type": "stream",
     "text": [
      "\r",
      " 20%|████████▊                                   | 2/10 [01:02<04:08, 31.07s/it]"
     ]
    },
    {
     "name": "stdout",
     "output_type": "stream",
     "text": [
      "14: -2.3960e+00 -2.3960e+00  1e-06  2e-16  3e-14\n",
      "Optimal solution found.\n",
      "     pcost       dcost       gap    pres   dres\n",
      " 0: -3.2387e+03 -3.4164e+05  1e+06  9e-01  2e-11\n",
      " 1: -8.7097e+02 -1.5568e+05  3e+05  2e-01  1e-11\n",
      " 2:  1.9635e+02 -7.8207e+04  1e+05  8e-02  8e-12\n",
      " 3:  7.8841e+02 -2.8423e+04  4e+04  2e-02  4e-12\n",
      " 4:  4.0278e+02 -7.0493e+03  1e+04  3e-03  1e-12\n",
      " 5:  1.6841e+02 -1.2287e+03  2e+03  4e-04  4e-13\n",
      " 6:  3.5286e+01 -7.5278e+01  1e+02  5e-06  2e-13\n",
      " 7:  7.5236e-02 -1.4027e+01  1e+01  4e-15  8e-14\n",
      " 8: -3.4217e+00 -7.8346e+00  4e+00  4e-16  4e-14\n",
      " 9: -4.4287e+00 -6.5759e+00  2e+00  4e-16  4e-14\n",
      "10: -4.9805e+00 -5.9344e+00  1e+00  2e-16  4e-14\n",
      "11: -5.1887e+00 -5.4631e+00  3e-01  6e-16  4e-14\n",
      "12: -5.2573e+00 -5.2982e+00  4e-02  3e-16  4e-14\n",
      "13: -5.2691e+00 -5.2709e+00  2e-03  2e-16  4e-14\n",
      "14: -5.2696e+00 -5.2697e+00  6e-05  3e-16  4e-14\n"
     ]
    },
    {
     "name": "stderr",
     "output_type": "stream",
     "text": [
      "\r",
      " 30%|█████████████▏                              | 3/10 [01:35<03:44, 32.00s/it]"
     ]
    },
    {
     "name": "stdout",
     "output_type": "stream",
     "text": [
      "15: -5.2697e+00 -5.2697e+00  1e-06  2e-16  4e-14\n",
      "Optimal solution found.\n",
      "     pcost       dcost       gap    pres   dres\n",
      " 0: -3.4281e+03 -3.4473e+05  1e+06  9e-01  2e-11\n",
      " 1: -1.1121e+03 -1.4643e+05  3e+05  2e-01  1e-11\n",
      " 2:  2.7337e+02 -6.3241e+04  1e+05  7e-02  9e-12\n",
      " 3:  4.6264e+02 -1.0740e+04  2e+04  1e-02  4e-12\n",
      " 4:  2.2719e+02 -2.5727e+03  4e+03  2e-03  1e-12\n",
      " 5:  9.4296e+01 -5.2399e+02  7e+02  2e-04  4e-13\n",
      " 6:  1.4493e+01 -4.1353e+01  6e+01  2e-06  2e-13\n",
      " 7: -2.5432e+00 -1.0691e+01  8e+00  9e-08  8e-14\n",
      " 8: -4.3415e+00 -7.9403e+00  4e+00  3e-08  5e-14\n",
      " 9: -5.1178e+00 -7.6203e+00  3e+00  4e-16  5e-14\n",
      "10: -5.5380e+00 -6.2138e+00  7e-01  2e-16  5e-14\n",
      "11: -5.6867e+00 -5.7831e+00  1e-01  6e-16  5e-14\n",
      "12: -5.7122e+00 -5.7208e+00  9e-03  8e-16  5e-14\n",
      "13: -5.7147e+00 -5.7151e+00  4e-04  4e-16  5e-14\n",
      "14: -5.7148e+00 -5.7148e+00  1e-05  2e-16  5e-14\n"
     ]
    },
    {
     "name": "stderr",
     "output_type": "stream",
     "text": [
      "\r",
      " 40%|█████████████████▌                          | 4/10 [02:07<03:12, 32.15s/it]"
     ]
    },
    {
     "name": "stdout",
     "output_type": "stream",
     "text": [
      "15: -5.7148e+00 -5.7148e+00  2e-07  3e-16  5e-14\n",
      "Optimal solution found.\n",
      "     pcost       dcost       gap    pres   dres\n",
      " 0: -3.2125e+03 -3.8113e+05  1e+06  1e+00  2e-11\n",
      " 1: -1.0811e+03 -1.7342e+05  3e+05  2e-01  1e-11\n",
      " 2:  1.9606e+02 -8.3425e+04  2e+05  9e-02  8e-12\n",
      " 3:  5.3696e+02 -1.8211e+04  3e+04  2e-02  4e-12\n",
      " 4:  3.0755e+02 -4.6100e+03  7e+03  3e-03  1e-12\n",
      " 5:  1.4568e+02 -1.0934e+03  2e+03  5e-04  4e-13\n",
      " 6:  3.2963e+01 -7.0182e+01  1e+02  5e-06  2e-13\n",
      " 7:  7.2969e-02 -1.3155e+01  1e+01  6e-15  8e-14\n",
      " 8: -3.1263e+00 -7.4865e+00  4e+00  1e-15  4e-14\n",
      " 9: -4.2325e+00 -5.9968e+00  2e+00  2e-16  4e-14\n",
      "10: -4.7004e+00 -5.3516e+00  7e-01  3e-16  4e-14\n",
      "11: -4.8456e+00 -4.9514e+00  1e-01  2e-16  4e-14\n",
      "12: -4.8756e+00 -4.8845e+00  9e-03  3e-16  4e-14\n",
      "13: -4.8783e+00 -4.8788e+00  5e-04  2e-16  4e-14\n",
      "14: -4.8785e+00 -4.8785e+00  1e-05  2e-16  4e-14\n"
     ]
    },
    {
     "name": "stderr",
     "output_type": "stream",
     "text": [
      "\r",
      " 50%|██████████████████████                      | 5/10 [02:40<02:41, 32.23s/it]"
     ]
    },
    {
     "name": "stdout",
     "output_type": "stream",
     "text": [
      "15: -4.8785e+00 -4.8785e+00  3e-07  3e-16  4e-14\n",
      "Optimal solution found.\n",
      "     pcost       dcost       gap    pres   dres\n",
      " 0: -3.2751e+03 -3.6516e+05  1e+06  9e-01  2e-11\n",
      " 1: -1.0002e+03 -1.6615e+05  3e+05  2e-01  1e-11\n",
      " 2:  2.7917e+02 -7.7373e+04  1e+05  8e-02  8e-12\n",
      " 3:  4.6528e+02 -1.4160e+04  2e+04  1e-02  3e-12\n",
      " 4:  2.4097e+02 -3.5680e+03  6e+03  2e-03  1e-12\n",
      " 5:  1.0451e+02 -6.3231e+02  9e+02  3e-04  3e-13\n",
      " 6:  2.0000e+01 -4.5059e+01  7e+01  3e-06  1e-13\n",
      " 7: -9.1386e-01 -9.3358e+00  8e+00  2e-15  7e-14\n",
      " 8: -2.9070e+00 -5.9107e+00  3e+00  6e-16  4e-14\n",
      " 9: -3.5741e+00 -5.0040e+00  1e+00  5e-16  3e-14\n",
      "10: -3.9433e+00 -4.4732e+00  5e-01  2e-16  3e-14\n",
      "11: -4.0962e+00 -4.1967e+00  1e-01  2e-16  4e-14\n",
      "12: -4.1250e+00 -4.1342e+00  9e-03  2e-16  3e-14\n",
      "13: -4.1279e+00 -4.1283e+00  4e-04  2e-16  4e-14\n",
      "14: -4.1280e+00 -4.1280e+00  1e-05  2e-16  4e-14\n"
     ]
    },
    {
     "name": "stderr",
     "output_type": "stream",
     "text": [
      "\r",
      " 60%|██████████████████████████▍                 | 6/10 [03:12<02:09, 32.28s/it]"
     ]
    },
    {
     "name": "stdout",
     "output_type": "stream",
     "text": [
      "15: -4.1280e+00 -4.1280e+00  4e-07  2e-16  4e-14\n",
      "Optimal solution found.\n",
      "     pcost       dcost       gap    pres   dres\n",
      " 0: -2.8818e+03 -3.1709e+05  9e+05  8e-01  2e-11\n",
      " 1: -5.8073e+02 -1.2938e+05  2e+05  2e-01  1e-11\n",
      " 2:  6.1051e+02 -3.0122e+04  5e+04  3e-02  7e-12\n",
      " 3:  3.2035e+02 -8.6906e+03  1e+04  6e-03  2e-12\n",
      " 4:  1.6044e+02 -2.1019e+03  3e+03  1e-03  5e-13\n",
      " 5:  5.8200e+01 -2.5434e+02  4e+02  8e-05  2e-13\n",
      " 6:  7.2776e+00 -2.1317e+01  3e+01  7e-07  8e-14\n",
      " 7: -1.5280e+00 -5.8271e+00  4e+00  3e-08  4e-14\n",
      " 8: -2.2766e+00 -4.7968e+00  3e+00  2e-08  3e-14\n",
      " 9: -2.9672e+00 -4.2573e+00  1e+00  2e-16  3e-14\n",
      "10: -3.1887e+00 -3.5985e+00  4e-01  2e-16  3e-14\n",
      "11: -3.2780e+00 -3.3567e+00  8e-02  2e-16  3e-14\n",
      "12: -3.3004e+00 -3.3081e+00  8e-03  2e-16  3e-14\n",
      "13: -3.3029e+00 -3.3031e+00  2e-04  2e-16  3e-14\n",
      "14: -3.3030e+00 -3.3030e+00  6e-06  2e-16  3e-14\n"
     ]
    },
    {
     "name": "stderr",
     "output_type": "stream",
     "text": [
      "\r",
      " 70%|██████████████████████████████▊             | 7/10 [03:44<01:36, 32.22s/it]"
     ]
    },
    {
     "name": "stdout",
     "output_type": "stream",
     "text": [
      "15: -3.3030e+00 -3.3030e+00  1e-07  2e-16  3e-14\n",
      "Optimal solution found.\n",
      "     pcost       dcost       gap    pres   dres\n",
      " 0: -2.9178e+03 -3.6455e+05  1e+06  9e-01  2e-11\n",
      " 1: -9.0700e+02 -1.5741e+05  3e+05  2e-01  1e-11\n",
      " 2:  6.3462e+02 -3.6464e+04  6e+04  4e-02  8e-12\n",
      " 3:  3.3926e+02 -7.7688e+03  1e+04  6e-03  2e-12\n",
      " 4:  1.6533e+02 -2.0985e+03  3e+03  1e-03  6e-13\n",
      " 5:  6.8827e+01 -3.5982e+02  5e+02  1e-04  2e-13\n",
      " 6:  1.0090e+01 -2.7172e+01  4e+01  1e-06  1e-13\n",
      " 7: -1.4748e+00 -6.7717e+00  5e+00  4e-08  5e-14\n",
      " 8: -2.6928e+00 -4.9099e+00  2e+00  1e-08  3e-14\n",
      " 9: -3.3043e+00 -4.2033e+00  9e-01  2e-09  3e-14\n",
      "10: -3.4992e+00 -3.8218e+00  3e-01  2e-10  3e-14\n",
      "11: -3.5741e+00 -3.6477e+00  7e-02  2e-16  3e-14\n",
      "12: -3.5948e+00 -3.6035e+00  9e-03  2e-16  3e-14\n",
      "13: -3.5975e+00 -3.5978e+00  3e-04  2e-16  3e-14\n",
      "14: -3.5976e+00 -3.5976e+00  6e-06  2e-16  3e-14\n"
     ]
    },
    {
     "name": "stderr",
     "output_type": "stream",
     "text": [
      "\r",
      " 80%|███████████████████████████████████▏        | 8/10 [04:17<01:04, 32.30s/it]"
     ]
    },
    {
     "name": "stdout",
     "output_type": "stream",
     "text": [
      "15: -3.5976e+00 -3.5976e+00  1e-07  2e-16  3e-14\n",
      "Optimal solution found.\n",
      "     pcost       dcost       gap    pres   dres\n",
      " 0: -3.3071e+03 -3.8687e+05  1e+06  1e+00  2e-11\n",
      " 1: -1.1577e+03 -1.7378e+05  3e+05  2e-01  1e-11\n",
      " 2:  2.6650e+02 -8.2838e+04  2e+05  9e-02  8e-12\n",
      " 3:  5.5550e+02 -1.5266e+04  3e+04  1e-02  4e-12\n",
      " 4:  2.9447e+02 -4.2769e+03  7e+03  3e-03  1e-12\n",
      " 5:  1.2776e+02 -7.8640e+02  1e+03  4e-04  4e-13\n",
      " 6:  2.5422e+01 -5.8019e+01  8e+01  3e-06  2e-13\n",
      " 7: -1.3127e+00 -1.2047e+01  1e+01  4e-16  8e-14\n",
      " 8: -3.9524e+00 -7.5391e+00  4e+00  1e-15  5e-14\n",
      " 9: -4.7936e+00 -6.3976e+00  2e+00  2e-16  4e-14\n",
      "10: -5.2235e+00 -5.7900e+00  6e-01  2e-16  4e-14\n",
      "11: -5.3641e+00 -5.5259e+00  2e-01  3e-16  5e-14\n",
      "12: -5.4065e+00 -5.4288e+00  2e-02  3e-16  4e-14\n",
      "13: -5.4131e+00 -5.4141e+00  1e-03  2e-16  5e-14\n",
      "14: -5.4134e+00 -5.4134e+00  2e-05  4e-16  5e-14\n"
     ]
    },
    {
     "name": "stderr",
     "output_type": "stream",
     "text": [
      "\r",
      " 90%|███████████████████████████████████████▌    | 9/10 [04:49<00:32, 32.40s/it]"
     ]
    },
    {
     "name": "stdout",
     "output_type": "stream",
     "text": [
      "15: -5.4134e+00 -5.4134e+00  4e-07  2e-16  5e-14\n",
      "Optimal solution found.\n",
      "     pcost       dcost       gap    pres   dres\n",
      " 0: -2.7982e+03 -3.9744e+05  1e+06  1e+00  2e-11\n",
      " 1: -8.8598e+02 -1.7831e+05  3e+05  2e-01  1e-11\n",
      " 2:  5.9305e+02 -5.1369e+04  9e+04  5e-02  8e-12\n",
      " 3:  3.3405e+02 -1.1231e+04  2e+04  9e-03  2e-12\n",
      " 4:  1.5881e+02 -2.5558e+03  4e+03  2e-03  7e-13\n",
      " 5:  6.7629e+01 -4.4613e+02  7e+02  2e-04  2e-13\n",
      " 6:  1.4482e+01 -3.0389e+01  5e+01  2e-06  1e-13\n",
      " 7: -2.0453e-01 -6.1117e+00  6e+00  2e-16  5e-14\n",
      " 8: -1.5863e+00 -3.7199e+00  2e+00  2e-16  3e-14\n",
      " 9: -2.1039e+00 -3.1409e+00  1e+00  2e-16  2e-14\n",
      "10: -2.3613e+00 -2.7472e+00  4e-01  2e-16  2e-14\n",
      "11: -2.4464e+00 -2.5416e+00  1e-01  2e-16  3e-14\n",
      "12: -2.4731e+00 -2.4836e+00  1e-02  2e-16  3e-14\n",
      "13: -2.4765e+00 -2.4769e+00  4e-04  2e-16  3e-14\n",
      "14: -2.4766e+00 -2.4766e+00  1e-05  2e-16  3e-14\n"
     ]
    },
    {
     "name": "stderr",
     "output_type": "stream",
     "text": [
      "100%|███████████████████████████████████████████| 10/10 [05:22<00:00, 32.22s/it]"
     ]
    },
    {
     "name": "stdout",
     "output_type": "stream",
     "text": [
      "15: -2.4766e+00 -2.4766e+00  2e-07  2e-16  3e-14\n",
      "Optimal solution found.\n",
      "fit completed in 323.082908 seconds\n"
     ]
    },
    {
     "name": "stderr",
     "output_type": "stream",
     "text": [
      "\n"
     ]
    }
   ],
   "source": [
    "clf = KernelSVC(kernel='linear', C=10)\n",
    "start = time.time()\n",
    "clf.fit(Xtr_scaled, Ytr)\n",
    "end = time.time()\n",
    "print(f\"fit completed in {end - start:2f} seconds\")"
   ]
  },
  {
   "cell_type": "markdown",
   "metadata": {},
   "source": [
    "KRR with cross-validation:"
   ]
  },
  {
   "cell_type": "code",
   "execution_count": 31,
   "metadata": {
    "scrolled": true
   },
   "outputs": [
    {
     "name": "stdout",
     "output_type": "stream",
     "text": [
      "Fitting 5 folds for each of 16 candidates, totalling 80 fits\n",
      "Start computing kernel similarity matrix...\n",
      "Kernel similarity matrix computed in 1.46 seconds\n",
      "Start computing kernel similarity matrix...\n",
      "Kernel similarity matrix computed in 1.48 seconds\n",
      "Start computing kernel similarity matrix...\n",
      "Kernel similarity matrix computed in 1.59 seconds\n",
      "Start computing kernel similarity matrix...\n",
      "Kernel similarity matrix computed in 1.59 seconds\n"
     ]
    },
    {
     "name": "stderr",
     "output_type": "stream",
     "text": [
      "100%|██████████| 10/10 [01:40<00:00, 10.02s/it]\n",
      "  0%|          | 3/2000 [00:00<01:35, 20.95it/s]"
     ]
    },
    {
     "name": "stdout",
     "output_type": "stream",
     "text": [
      "Predicting...\n"
     ]
    },
    {
     "name": "stderr",
     "output_type": "stream",
     "text": [
      "100%|██████████| 10/10 [01:42<00:00, 10.24s/it]s]\n",
      "  0%|          | 2/2000 [00:00<01:52, 17.79it/s]]"
     ]
    },
    {
     "name": "stdout",
     "output_type": "stream",
     "text": [
      "Predicting...\n"
     ]
    },
    {
     "name": "stderr",
     "output_type": "stream",
     "text": [
      "100%|██████████| 10/10 [01:42<00:00, 10.28s/it]]]\n",
      "100%|██████████| 10/10 [01:42<00:00, 10.29s/it]s]\n",
      "  1%|          | 14/2000 [00:00<01:33, 21.27it/s]"
     ]
    },
    {
     "name": "stdout",
     "output_type": "stream",
     "text": [
      "Predicting...\n",
      "Predicting...\n"
     ]
    },
    {
     "name": "stderr",
     "output_type": "stream",
     "text": [
      " 96%|█████████▌| 1911/2000 [01:26<00:04, 20.75it/s]\n",
      " 96%|█████████▌| 1914/2000 [01:26<00:04, 20.78it/s]"
     ]
    },
    {
     "name": "stdout",
     "output_type": "stream",
     "text": [
      "[CV 1/5] END ................C=0.0005, gamma=10;, score=0.474 total time= 3.2min\n",
      "Start computing kernel similarity matrix...\n",
      "Kernel similarity matrix computed in 0.93 seconds\n"
     ]
    },
    {
     "name": "stderr",
     "output_type": "stream",
     "text": [
      " 96%|█████████▌| 1923/2000 [01:27<00:03, 20.26it/s]\n",
      " 99%|█████████▊| 1971/2000 [01:27<00:01, 21.17it/s]"
     ]
    },
    {
     "name": "stdout",
     "output_type": "stream",
     "text": [
      "[CV 2/5] END ................C=0.0005, gamma=10;, score=0.460 total time= 3.2min\n",
      "Start computing kernel similarity matrix...\n",
      "Kernel similarity matrix computed in 0.96 seconds\n"
     ]
    },
    {
     "name": "stderr",
     "output_type": "stream",
     "text": [
      " 99%|█████████▊| 1973/2000 [01:30<00:01, 18.97it/s]\n",
      " 99%|█████████▉| 1976/2000 [01:30<00:01, 19.39it/s]"
     ]
    },
    {
     "name": "stdout",
     "output_type": "stream",
     "text": [
      "[CV 3/5] END ................C=0.0005, gamma=10;, score=0.476 total time= 3.2min\n",
      "Start computing kernel similarity matrix...\n",
      "Kernel similarity matrix computed in 1.03 seconds\n"
     ]
    },
    {
     "name": "stderr",
     "output_type": "stream",
     "text": [
      "100%|██████████| 2000/2000 [01:31<00:00, 21.76it/s]\n",
      "  0%|          | 0/10 [00:00<?, ?it/s]"
     ]
    },
    {
     "name": "stdout",
     "output_type": "stream",
     "text": [
      "[CV 4/5] END ................C=0.0005, gamma=10;, score=0.467 total time= 3.3min\n",
      "Start computing kernel similarity matrix...\n",
      "Kernel similarity matrix computed in 1.17 seconds\n"
     ]
    },
    {
     "name": "stderr",
     "output_type": "stream",
     "text": [
      "100%|██████████| 10/10 [01:42<00:00, 10.21s/it]\n",
      "  0%|          | 3/2000 [00:00<01:37, 20.52it/s]"
     ]
    },
    {
     "name": "stdout",
     "output_type": "stream",
     "text": [
      "Predicting...\n"
     ]
    },
    {
     "name": "stderr",
     "output_type": "stream",
     "text": [
      "\r",
      "  0%|          | 6/2000 [00:00<02:01, 16.47it/s]\r",
      "100%|██████████| 10/10 [01:42<00:00, 10.25s/it]\r",
      "100%|██████████| 10/10 [01:42<00:00, 10.21s/it]\n",
      "\r",
      "  0%|          | 0/2000 [00:00<?, ?it/s]\r",
      "  0%|          | 8/2000 [00:00<02:20, 14.13it/s]"
     ]
    },
    {
     "name": "stdout",
     "output_type": "stream",
     "text": [
      "Predicting...\n"
     ]
    },
    {
     "name": "stderr",
     "output_type": "stream",
     "text": [
      "100%|██████████| 10/10 [01:42<00:00, 10.21s/it]s]\n",
      "  0%|          | 3/2000 [00:00<01:33, 21.46it/s]]"
     ]
    },
    {
     "name": "stdout",
     "output_type": "stream",
     "text": [
      "Predicting...\n"
     ]
    },
    {
     "name": "stderr",
     "output_type": "stream",
     "text": [
      "100%|██████████| 10/10 [01:40<00:00, 10.04s/it]s]\n",
      "  4%|▎         | 72/2000 [00:04<01:31, 21.16it/s]"
     ]
    },
    {
     "name": "stdout",
     "output_type": "stream",
     "text": [
      "Predicting...\n"
     ]
    },
    {
     "name": "stderr",
     "output_type": "stream",
     "text": [
      " 98%|█████████▊| 1970/2000 [01:28<00:01, 22.15it/s]\n",
      " 99%|█████████▊| 1972/2000 [01:31<00:01, 21.71it/s]"
     ]
    },
    {
     "name": "stdout",
     "output_type": "stream",
     "text": [
      "[CV 1/5] END .................C=0.0005, gamma=5;, score=0.468 total time= 3.2min\n",
      "Start computing kernel similarity matrix...\n",
      "Kernel similarity matrix computed in 0.89 seconds\n"
     ]
    },
    {
     "name": "stderr",
     "output_type": "stream",
     "text": [
      " 97%|█████████▋| 1948/2000 [01:29<00:02, 19.60it/s]\n",
      "  0%|          | 0/10 [00:00<?, ?it/s]"
     ]
    },
    {
     "name": "stdout",
     "output_type": "stream",
     "text": [
      "[CV 2/5] END .................C=0.0005, gamma=5;, score=0.451 total time= 3.2min\n",
      "Start computing kernel similarity matrix...\n",
      "Kernel similarity matrix computed in 1.11 seconds\n",
      "[CV 5/5] END ................C=0.0005, gamma=10;, score=0.483 total time= 3.3min\n",
      "Start computing kernel similarity matrix...\n",
      "Kernel similarity matrix computed in 1.12 seconds\n"
     ]
    },
    {
     "name": "stderr",
     "output_type": "stream",
     "text": [
      " 98%|█████████▊| 1950/2000 [01:29<00:02, 19.13it/s]\n",
      "100%|██████████| 2000/2000 [01:33<00:00, 21.48it/s]\n",
      " 10%|█         | 1/10 [00:07<01:11,  7.89s/it]"
     ]
    },
    {
     "name": "stdout",
     "output_type": "stream",
     "text": [
      "[CV 3/5] END .................C=0.0005, gamma=5;, score=0.480 total time= 3.2min\n",
      "Start computing kernel similarity matrix...\n",
      "Kernel similarity matrix computed in 1.29 seconds\n"
     ]
    },
    {
     "name": "stderr",
     "output_type": "stream",
     "text": [
      "100%|██████████| 10/10 [01:41<00:00, 10.11s/it]\n",
      "  0%|          | 3/2000 [00:00<01:33, 21.27it/s]"
     ]
    },
    {
     "name": "stdout",
     "output_type": "stream",
     "text": [
      "Predicting...\n"
     ]
    },
    {
     "name": "stderr",
     "output_type": "stream",
     "text": [
      "100%|██████████| 10/10 [01:42<00:00, 10.28s/it]s]\n",
      "  3%|▎         | 57/2000 [00:04<02:49, 11.43it/s]"
     ]
    },
    {
     "name": "stdout",
     "output_type": "stream",
     "text": [
      "Predicting...\n"
     ]
    },
    {
     "name": "stderr",
     "output_type": "stream",
     "text": [
      "100%|██████████| 10/10 [01:43<00:00, 10.34s/it]]]\n",
      "  1%|          | 12/2000 [00:00<01:34, 21.05it/s]"
     ]
    },
    {
     "name": "stdout",
     "output_type": "stream",
     "text": [
      "Predicting...\n"
     ]
    },
    {
     "name": "stderr",
     "output_type": "stream",
     "text": [
      "  3%|▎         | 54/2000 [00:02<01:31, 21.21it/s]]\n",
      "  3%|▎         | 66/2000 [00:03<01:29, 21.63it/s]]"
     ]
    },
    {
     "name": "stdout",
     "output_type": "stream",
     "text": [
      "Predicting...\n"
     ]
    },
    {
     "name": "stderr",
     "output_type": "stream",
     "text": [
      " 99%|█████████▉| 1976/2000 [01:28<00:01, 20.84it/s]\n",
      " 98%|█████████▊| 1953/2000 [01:27<00:02, 21.79it/s]"
     ]
    },
    {
     "name": "stdout",
     "output_type": "stream",
     "text": [
      "[CV 4/5] END .................C=0.0005, gamma=5;, score=0.460 total time= 3.2min\n",
      "Start computing kernel similarity matrix...\n",
      "Kernel similarity matrix computed in 0.92 seconds\n"
     ]
    },
    {
     "name": "stderr",
     "output_type": "stream",
     "text": [
      " 95%|█████████▌| 1903/2000 [01:27<00:04, 19.75it/s]\n",
      "100%|█████████▉| 1998/2000 [01:30<00:00, 20.49it/s]"
     ]
    },
    {
     "name": "stdout",
     "output_type": "stream",
     "text": [
      "[CV 1/5] END .................C=0.0005, gamma=1;, score=0.559 total time= 3.2min\n",
      "Start computing kernel similarity matrix...\n",
      "Kernel similarity matrix computed in 0.98 seconds\n"
     ]
    },
    {
     "name": "stderr",
     "output_type": "stream",
     "text": [
      " 97%|█████████▋| 1934/2000 [01:28<00:03, 20.51it/s]\n",
      " 97%|█████████▋| 1940/2000 [01:29<00:02, 20.32it/s]"
     ]
    },
    {
     "name": "stdout",
     "output_type": "stream",
     "text": [
      "[CV 5/5] END .................C=0.0005, gamma=5;, score=0.465 total time= 3.2min\n",
      "Start computing kernel similarity matrix...\n",
      "Kernel similarity matrix computed in 1.27 seconds\n"
     ]
    },
    {
     "name": "stderr",
     "output_type": "stream",
     "text": [
      " 10%|█         | 1/10 [00:07<01:11,  7.97s/it]it/s]\n",
      "  0%|          | 0/10 [00:00<?, ?it/s]"
     ]
    },
    {
     "name": "stdout",
     "output_type": "stream",
     "text": [
      "[CV 2/5] END .................C=0.0005, gamma=1;, score=0.579 total time= 3.2min\n",
      "Start computing kernel similarity matrix...\n",
      "Kernel similarity matrix computed in 1.04 seconds\n"
     ]
    },
    {
     "name": "stderr",
     "output_type": "stream",
     "text": [
      "100%|██████████| 10/10 [01:40<00:00, 10.07s/it]\n",
      "  0%|          | 3/2000 [00:00<01:37, 20.46it/s]"
     ]
    },
    {
     "name": "stdout",
     "output_type": "stream",
     "text": [
      "Predicting...\n"
     ]
    },
    {
     "name": "stderr",
     "output_type": "stream",
     "text": [
      "100%|██████████| 10/10 [01:42<00:00, 10.25s/it]s]\n",
      "  4%|▍         | 75/2000 [00:03<01:35, 20.08it/s]"
     ]
    },
    {
     "name": "stdout",
     "output_type": "stream",
     "text": [
      "Predicting...\n"
     ]
    },
    {
     "name": "stderr",
     "output_type": "stream",
     "text": [
      "100%|██████████| 10/10 [01:41<00:00, 10.19s/it]s]\n",
      "  1%|          | 24/2000 [00:01<01:36, 20.51it/s]"
     ]
    },
    {
     "name": "stdout",
     "output_type": "stream",
     "text": [
      "Predicting...\n"
     ]
    },
    {
     "name": "stderr",
     "output_type": "stream",
     "text": [
      "100%|██████████| 10/10 [01:40<00:00, 10.01s/it]s]]\n",
      "  0%|          | 0/2000 [00:00<?, ?it/s]"
     ]
    },
    {
     "name": "stdout",
     "output_type": "stream",
     "text": [
      "Predicting...\n"
     ]
    },
    {
     "name": "stderr",
     "output_type": "stream",
     "text": [
      " 95%|█████████▍| 1896/2000 [01:24<00:05, 20.60it/s]"
     ]
    },
    {
     "name": "stdout",
     "output_type": "stream",
     "text": [
      "[CV 3/5] END .................C=0.0005, gamma=1;, score=0.570 total time= 3.2min\n",
      "Start computing kernel similarity matrix...\n",
      "Kernel similarity matrix computed in 0.90 seconds\n"
     ]
    },
    {
     "name": "stderr",
     "output_type": "stream",
     "text": [
      "\n",
      " 99%|█████████▉| 1976/2000 [01:28<00:01, 19.46it/s]\n",
      " 99%|█████████▉| 1978/2000 [01:28<00:01, 19.08it/s]"
     ]
    },
    {
     "name": "stdout",
     "output_type": "stream",
     "text": [
      "[CV 4/5] END .................C=0.0005, gamma=1;, score=0.561 total time= 3.2min\n",
      "Start computing kernel similarity matrix...\n",
      "Kernel similarity matrix computed in 1.11 seconds\n"
     ]
    },
    {
     "name": "stderr",
     "output_type": "stream",
     "text": [
      "\r",
      " 99%|█████████▉| 1980/2000 [01:28<00:01, 18.22it/s]\n",
      "\r",
      "  0%|          | 0/10 [00:00<?, ?it/s]\r",
      " 99%|█████████▉| 1982/2000 [01:29<00:01, 17.59it/s]"
     ]
    },
    {
     "name": "stdout",
     "output_type": "stream",
     "text": [
      "[CV 5/5] END .................C=0.0005, gamma=1;, score=0.567 total time= 3.2min\n",
      "Start computing kernel similarity matrix...\n",
      "Kernel similarity matrix computed in 1.05 seconds\n"
     ]
    },
    {
     "name": "stderr",
     "output_type": "stream",
     "text": [
      "100%|██████████| 2000/2000 [01:30<00:00, 22.11it/s]\n",
      " 10%|█         | 1/10 [00:07<01:06,  7.44s/it]"
     ]
    },
    {
     "name": "stdout",
     "output_type": "stream",
     "text": [
      "[CV 1/5] END ...............C=0.0005, gamma=0.5;, score=0.569 total time= 3.2min\n",
      "Start computing kernel similarity matrix...\n",
      "Kernel similarity matrix computed in 1.36 seconds\n"
     ]
    },
    {
     "name": "stderr",
     "output_type": "stream",
     "text": [
      "100%|██████████| 10/10 [01:41<00:00, 10.11s/it]\n",
      "  0%|          | 3/2000 [00:00<01:35, 20.95it/s]"
     ]
    },
    {
     "name": "stdout",
     "output_type": "stream",
     "text": [
      "Predicting...\n"
     ]
    },
    {
     "name": "stderr",
     "output_type": "stream",
     "text": [
      "100%|██████████| 10/10 [01:42<00:00, 10.23s/it]s]\n",
      "  0%|          | 3/2000 [00:00<01:33, 21.47it/s]]"
     ]
    },
    {
     "name": "stdout",
     "output_type": "stream",
     "text": [
      "Predicting...\n"
     ]
    },
    {
     "name": "stderr",
     "output_type": "stream",
     "text": [
      "100%|██████████| 10/10 [01:44<00:00, 10.42s/it]s]]\n",
      "  2%|▏         | 36/2000 [00:01<01:31, 21.50it/s]]"
     ]
    },
    {
     "name": "stdout",
     "output_type": "stream",
     "text": [
      "Predicting...\n"
     ]
    },
    {
     "name": "stderr",
     "output_type": "stream",
     "text": [
      "100%|██████████| 10/10 [01:42<00:00, 10.26s/it]s]]\n",
      "  8%|▊         | 162/2000 [00:08<01:22, 22.21it/s]"
     ]
    },
    {
     "name": "stdout",
     "output_type": "stream",
     "text": [
      "Predicting...\n"
     ]
    },
    {
     "name": "stderr",
     "output_type": "stream",
     "text": [
      " 92%|█████████▏| 1836/2000 [01:23<00:07, 20.58it/s]"
     ]
    },
    {
     "name": "stdout",
     "output_type": "stream",
     "text": [
      "[CV 2/5] END ...............C=0.0005, gamma=0.5;, score=0.581 total time= 3.2min\n",
      "Start computing kernel similarity matrix...\n",
      "Kernel similarity matrix computed in 0.87 seconds\n"
     ]
    },
    {
     "name": "stderr",
     "output_type": "stream",
     "text": [
      "\n",
      " 98%|█████████▊| 1955/2000 [01:29<00:02, 20.28it/s]\n",
      " 98%|█████████▊| 1958/2000 [01:29<00:02, 20.51it/s]"
     ]
    },
    {
     "name": "stdout",
     "output_type": "stream",
     "text": [
      "[CV 4/5] END ...............C=0.0005, gamma=0.5;, score=0.566 total time= 3.2min\n",
      "Start computing kernel similarity matrix...\n",
      "Kernel similarity matrix computed in 0.99 seconds\n"
     ]
    },
    {
     "name": "stderr",
     "output_type": "stream",
     "text": [
      " 99%|█████████▉| 1987/2000 [01:31<00:00, 19.25it/s]\n",
      " 99%|█████████▉| 1989/2000 [01:31<00:00, 19.32it/s]"
     ]
    },
    {
     "name": "stdout",
     "output_type": "stream",
     "text": [
      "[CV 3/5] END ...............C=0.0005, gamma=0.5;, score=0.574 total time= 3.3min\n",
      "Start computing kernel similarity matrix...\n",
      "Kernel similarity matrix computed in 1.10 seconds\n"
     ]
    },
    {
     "name": "stderr",
     "output_type": "stream",
     "text": [
      "100%|██████████| 2000/2000 [01:31<00:00, 21.80it/s]\n",
      "  0%|          | 0/10 [00:00<?, ?it/s]"
     ]
    },
    {
     "name": "stdout",
     "output_type": "stream",
     "text": [
      "[CV 5/5] END ...............C=0.0005, gamma=0.5;, score=0.571 total time= 3.3min\n",
      "Start computing kernel similarity matrix...\n",
      "Kernel similarity matrix computed in 1.31 seconds\n"
     ]
    },
    {
     "name": "stderr",
     "output_type": "stream",
     "text": [
      "100%|██████████| 10/10 [01:43<00:00, 10.31s/it]\n",
      "  0%|          | 2/2000 [00:00<02:55, 11.37it/s]"
     ]
    },
    {
     "name": "stdout",
     "output_type": "stream",
     "text": [
      "Predicting...\n"
     ]
    },
    {
     "name": "stderr",
     "output_type": "stream",
     "text": [
      "  3%|▎         | 69/2000 [00:04<01:38, 19.51it/s]\n",
      "  0%|          | 2/2000 [00:00<02:52, 11.57it/s]]"
     ]
    },
    {
     "name": "stdout",
     "output_type": "stream",
     "text": [
      "Predicting...\n"
     ]
    },
    {
     "name": "stderr",
     "output_type": "stream",
     "text": [
      "100%|██████████| 10/10 [01:45<00:00, 10.52s/it]/s]\n",
      "  3%|▎         | 54/2000 [00:04<02:49, 11.49it/s]"
     ]
    },
    {
     "name": "stdout",
     "output_type": "stream",
     "text": [
      "Predicting...\n"
     ]
    },
    {
     "name": "stderr",
     "output_type": "stream",
     "text": [
      "100%|██████████| 10/10 [01:43<00:00, 10.37s/it]s]]\n",
      "  3%|▎         | 67/2000 [00:05<01:46, 18.12it/s]]"
     ]
    },
    {
     "name": "stdout",
     "output_type": "stream",
     "text": [
      "Predicting...\n"
     ]
    },
    {
     "name": "stderr",
     "output_type": "stream",
     "text": [
      " 94%|█████████▍| 1876/2000 [01:30<00:05, 20.97it/s]\n",
      " 93%|█████████▎| 1857/2000 [01:25<00:06, 21.53it/s]"
     ]
    },
    {
     "name": "stdout",
     "output_type": "stream",
     "text": [
      "[CV 1/5] END ................C=0.0001, gamma=10;, score=0.474 total time= 3.3min\n",
      "Start computing kernel similarity matrix...\n",
      "Kernel similarity matrix computed in 0.86 seconds\n"
     ]
    },
    {
     "name": "stderr",
     "output_type": "stream",
     "text": [
      " 97%|█████████▋| 1942/2000 [01:32<00:03, 19.12it/s]\n",
      "  0%|          | 0/10 [00:00<?, ?it/s]"
     ]
    },
    {
     "name": "stdout",
     "output_type": "stream",
     "text": [
      "[CV 2/5] END ................C=0.0001, gamma=10;, score=0.460 total time= 3.4min\n",
      "Start computing kernel similarity matrix...\n",
      "Kernel similarity matrix computed in 1.01 seconds\n"
     ]
    },
    {
     "name": "stderr",
     "output_type": "stream",
     "text": [
      " 98%|█████████▊| 1962/2000 [01:33<00:02, 17.79it/s]\n",
      " 98%|█████████▊| 1964/2000 [01:33<00:02, 17.02it/s]"
     ]
    },
    {
     "name": "stdout",
     "output_type": "stream",
     "text": [
      "[CV 3/5] END ................C=0.0001, gamma=10;, score=0.476 total time= 3.3min\n",
      "Start computing kernel similarity matrix...\n",
      "Kernel similarity matrix computed in 1.17 seconds\n"
     ]
    },
    {
     "name": "stderr",
     "output_type": "stream",
     "text": [
      "100%|██████████| 2000/2000 [01:36<00:00, 20.81it/s]\n",
      "  0%|          | 0/10 [00:00<?, ?it/s]"
     ]
    },
    {
     "name": "stdout",
     "output_type": "stream",
     "text": [
      "[CV 4/5] END ................C=0.0001, gamma=10;, score=0.467 total time= 3.4min\n",
      "Start computing kernel similarity matrix...\n",
      "Kernel similarity matrix computed in 1.33 seconds\n"
     ]
    },
    {
     "name": "stderr",
     "output_type": "stream",
     "text": [
      "100%|██████████| 10/10 [01:37<00:00,  9.78s/it]\n",
      "  0%|          | 2/2000 [00:00<02:54, 11.44it/s]"
     ]
    },
    {
     "name": "stdout",
     "output_type": "stream",
     "text": [
      "Predicting...\n"
     ]
    },
    {
     "name": "stderr",
     "output_type": "stream",
     "text": [
      "100%|██████████| 10/10 [01:44<00:00, 10.43s/it]/s]\n",
      "  0%|          | 2/2000 [00:00<03:16, 10.18it/s]s]"
     ]
    },
    {
     "name": "stdout",
     "output_type": "stream",
     "text": [
      "Predicting...\n"
     ]
    },
    {
     "name": "stderr",
     "output_type": "stream",
     "text": [
      "100%|██████████| 10/10 [01:44<00:00, 10.40s/it]/s]\n",
      "  0%|          | 3/2000 [00:00<01:33, 21.34it/s]s]"
     ]
    },
    {
     "name": "stdout",
     "output_type": "stream",
     "text": [
      "Predicting...\n"
     ]
    },
    {
     "name": "stderr",
     "output_type": "stream",
     "text": [
      "100%|██████████| 10/10 [01:41<00:00, 10.16s/it]s]]\n",
      "  2%|▏         | 49/2000 [00:02<01:29, 21.86it/s]]"
     ]
    },
    {
     "name": "stdout",
     "output_type": "stream",
     "text": [
      "Predicting...\n"
     ]
    },
    {
     "name": "stderr",
     "output_type": "stream",
     "text": [
      " 88%|████████▊ | 1767/2000 [01:21<00:10, 21.34it/s]\n",
      " 88%|████████▊ | 1770/2000 [01:21<00:10, 21.31it/s]"
     ]
    },
    {
     "name": "stdout",
     "output_type": "stream",
     "text": [
      "[CV 5/5] END ................C=0.0001, gamma=10;, score=0.483 total time= 3.3min\n",
      "Start computing kernel similarity matrix...\n",
      "Kernel similarity matrix computed in 0.84 seconds\n"
     ]
    },
    {
     "name": "stderr",
     "output_type": "stream",
     "text": [
      " 95%|█████████▌| 1905/2000 [01:27<00:04, 20.52it/s]\n",
      " 95%|█████████▌| 1908/2000 [01:28<00:04, 20.56it/s]"
     ]
    },
    {
     "name": "stdout",
     "output_type": "stream",
     "text": [
      "[CV 1/5] END .................C=0.0001, gamma=5;, score=0.469 total time= 3.2min\n",
      "Start computing kernel similarity matrix...\n",
      "Kernel similarity matrix computed in 0.94 seconds\n"
     ]
    },
    {
     "name": "stderr",
     "output_type": "stream",
     "text": [
      " 97%|█████████▋| 1944/2000 [01:29<00:02, 20.18it/s]\n",
      " 97%|█████████▋| 1947/2000 [01:30<00:02, 19.94it/s]"
     ]
    },
    {
     "name": "stdout",
     "output_type": "stream",
     "text": [
      "[CV 2/5] END .................C=0.0001, gamma=5;, score=0.452 total time= 3.3min\n",
      "Start computing kernel similarity matrix...\n",
      "Kernel similarity matrix computed in 1.02 seconds\n"
     ]
    },
    {
     "name": "stderr",
     "output_type": "stream",
     "text": [
      " 20%|██        | 2/10 [00:13<00:57,  7.25s/it]it/s]\n",
      "  0%|          | 0/10 [00:00<?, ?it/s]"
     ]
    },
    {
     "name": "stdout",
     "output_type": "stream",
     "text": [
      "[CV 3/5] END .................C=0.0001, gamma=5;, score=0.481 total time= 3.3min\n",
      "Start computing kernel similarity matrix...\n",
      "Kernel similarity matrix computed in 1.29 seconds\n"
     ]
    },
    {
     "name": "stderr",
     "output_type": "stream",
     "text": [
      "100%|██████████| 10/10 [01:35<00:00,  9.55s/it]\n",
      "  0%|          | 2/2000 [00:00<02:53, 11.49it/s]"
     ]
    },
    {
     "name": "stdout",
     "output_type": "stream",
     "text": [
      "Predicting...\n"
     ]
    },
    {
     "name": "stderr",
     "output_type": "stream",
     "text": [
      "100%|██████████| 10/10 [01:40<00:00, 10.03s/it]/s]\n",
      "  0%|          | 2/2000 [00:00<01:58, 16.82it/s]s]"
     ]
    },
    {
     "name": "stdout",
     "output_type": "stream",
     "text": [
      "Predicting...\n"
     ]
    },
    {
     "name": "stderr",
     "output_type": "stream",
     "text": [
      "100%|██████████| 10/10 [01:40<00:00, 10.00s/it]s]]\n",
      "  1%|          | 23/2000 [00:01<02:14, 14.66it/s]]"
     ]
    },
    {
     "name": "stdout",
     "output_type": "stream",
     "text": [
      "Predicting...\n"
     ]
    },
    {
     "name": "stderr",
     "output_type": "stream",
     "text": [
      "100%|██████████| 10/10 [01:38<00:00,  9.85s/it]/s]\n",
      "  0%|          | 3/2000 [00:00<01:33, 21.47it/s]s]"
     ]
    },
    {
     "name": "stdout",
     "output_type": "stream",
     "text": [
      "Predicting...\n"
     ]
    },
    {
     "name": "stderr",
     "output_type": "stream",
     "text": [
      " 91%|█████████ | 1813/2000 [01:24<00:08, 20.79it/s]\n",
      " 92%|█████████▏| 1836/2000 [01:25<00:07, 21.24it/s]"
     ]
    },
    {
     "name": "stdout",
     "output_type": "stream",
     "text": [
      "[CV 4/5] END .................C=0.0001, gamma=5;, score=0.462 total time= 3.2min\n",
      "Start computing kernel similarity matrix...\n",
      "Kernel similarity matrix computed in 0.89 seconds\n"
     ]
    },
    {
     "name": "stderr",
     "output_type": "stream",
     "text": [
      " 94%|█████████▍| 1889/2000 [01:29<00:06, 17.99it/s]\n",
      "  0%|          | 0/10 [00:00<?, ?it/s]"
     ]
    },
    {
     "name": "stdout",
     "output_type": "stream",
     "text": [
      "[CV 5/5] END .................C=0.0001, gamma=5;, score=0.468 total time= 3.3min\n",
      "Start computing kernel similarity matrix...\n",
      "Kernel similarity matrix computed in 1.07 seconds\n"
     ]
    },
    {
     "name": "stderr",
     "output_type": "stream",
     "text": [
      " 96%|█████████▌| 1911/2000 [01:30<00:05, 17.59it/s]\n",
      " 96%|█████████▌| 1913/2000 [01:30<00:05, 15.23it/s]"
     ]
    },
    {
     "name": "stdout",
     "output_type": "stream",
     "text": [
      "[CV 1/5] END .................C=0.0001, gamma=1;, score=0.592 total time= 3.2min\n",
      "Start computing kernel similarity matrix...\n",
      "Kernel similarity matrix computed in 1.31 seconds\n"
     ]
    },
    {
     "name": "stderr",
     "output_type": "stream",
     "text": [
      " 10%|█         | 1/10 [00:09<01:28,  9.79s/it]it/s]\n",
      "  0%|          | 0/10 [00:00<?, ?it/s]"
     ]
    },
    {
     "name": "stdout",
     "output_type": "stream",
     "text": [
      "[CV 2/5] END .................C=0.0001, gamma=1;, score=0.604 total time= 3.3min\n",
      "Start computing kernel similarity matrix...\n",
      "Kernel similarity matrix computed in 1.35 seconds\n"
     ]
    },
    {
     "name": "stderr",
     "output_type": "stream",
     "text": [
      "100%|██████████| 10/10 [01:37<00:00,  9.75s/it]\n",
      "  0%|          | 3/2000 [00:00<01:35, 21.00it/s]"
     ]
    },
    {
     "name": "stdout",
     "output_type": "stream",
     "text": [
      "Predicting...\n"
     ]
    },
    {
     "name": "stderr",
     "output_type": "stream",
     "text": [
      "100%|██████████| 10/10 [01:46<00:00, 10.62s/it]/s]\n",
      " 11%|█▏        | 225/2000 [00:18<02:01, 14.61it/s]"
     ]
    },
    {
     "name": "stdout",
     "output_type": "stream",
     "text": [
      "Predicting...\n"
     ]
    },
    {
     "name": "stderr",
     "output_type": "stream",
     "text": [
      "100%|██████████| 10/10 [01:45<00:00, 10.54s/it]/s]\n",
      " 12%|█▏        | 236/2000 [00:18<01:32, 18.97it/s]"
     ]
    },
    {
     "name": "stdout",
     "output_type": "stream",
     "text": [
      "Predicting...\n"
     ]
    },
    {
     "name": "stderr",
     "output_type": "stream",
     "text": [
      "100%|██████████| 10/10 [01:41<00:00, 10.11s/it]/s]\n",
      "  5%|▌         | 107/2000 [00:04<01:24, 22.41it/s]"
     ]
    },
    {
     "name": "stdout",
     "output_type": "stream",
     "text": [
      "Predicting...\n"
     ]
    },
    {
     "name": "stderr",
     "output_type": "stream",
     "text": [
      " 88%|████████▊ | 1762/2000 [01:18<00:10, 22.13it/s]\n",
      "  0%|          | 0/10 [00:00<?, ?it/s]"
     ]
    },
    {
     "name": "stdout",
     "output_type": "stream",
     "text": [
      "[CV 3/5] END .................C=0.0001, gamma=1;, score=0.597 total time= 3.2min\n",
      "Start computing kernel similarity matrix...\n",
      "Kernel similarity matrix computed in 0.91 seconds\n"
     ]
    },
    {
     "name": "stderr",
     "output_type": "stream",
     "text": [
      " 99%|█████████▉| 1989/2000 [01:28<00:00, 19.47it/s]\n",
      "100%|█████████▉| 1992/2000 [01:29<00:00, 19.66it/s]"
     ]
    },
    {
     "name": "stdout",
     "output_type": "stream",
     "text": [
      "[CV 5/5] END .................C=0.0001, gamma=1;, score=0.588 total time= 3.2min\n",
      "Start computing kernel similarity matrix...\n",
      "Kernel similarity matrix computed in 0.98 seconds\n"
     ]
    },
    {
     "name": "stderr",
     "output_type": "stream",
     "text": [
      " 97%|█████████▋| 1934/2000 [01:25<00:05, 13.13it/s]\n",
      "  0%|          | 0/10 [00:00<?, ?it/s]"
     ]
    },
    {
     "name": "stdout",
     "output_type": "stream",
     "text": [
      "[CV 4/5] END .................C=0.0001, gamma=1;, score=0.592 total time= 3.3min\n",
      "Start computing kernel similarity matrix...\n",
      "Kernel similarity matrix computed in 1.26 seconds\n"
     ]
    },
    {
     "name": "stderr",
     "output_type": "stream",
     "text": [
      "100%|██████████| 2000/2000 [01:31<00:00, 21.92it/s]"
     ]
    },
    {
     "name": "stdout",
     "output_type": "stream",
     "text": [
      "[CV 1/5] END ...............C=0.0001, gamma=0.5;, score=0.590 total time= 3.2min\n",
      "Start computing kernel similarity matrix...\n",
      "Kernel similarity matrix computed in 1.29 seconds\n"
     ]
    },
    {
     "name": "stderr",
     "output_type": "stream",
     "text": [
      "\n",
      "100%|██████████| 10/10 [01:32<00:00,  9.26s/it]\n",
      "  0%|          | 2/2000 [00:00<02:48, 11.88it/s]"
     ]
    },
    {
     "name": "stdout",
     "output_type": "stream",
     "text": [
      "Predicting...\n"
     ]
    },
    {
     "name": "stderr",
     "output_type": "stream",
     "text": [
      "100%|██████████| 10/10 [01:42<00:00, 10.28s/it]/s]\n",
      "100%|██████████| 10/10 [01:40<00:00, 10.09s/it]\n",
      "  0%|          | 3/2000 [00:00<01:28, 22.62it/s]s]"
     ]
    },
    {
     "name": "stdout",
     "output_type": "stream",
     "text": [
      "Predicting...\n",
      "Predicting...\n"
     ]
    },
    {
     "name": "stderr",
     "output_type": "stream",
     "text": [
      "100%|██████████| 10/10 [01:37<00:00,  9.78s/it]s]]\n",
      "  4%|▍         | 87/2000 [00:04<01:27, 21.94it/s]]"
     ]
    },
    {
     "name": "stdout",
     "output_type": "stream",
     "text": [
      "Predicting...\n"
     ]
    },
    {
     "name": "stderr",
     "output_type": "stream",
     "text": [
      " 80%|████████  | 1605/2000 [01:10<00:17, 22.26it/s]\n",
      "  0%|          | 0/10 [00:00<?, ?it/s]"
     ]
    },
    {
     "name": "stdout",
     "output_type": "stream",
     "text": [
      "[CV 2/5] END ...............C=0.0001, gamma=0.5;, score=0.602 total time= 3.1min\n",
      "Start computing kernel similarity matrix...\n",
      "Kernel similarity matrix computed in 0.84 seconds\n"
     ]
    },
    {
     "name": "stderr",
     "output_type": "stream",
     "text": [
      " 96%|█████████▌| 1917/2000 [01:25<00:04, 19.46it/s]\n",
      "  0%|          | 0/10 [00:00<?, ?it/s]"
     ]
    },
    {
     "name": "stdout",
     "output_type": "stream",
     "text": [
      "[CV 4/5] END ...............C=0.0001, gamma=0.5;, score=0.604 total time= 3.2min\n",
      "Start computing kernel similarity matrix...\n",
      "Kernel similarity matrix computed in 0.98 seconds\n"
     ]
    },
    {
     "name": "stderr",
     "output_type": "stream",
     "text": [
      " 97%|█████████▋| 1933/2000 [01:26<00:04, 15.96it/s]\n",
      " 97%|█████████▋| 1935/2000 [01:26<00:04, 14.65it/s]"
     ]
    },
    {
     "name": "stdout",
     "output_type": "stream",
     "text": [
      "[CV 3/5] END ...............C=0.0001, gamma=0.5;, score=0.597 total time= 3.2min\n",
      "Start computing kernel similarity matrix...\n",
      "Kernel similarity matrix computed in 1.07 seconds\n"
     ]
    },
    {
     "name": "stderr",
     "output_type": "stream",
     "text": [
      "100%|██████████| 2000/2000 [01:31<00:00, 21.86it/s]\n",
      "  0%|          | 0/10 [00:00<?, ?it/s]"
     ]
    },
    {
     "name": "stdout",
     "output_type": "stream",
     "text": [
      "[CV 5/5] END ...............C=0.0001, gamma=0.5;, score=0.596 total time= 3.2min\n",
      "Start computing kernel similarity matrix...\n",
      "Kernel similarity matrix computed in 1.28 seconds\n"
     ]
    },
    {
     "name": "stderr",
     "output_type": "stream",
     "text": [
      "100%|██████████| 10/10 [01:29<00:00,  9.00s/it]\n",
      "  0%|          | 2/2000 [00:00<02:55, 11.40it/s]"
     ]
    },
    {
     "name": "stdout",
     "output_type": "stream",
     "text": [
      "Predicting...\n"
     ]
    },
    {
     "name": "stderr",
     "output_type": "stream",
     "text": [
      "100%|██████████| 10/10 [01:41<00:00, 10.11s/it]/s]\n",
      "  0%|          | 3/2000 [00:00<01:32, 21.60it/s]s]"
     ]
    },
    {
     "name": "stdout",
     "output_type": "stream",
     "text": [
      "Predicting...\n"
     ]
    },
    {
     "name": "stderr",
     "output_type": "stream",
     "text": [
      "100%|██████████| 10/10 [01:40<00:00, 10.10s/it]s]]\n",
      "  0%|          | 0/2000 [00:00<?, ?it/s]"
     ]
    },
    {
     "name": "stdout",
     "output_type": "stream",
     "text": [
      "Predicting...\n"
     ]
    },
    {
     "name": "stderr",
     "output_type": "stream",
     "text": [
      "100%|██████████| 10/10 [01:37<00:00,  9.76s/it]s]]\n",
      "  0%|          | 3/2000 [00:00<01:33, 21.46it/s]s]"
     ]
    },
    {
     "name": "stdout",
     "output_type": "stream",
     "text": [
      "Predicting...\n"
     ]
    },
    {
     "name": "stderr",
     "output_type": "stream",
     "text": [
      " 76%|███████▌  | 1523/2000 [01:11<00:22, 20.99it/s]\n",
      " 84%|████████▎ | 1674/2000 [01:15<00:14, 21.86it/s]"
     ]
    },
    {
     "name": "stdout",
     "output_type": "stream",
     "text": [
      "[CV 1/5] END .................C=5e-05, gamma=10;, score=0.474 total time= 3.2min\n",
      "Start computing kernel similarity matrix...\n",
      "Kernel similarity matrix computed in 0.84 seconds\n"
     ]
    },
    {
     "name": "stderr",
     "output_type": "stream",
     "text": [
      " 93%|█████████▎| 1859/2000 [01:27<00:08, 17.17it/s]\n",
      " 93%|█████████▎| 1861/2000 [01:27<00:07, 17.41it/s]"
     ]
    },
    {
     "name": "stdout",
     "output_type": "stream",
     "text": [
      "[CV 2/5] END .................C=5e-05, gamma=10;, score=0.460 total time= 3.2min\n",
      "Start computing kernel similarity matrix...\n",
      "Kernel similarity matrix computed in 1.14 seconds\n"
     ]
    },
    {
     "name": "stderr",
     "output_type": "stream",
     "text": [
      " 93%|█████████▎| 1869/2000 [01:28<00:08, 15.89it/s]"
     ]
    },
    {
     "name": "stdout",
     "output_type": "stream",
     "text": [
      "[CV 3/5] END .................C=5e-05, gamma=10;, score=0.476 total time= 3.2min\n",
      "Start computing kernel similarity matrix...\n",
      "Kernel similarity matrix computed in 1.31 seconds\n"
     ]
    },
    {
     "name": "stderr",
     "output_type": "stream",
     "text": [
      "\n",
      "100%|██████████| 2000/2000 [01:38<00:00, 20.20it/s]\n",
      "  0%|          | 0/10 [00:00<?, ?it/s]"
     ]
    },
    {
     "name": "stdout",
     "output_type": "stream",
     "text": [
      "[CV 4/5] END .................C=5e-05, gamma=10;, score=0.467 total time= 3.3min\n",
      "Start computing kernel similarity matrix...\n",
      "Kernel similarity matrix computed in 1.30 seconds\n"
     ]
    },
    {
     "name": "stderr",
     "output_type": "stream",
     "text": [
      "100%|██████████| 10/10 [01:26<00:00,  8.68s/it]\n",
      "  0%|          | 2/2000 [00:00<02:58, 11.19it/s]"
     ]
    },
    {
     "name": "stdout",
     "output_type": "stream",
     "text": [
      "Predicting...\n"
     ]
    },
    {
     "name": "stderr",
     "output_type": "stream",
     "text": [
      "100%|██████████| 10/10 [01:41<00:00, 10.16s/it]/s]\n",
      " 22%|██▎       | 450/2000 [00:31<01:42, 15.06it/s]"
     ]
    },
    {
     "name": "stdout",
     "output_type": "stream",
     "text": [
      "Predicting...\n"
     ]
    },
    {
     "name": "stderr",
     "output_type": "stream",
     "text": [
      "100%|██████████| 10/10 [01:41<00:00, 10.15s/it]]s]\n",
      "  0%|          | 10/2000 [00:00<01:51, 17.86it/s]]"
     ]
    },
    {
     "name": "stdout",
     "output_type": "stream",
     "text": [
      "Predicting...\n"
     ]
    },
    {
     "name": "stderr",
     "output_type": "stream",
     "text": [
      "100%|██████████| 10/10 [01:35<00:00,  9.54s/it]/s]\n",
      "  0%|          | 0/2000 [00:00<?, ?it/s]"
     ]
    },
    {
     "name": "stdout",
     "output_type": "stream",
     "text": [
      "Predicting...\n"
     ]
    },
    {
     "name": "stderr",
     "output_type": "stream",
     "text": [
      " 69%|██████▉   | 1379/2000 [01:04<00:29, 21.30it/s]"
     ]
    },
    {
     "name": "stdout",
     "output_type": "stream",
     "text": [
      "[CV 5/5] END .................C=5e-05, gamma=10;, score=0.483 total time= 3.1min\n",
      "Start computing kernel similarity matrix...\n",
      "Kernel similarity matrix computed in 0.83 seconds\n"
     ]
    },
    {
     "name": "stderr",
     "output_type": "stream",
     "text": [
      "\n",
      " 91%|█████████▏| 1828/2000 [01:25<00:09, 18.24it/s]\n",
      " 92%|█████████▏| 1830/2000 [01:25<00:09, 18.41it/s]"
     ]
    },
    {
     "name": "stdout",
     "output_type": "stream",
     "text": [
      "[CV 2/5] END ..................C=5e-05, gamma=5;, score=0.452 total time= 3.2min\n",
      "Start computing kernel similarity matrix...\n",
      "Kernel similarity matrix computed in 1.13 seconds\n"
     ]
    },
    {
     "name": "stderr",
     "output_type": "stream",
     "text": [
      "\r",
      " 92%|█████████▏| 1832/2000 [01:26<00:08, 18.76it/s]\r",
      " 92%|█████████▏| 1834/2000 [01:26<00:09, 18.31it/s]\n",
      "\r",
      "  0%|          | 0/10 [00:00<?, ?it/s]"
     ]
    },
    {
     "name": "stdout",
     "output_type": "stream",
     "text": [
      "[CV 1/5] END ..................C=5e-05, gamma=5;, score=0.469 total time= 3.2min\n",
      "Start computing kernel similarity matrix...\n",
      "Kernel similarity matrix computed in 0.99 seconds\n"
     ]
    },
    {
     "name": "stderr",
     "output_type": "stream",
     "text": [
      "100%|██████████| 2000/2000 [01:38<00:00, 20.26it/s]"
     ]
    },
    {
     "name": "stdout",
     "output_type": "stream",
     "text": [
      "[CV 3/5] END ..................C=5e-05, gamma=5;, score=0.481 total time= 3.3min\n",
      "Start computing kernel similarity matrix...\n",
      "Kernel similarity matrix computed in 1.36 seconds\n"
     ]
    },
    {
     "name": "stderr",
     "output_type": "stream",
     "text": [
      "\n",
      "100%|██████████| 10/10 [01:23<00:00,  8.31s/it]\n",
      "  0%|          | 0/2000 [00:00<?, ?it/s]"
     ]
    },
    {
     "name": "stdout",
     "output_type": "stream",
     "text": [
      "Predicting...\n"
     ]
    },
    {
     "name": "stderr",
     "output_type": "stream",
     "text": [
      "100%|██████████| 10/10 [01:40<00:00, 10.09s/it]/s]\n",
      " 28%|██▊       | 566/2000 [00:39<01:36, 14.87it/s]"
     ]
    },
    {
     "name": "stdout",
     "output_type": "stream",
     "text": [
      "Predicting...\n"
     ]
    },
    {
     "name": "stderr",
     "output_type": "stream",
     "text": [
      "100%|██████████| 10/10 [01:41<00:00, 10.11s/it]/s]\n",
      "  0%|          | 3/2000 [00:00<01:32, 21.49it/s]s]"
     ]
    },
    {
     "name": "stdout",
     "output_type": "stream",
     "text": [
      "Predicting...\n"
     ]
    },
    {
     "name": "stderr",
     "output_type": "stream",
     "text": [
      "100%|██████████| 10/10 [01:34<00:00,  9.48s/it]/s]\n",
      "  8%|▊         | 156/2000 [00:07<01:27, 21.12it/s]"
     ]
    },
    {
     "name": "stdout",
     "output_type": "stream",
     "text": [
      "Predicting...\n"
     ]
    },
    {
     "name": "stderr",
     "output_type": "stream",
     "text": [
      " 63%|██████▎   | 1269/2000 [00:57<00:33, 21.74it/s]\n",
      " 73%|███████▎  | 1460/2000 [01:05<00:25, 21.55it/s]"
     ]
    },
    {
     "name": "stdout",
     "output_type": "stream",
     "text": [
      "[CV 4/5] END ..................C=5e-05, gamma=5;, score=0.462 total time= 3.1min\n",
      "Start computing kernel similarity matrix...\n",
      "Kernel similarity matrix computed in 0.90 seconds\n"
     ]
    },
    {
     "name": "stderr",
     "output_type": "stream",
     "text": [
      "100%|█████████▉| 1995/2000 [01:30<00:00, 21.18it/s]"
     ]
    },
    {
     "name": "stdout",
     "output_type": "stream",
     "text": [
      "[CV 5/5] END ..................C=5e-05, gamma=5;, score=0.469 total time= 3.2min\n",
      "Start computing kernel similarity matrix...\n",
      "Kernel similarity matrix computed in 0.98 seconds\n"
     ]
    },
    {
     "name": "stderr",
     "output_type": "stream",
     "text": [
      "\n",
      " 92%|█████████▏| 1843/2000 [01:24<00:08, 19.30it/s]\n",
      " 92%|█████████▏| 1846/2000 [01:24<00:07, 19.74it/s]"
     ]
    },
    {
     "name": "stdout",
     "output_type": "stream",
     "text": [
      "[CV 1/5] END ..................C=5e-05, gamma=1;, score=0.595 total time= 3.2min\n",
      "Start computing kernel similarity matrix...\n",
      "Kernel similarity matrix computed in 1.05 seconds\n"
     ]
    },
    {
     "name": "stderr",
     "output_type": "stream",
     "text": [
      "100%|██████████| 2000/2000 [01:32<00:00, 21.66it/s]"
     ]
    },
    {
     "name": "stdout",
     "output_type": "stream",
     "text": [
      "[CV 2/5] END ..................C=5e-05, gamma=1;, score=0.602 total time= 3.1min\n",
      "Start computing kernel similarity matrix...\n",
      "Kernel similarity matrix computed in 1.28 seconds\n"
     ]
    },
    {
     "name": "stderr",
     "output_type": "stream",
     "text": [
      "\n",
      "100%|██████████| 10/10 [01:18<00:00,  7.88s/it]\n",
      "  0%|          | 2/2000 [00:00<02:48, 11.85it/s]"
     ]
    },
    {
     "name": "stdout",
     "output_type": "stream",
     "text": [
      "Predicting...\n"
     ]
    },
    {
     "name": "stderr",
     "output_type": "stream",
     "text": [
      "100%|██████████| 10/10 [01:37<00:00,  9.78s/it]/s]\n",
      " 28%|██▊       | 556/2000 [00:44<01:09, 20.73it/s]"
     ]
    },
    {
     "name": "stdout",
     "output_type": "stream",
     "text": [
      "Predicting...\n"
     ]
    },
    {
     "name": "stderr",
     "output_type": "stream",
     "text": [
      "100%|██████████| 10/10 [01:39<00:00,  9.93s/it]/s]\n",
      "  2%|▏         | 42/2000 [00:03<01:42, 19.12it/s]]"
     ]
    },
    {
     "name": "stdout",
     "output_type": "stream",
     "text": [
      "Predicting...\n"
     ]
    },
    {
     "name": "stderr",
     "output_type": "stream",
     "text": [
      "100%|██████████| 10/10 [01:35<00:00,  9.54s/it]/s]\n",
      "  8%|▊         | 150/2000 [00:08<01:25, 21.67it/s]"
     ]
    },
    {
     "name": "stdout",
     "output_type": "stream",
     "text": [
      "Predicting...\n"
     ]
    },
    {
     "name": "stderr",
     "output_type": "stream",
     "text": [
      " 64%|██████▍   | 1278/2000 [00:56<00:34, 20.90it/s]\n",
      " 64%|██████▍   | 1281/2000 [00:56<00:33, 21.26it/s]"
     ]
    },
    {
     "name": "stdout",
     "output_type": "stream",
     "text": [
      "[CV 3/5] END ..................C=5e-05, gamma=1;, score=0.602 total time= 3.1min\n",
      "Start computing kernel similarity matrix...\n",
      "Kernel similarity matrix computed in 0.93 seconds\n"
     ]
    },
    {
     "name": "stderr",
     "output_type": "stream",
     "text": [
      " 94%|█████████▎| 1871/2000 [01:24<00:06, 21.33it/s]\n",
      " 94%|█████████▎| 1874/2000 [01:24<00:05, 21.28it/s]"
     ]
    },
    {
     "name": "stdout",
     "output_type": "stream",
     "text": [
      "[CV 4/5] END ..................C=5e-05, gamma=1;, score=0.601 total time= 3.2min\n",
      "Start computing kernel similarity matrix...\n",
      "Kernel similarity matrix computed in 0.92 seconds\n"
     ]
    },
    {
     "name": "stderr",
     "output_type": "stream",
     "text": [
      " 95%|█████████▌| 1904/2000 [01:26<00:07, 12.25it/s]\n",
      " 95%|█████████▌| 1906/2000 [01:26<00:07, 12.17it/s]"
     ]
    },
    {
     "name": "stdout",
     "output_type": "stream",
     "text": [
      "[CV 5/5] END ..................C=5e-05, gamma=1;, score=0.595 total time= 3.2min\n",
      "Start computing kernel similarity matrix...\n",
      "Kernel similarity matrix computed in 1.28 seconds\n"
     ]
    },
    {
     "name": "stderr",
     "output_type": "stream",
     "text": [
      "100%|██████████| 2000/2000 [01:34<00:00, 21.23it/s]\n",
      "  0%|          | 0/10 [00:00<?, ?it/s]"
     ]
    },
    {
     "name": "stdout",
     "output_type": "stream",
     "text": [
      "[CV 1/5] END ................C=5e-05, gamma=0.5;, score=0.592 total time= 3.2min\n",
      "Start computing kernel similarity matrix...\n",
      "Kernel similarity matrix computed in 1.35 seconds\n"
     ]
    },
    {
     "name": "stderr",
     "output_type": "stream",
     "text": [
      "100%|██████████| 10/10 [01:15<00:00,  7.55s/it]\n",
      "  0%|          | 2/2000 [00:00<02:45, 12.11it/s]"
     ]
    },
    {
     "name": "stdout",
     "output_type": "stream",
     "text": [
      "Predicting...\n"
     ]
    },
    {
     "name": "stderr",
     "output_type": "stream",
     "text": [
      "100%|██████████| 10/10 [01:39<00:00,  9.98s/it]/s]\n",
      "  0%|          | 0/2000 [00:00<?, ?it/s]"
     ]
    },
    {
     "name": "stdout",
     "output_type": "stream",
     "text": [
      "Predicting...\n"
     ]
    },
    {
     "name": "stderr",
     "output_type": "stream",
     "text": [
      "100%|██████████| 10/10 [01:39<00:00,  9.97s/it]s]]\n",
      " 39%|███▉      | 786/2000 [00:54<00:55, 21.80it/s]"
     ]
    },
    {
     "name": "stdout",
     "output_type": "stream",
     "text": [
      "Predicting...\n"
     ]
    },
    {
     "name": "stderr",
     "output_type": "stream",
     "text": [
      "100%|██████████| 10/10 [01:35<00:00,  9.54s/it]/s]\n",
      "  8%|▊         | 153/2000 [00:07<01:23, 22.06it/s]"
     ]
    },
    {
     "name": "stdout",
     "output_type": "stream",
     "text": [
      "Predicting...\n"
     ]
    },
    {
     "name": "stderr",
     "output_type": "stream",
     "text": [
      " 61%|██████    | 1224/2000 [00:54<00:35, 22.15it/s]\n",
      " 64%|██████▎   | 1273/2000 [00:56<00:33, 21.89it/s]"
     ]
    },
    {
     "name": "stdout",
     "output_type": "stream",
     "text": [
      "[CV 2/5] END ................C=5e-05, gamma=0.5;, score=0.601 total time= 3.1min\n",
      "Start computing kernel similarity matrix...\n",
      "Kernel similarity matrix computed in 0.87 seconds\n"
     ]
    },
    {
     "name": "stderr",
     "output_type": "stream",
     "text": [
      " 92%|█████████▏| 1840/2000 [01:23<00:07, 21.07it/s]\n",
      " 92%|█████████▏| 1843/2000 [01:23<00:07, 21.11it/s]"
     ]
    },
    {
     "name": "stdout",
     "output_type": "stream",
     "text": [
      "[CV 3/5] END ................C=5e-05, gamma=0.5;, score=0.595 total time= 3.2min\n",
      "Start computing kernel similarity matrix...\n",
      "Kernel similarity matrix computed in 0.98 seconds\n"
     ]
    },
    {
     "name": "stderr",
     "output_type": "stream",
     "text": [
      " 94%|█████████▎| 1870/2000 [01:25<00:07, 18.33it/s]\n",
      " 94%|█████████▎| 1873/2000 [01:25<00:06, 19.16it/s]"
     ]
    },
    {
     "name": "stdout",
     "output_type": "stream",
     "text": [
      "[CV 4/5] END ................C=5e-05, gamma=0.5;, score=0.602 total time= 3.2min\n",
      "Start computing kernel similarity matrix...\n",
      "Kernel similarity matrix computed in 1.00 seconds\n"
     ]
    },
    {
     "name": "stderr",
     "output_type": "stream",
     "text": [
      "100%|██████████| 2000/2000 [01:31<00:00, 21.87it/s]"
     ]
    },
    {
     "name": "stdout",
     "output_type": "stream",
     "text": [
      "[CV 5/5] END ................C=5e-05, gamma=0.5;, score=0.601 total time= 3.1min\n",
      "Start computing kernel similarity matrix...\n",
      "Kernel similarity matrix computed in 1.34 seconds\n"
     ]
    },
    {
     "name": "stderr",
     "output_type": "stream",
     "text": [
      "\n",
      "100%|██████████| 10/10 [01:10<00:00,  7.04s/it]\n",
      "  0%|          | 2/2000 [00:00<02:58, 11.17it/s]"
     ]
    },
    {
     "name": "stdout",
     "output_type": "stream",
     "text": [
      "Predicting...\n"
     ]
    },
    {
     "name": "stderr",
     "output_type": "stream",
     "text": [
      "100%|██████████| 10/10 [01:39<00:00,  9.96s/it]/s]\n",
      "  0%|          | 3/2000 [00:00<01:37, 20.49it/s]s]"
     ]
    },
    {
     "name": "stdout",
     "output_type": "stream",
     "text": [
      "Predicting...\n"
     ]
    },
    {
     "name": "stderr",
     "output_type": "stream",
     "text": [
      "\r",
      " 46%|████▌     | 920/2000 [01:03<01:04, 16.82it/s]\r",
      "100%|██████████| 10/10 [01:38<00:00,  9.79s/it]\r",
      "100%|██████████| 10/10 [01:38<00:00,  9.83s/it]\n",
      "\r",
      "  0%|          | 0/2000 [00:00<?, ?it/s]\r",
      "  0%|          | 6/2000 [00:00<01:44, 19.10it/s]\r",
      " 46%|████▌     | 922/2000 [01:03<01:04, 16.76it/s]"
     ]
    },
    {
     "name": "stdout",
     "output_type": "stream",
     "text": [
      "Predicting...\n"
     ]
    },
    {
     "name": "stderr",
     "output_type": "stream",
     "text": [
      "100%|██████████| 10/10 [01:35<00:00,  9.51s/it]s]s]\n",
      "  0%|          | 3/2000 [00:00<01:31, 21.94it/s]s]]"
     ]
    },
    {
     "name": "stdout",
     "output_type": "stream",
     "text": [
      "Predicting...\n"
     ]
    },
    {
     "name": "stderr",
     "output_type": "stream",
     "text": [
      " 54%|█████▍    | 1085/2000 [00:49<00:43, 21.15it/s]\n",
      "  0%|          | 0/10 [00:00<?, ?it/s]"
     ]
    },
    {
     "name": "stdout",
     "output_type": "stream",
     "text": [
      "[CV 1/5] END .................C=1e-05, gamma=10;, score=0.474 total time= 3.1min\n",
      "Start computing kernel similarity matrix...\n",
      "Kernel similarity matrix computed in 0.90 seconds\n"
     ]
    },
    {
     "name": "stderr",
     "output_type": "stream",
     "text": [
      " 91%|█████████ | 1821/2000 [01:28<00:09, 18.84it/s]\n",
      "  0%|          | 0/10 [00:00<?, ?it/s]"
     ]
    },
    {
     "name": "stdout",
     "output_type": "stream",
     "text": [
      "[CV 2/5] END .................C=1e-05, gamma=10;, score=0.460 total time= 3.2min\n",
      "Start computing kernel similarity matrix...\n",
      "Kernel similarity matrix computed in 1.03 seconds\n"
     ]
    },
    {
     "name": "stderr",
     "output_type": "stream",
     "text": [
      " 91%|█████████▏| 1825/2000 [01:29<00:09, 19.06it/s]\n",
      " 91%|█████████▏| 1829/2000 [01:29<00:11, 14.26it/s]"
     ]
    },
    {
     "name": "stdout",
     "output_type": "stream",
     "text": [
      "[CV 3/5] END .................C=1e-05, gamma=10;, score=0.476 total time= 3.2min\n",
      "Start computing kernel similarity matrix...\n",
      "Kernel similarity matrix computed in 1.03 seconds\n"
     ]
    },
    {
     "name": "stderr",
     "output_type": "stream",
     "text": [
      "100%|██████████| 2000/2000 [01:43<00:00, 19.25it/s]\n",
      "  0%|          | 0/10 [00:00<?, ?it/s]"
     ]
    },
    {
     "name": "stdout",
     "output_type": "stream",
     "text": [
      "[CV 4/5] END .................C=1e-05, gamma=10;, score=0.467 total time= 3.3min\n",
      "Start computing kernel similarity matrix...\n",
      "Kernel similarity matrix computed in 1.33 seconds\n"
     ]
    },
    {
     "name": "stderr",
     "output_type": "stream",
     "text": [
      "\r",
      "100%|██████████| 10/10 [01:02<00:00,  7.53s/it]\r",
      "100%|██████████| 10/10 [01:02<00:00,  6.22s/it]\n",
      "\r",
      "  0%|          | 0/2000 [00:00<?, ?it/s]\r",
      "  0%|          | 2/2000 [00:00<02:51, 11.66it/s]"
     ]
    },
    {
     "name": "stdout",
     "output_type": "stream",
     "text": [
      "Predicting...\n"
     ]
    },
    {
     "name": "stderr",
     "output_type": "stream",
     "text": [
      "100%|██████████| 10/10 [01:37<00:00,  9.76s/it]t/s]\n",
      "  0%|          | 2/2000 [00:00<01:42, 19.46it/s]/s]"
     ]
    },
    {
     "name": "stdout",
     "output_type": "stream",
     "text": [
      "Predicting...\n"
     ]
    },
    {
     "name": "stderr",
     "output_type": "stream",
     "text": [
      "\r",
      "  0%|          | 4/2000 [00:00<01:41, 19.75it/s]\r",
      " 58%|█████▊    | 1158/2000 [01:20<01:11, 11.78it/s]\r",
      "  0%|          | 7/2000 [00:00<01:37, 20.47it/s]\r",
      "100%|██████████| 10/10 [01:37<00:00,  9.62s/it]\r",
      "100%|██████████| 10/10 [01:37<00:00,  9.76s/it]\n",
      "\r",
      "  0%|          | 0/2000 [00:00<?, ?it/s]\r",
      " 58%|█████▊    | 1160/2000 [01:20<01:02, 13.42it/s]"
     ]
    },
    {
     "name": "stdout",
     "output_type": "stream",
     "text": [
      "Predicting...\n"
     ]
    },
    {
     "name": "stderr",
     "output_type": "stream",
     "text": [
      "100%|██████████| 10/10 [01:29<00:00,  8.99s/it]/s]]\n",
      "  9%|▉         | 186/2000 [00:08<01:21, 22.22it/s]]"
     ]
    },
    {
     "name": "stdout",
     "output_type": "stream",
     "text": [
      "Predicting...\n"
     ]
    },
    {
     "name": "stderr",
     "output_type": "stream",
     "text": [
      " 33%|███▎      | 651/2000 [00:29<01:03, 21.08it/s]]\n",
      " 33%|███▎      | 654/2000 [00:29<01:03, 21.25it/s]"
     ]
    },
    {
     "name": "stdout",
     "output_type": "stream",
     "text": [
      "[CV 5/5] END .................C=1e-05, gamma=10;, score=0.483 total time= 3.0min\n",
      "Start computing kernel similarity matrix...\n",
      "Kernel similarity matrix computed in 0.84 seconds\n"
     ]
    },
    {
     "name": "stderr",
     "output_type": "stream",
     "text": [
      "100%|██████████| 10/10 [00:52<00:00,  5.27s/it]t/s]\n",
      "  0%|          | 0/2000 [00:00<?, ?it/s]"
     ]
    },
    {
     "name": "stdout",
     "output_type": "stream",
     "text": [
      "Predicting...\n"
     ]
    },
    {
     "name": "stderr",
     "output_type": "stream",
     "text": [
      "  1%|          | 17/2000 [00:00<01:33, 21.15it/s]s]\n",
      "  1%|          | 20/2000 [00:00<01:33, 21.22it/s]s]"
     ]
    },
    {
     "name": "stdout",
     "output_type": "stream",
     "text": [
      "[CV 1/5] END ..................C=1e-05, gamma=5;, score=0.470 total time= 3.2min\n",
      "Start computing kernel similarity matrix...\n",
      "Kernel similarity matrix computed in 0.95 seconds\n",
      "[CV 2/5] END ..................C=1e-05, gamma=5;, score=0.452 total time= 3.2min\n",
      "Start computing kernel similarity matrix...\n",
      "Kernel similarity matrix computed in 0.95 seconds\n"
     ]
    },
    {
     "name": "stderr",
     "output_type": "stream",
     "text": [
      "\n",
      "  9%|▉         | 175/2000 [00:12<02:34, 11.80it/s]]\n",
      "  9%|▉         | 177/2000 [00:13<02:35, 11.70it/s]"
     ]
    },
    {
     "name": "stdout",
     "output_type": "stream",
     "text": [
      "[CV 3/5] END ..................C=1e-05, gamma=5;, score=0.482 total time= 3.1min\n",
      "Start computing kernel similarity matrix...\n",
      "Kernel similarity matrix computed in 1.00 seconds\n"
     ]
    },
    {
     "name": "stderr",
     "output_type": "stream",
     "text": [
      "100%|██████████| 10/10 [01:37<00:00,  9.77s/it]t/s]\n",
      " 66%|██████▋   | 1329/2000 [01:38<00:58, 11.43it/s]"
     ]
    },
    {
     "name": "stdout",
     "output_type": "stream",
     "text": [
      "Predicting...\n"
     ]
    },
    {
     "name": "stderr",
     "output_type": "stream",
     "text": [
      "100%|██████████| 10/10 [01:38<00:00,  9.84s/it]t/s]\n",
      " 67%|██████▋   | 1340/2000 [01:39<00:44, 14.84it/s]"
     ]
    },
    {
     "name": "stdout",
     "output_type": "stream",
     "text": [
      "Predicting...\n"
     ]
    },
    {
     "name": "stderr",
     "output_type": "stream",
     "text": [
      "100%|██████████| 10/10 [01:31<00:00,  9.19s/it]/s]]\n",
      "  7%|▋         | 141/2000 [00:06<01:23, 22.18it/s]]"
     ]
    },
    {
     "name": "stdout",
     "output_type": "stream",
     "text": [
      "Predicting...\n"
     ]
    },
    {
     "name": "stderr",
     "output_type": "stream",
     "text": [
      " 35%|███▌      | 705/2000 [00:31<00:59, 21.74it/s]]\n",
      " 35%|███▌      | 708/2000 [00:31<00:58, 22.04it/s]"
     ]
    },
    {
     "name": "stdout",
     "output_type": "stream",
     "text": [
      "[CV 4/5] END ..................C=1e-05, gamma=5;, score=0.463 total time= 3.0min\n",
      "Start computing kernel similarity matrix...\n",
      "Kernel similarity matrix computed in 0.89 seconds\n"
     ]
    },
    {
     "name": "stderr",
     "output_type": "stream",
     "text": [
      "100%|██████████| 10/10 [00:54<00:00,  5.42s/it]t/s]\n",
      " 93%|█████████▎| 1863/2000 [01:25<00:06, 21.30it/s]"
     ]
    },
    {
     "name": "stdout",
     "output_type": "stream",
     "text": [
      "Predicting...\n"
     ]
    },
    {
     "name": "stderr",
     "output_type": "stream",
     "text": [
      " 92%|█████████▏| 1845/2000 [01:26<00:07, 21.69it/s]\n",
      "100%|█████████▉| 1996/2000 [01:32<00:00, 21.98it/s]"
     ]
    },
    {
     "name": "stdout",
     "output_type": "stream",
     "text": [
      "[CV 5/5] END ..................C=1e-05, gamma=5;, score=0.469 total time= 3.2min\n",
      "Start computing kernel similarity matrix...\n",
      "Kernel similarity matrix computed in 0.83 seconds\n"
     ]
    },
    {
     "name": "stderr",
     "output_type": "stream",
     "text": [
      " 10%|▉         | 195/2000 [00:08<01:28, 20.40it/s]]\n",
      " 10%|█         | 201/2000 [00:08<01:26, 20.88it/s]]"
     ]
    },
    {
     "name": "stdout",
     "output_type": "stream",
     "text": [
      "[CV 1/5] END ..................C=1e-05, gamma=1;, score=0.599 total time= 3.2min\n",
      "Start computing kernel similarity matrix...\n",
      "Kernel similarity matrix computed in 1.04 seconds\n"
     ]
    },
    {
     "name": "stderr",
     "output_type": "stream",
     "text": [
      " 17%|█▋        | 346/2000 [00:15<01:23, 19.86it/s]]\n",
      " 18%|█▊        | 351/2000 [00:16<01:23, 19.75it/s]"
     ]
    },
    {
     "name": "stdout",
     "output_type": "stream",
     "text": [
      "[CV 2/5] END ..................C=1e-05, gamma=1;, score=0.608 total time= 3.1min\n",
      "Start computing kernel similarity matrix...\n",
      "Kernel similarity matrix computed in 0.98 seconds\n"
     ]
    },
    {
     "name": "stderr",
     "output_type": "stream",
     "text": [
      "100%|██████████| 10/10 [01:36<00:00,  9.63s/it]t/s]\n",
      " 79%|███████▉  | 1589/2000 [01:43<00:32, 12.76it/s]"
     ]
    },
    {
     "name": "stdout",
     "output_type": "stream",
     "text": [
      "Predicting...\n"
     ]
    },
    {
     "name": "stderr",
     "output_type": "stream",
     "text": [
      "100%|██████████| 10/10 [01:36<00:00,  9.67s/it]t/s]\n",
      " 81%|████████▏ | 1629/2000 [01:45<00:17, 21.73it/s]"
     ]
    },
    {
     "name": "stdout",
     "output_type": "stream",
     "text": [
      "Predicting...\n"
     ]
    },
    {
     "name": "stderr",
     "output_type": "stream",
     "text": [
      " 87%|████████▋ | 1734/2000 [01:50<00:12, 21.54it/s]\n",
      "  8%|▊         | 151/2000 [00:07<01:26, 21.49it/s]]"
     ]
    },
    {
     "name": "stdout",
     "output_type": "stream",
     "text": [
      "Predicting...\n"
     ]
    },
    {
     "name": "stderr",
     "output_type": "stream",
     "text": [
      " 20%|█▉        | 390/2000 [00:18<01:13, 21.83it/s]]\n",
      " 22%|██▏       | 436/2000 [00:20<01:11, 21.72it/s]"
     ]
    },
    {
     "name": "stdout",
     "output_type": "stream",
     "text": [
      "[CV 3/5] END ..................C=1e-05, gamma=1;, score=0.601 total time= 3.0min\n",
      "Start computing kernel similarity matrix...\n",
      "Kernel similarity matrix computed in 0.86 seconds\n"
     ]
    },
    {
     "name": "stderr",
     "output_type": "stream",
     "text": [
      "100%|██████████| 10/10 [00:54<00:00,  5.43s/it]t/s]\n",
      "  0%|          | 3/2000 [00:00<01:26, 22.99it/s]/s]"
     ]
    },
    {
     "name": "stdout",
     "output_type": "stream",
     "text": [
      "Predicting...\n"
     ]
    },
    {
     "name": "stderr",
     "output_type": "stream",
     "text": [
      " 24%|██▎       | 470/2000 [00:20<01:18, 19.60it/s]]\n",
      " 94%|█████████▍| 1887/2000 [01:28<00:07, 15.50it/s]"
     ]
    },
    {
     "name": "stdout",
     "output_type": "stream",
     "text": [
      "[CV 4/5] END ..................C=1e-05, gamma=1;, score=0.601 total time= 3.2min\n",
      "Start computing kernel similarity matrix...\n",
      "Kernel similarity matrix computed in 0.97 seconds\n"
     ]
    },
    {
     "name": "stderr",
     "output_type": "stream",
     "text": [
      " 25%|██▍       | 491/2000 [00:22<01:19, 18.95it/s]]\n",
      " 95%|█████████▌| 1904/2000 [01:29<00:05, 18.36it/s]"
     ]
    },
    {
     "name": "stdout",
     "output_type": "stream",
     "text": [
      "[CV 5/5] END ..................C=1e-05, gamma=1;, score=0.600 total time= 3.2min\n",
      "Start computing kernel similarity matrix...\n",
      "Kernel similarity matrix computed in 1.10 seconds\n"
     ]
    },
    {
     "name": "stderr",
     "output_type": "stream",
     "text": [
      " 29%|██▉       | 589/2000 [00:27<01:57, 12.05it/s]]\n",
      " 30%|██▉       | 591/2000 [00:28<01:57, 12.00it/s]"
     ]
    },
    {
     "name": "stdout",
     "output_type": "stream",
     "text": [
      "[CV 1/5] END ................C=1e-05, gamma=0.5;, score=0.590 total time= 3.2min\n",
      "Start computing kernel similarity matrix...\n",
      "Kernel similarity matrix computed in 1.01 seconds\n"
     ]
    },
    {
     "name": "stderr",
     "output_type": "stream",
     "text": [
      "100%|██████████| 10/10 [01:37<00:00,  9.77s/it]t/s]\n",
      "  0%|          | 0/2000 [00:00<?, ?it/s]"
     ]
    },
    {
     "name": "stdout",
     "output_type": "stream",
     "text": [
      "Predicting...\n"
     ]
    },
    {
     "name": "stderr",
     "output_type": "stream",
     "text": [
      "100%|██████████| 10/10 [01:38<00:00,  9.83s/it]s]s]\n",
      "  0%|          | 0/2000 [00:00<?, ?it/s]"
     ]
    },
    {
     "name": "stdout",
     "output_type": "stream",
     "text": [
      "Predicting...\n"
     ]
    },
    {
     "name": "stderr",
     "output_type": "stream",
     "text": [
      "100%|██████████| 10/10 [01:35<00:00,  9.51s/it]s]s]\n",
      "  3%|▎         | 60/2000 [00:02<01:27, 22.23it/s]s]"
     ]
    },
    {
     "name": "stdout",
     "output_type": "stream",
     "text": [
      "Predicting...\n"
     ]
    },
    {
     "name": "stderr",
     "output_type": "stream",
     "text": [
      "100%|██████████| 2000/2000 [01:29<00:00, 22.29it/s]"
     ]
    },
    {
     "name": "stdout",
     "output_type": "stream",
     "text": [
      "Start computing kernel similarity matrix...\n",
      "Kernel similarity matrix computed in 1.14 seconds\n"
     ]
    },
    {
     "name": "stderr",
     "output_type": "stream",
     "text": [
      "100%|███████████████████████████████████████████| 10/10 [00:59<00:00,  5.95s/it]"
     ]
    },
    {
     "name": "stdout",
     "output_type": "stream",
     "text": [
      "{'C': 1e-05, 'gamma': 1}\n",
      "0.6017\n"
     ]
    },
    {
     "name": "stderr",
     "output_type": "stream",
     "text": [
      "\n"
     ]
    }
   ],
   "source": [
    "# on HOGs\n",
    "skf = StratifiedKFold(n_splits=5, shuffle=True)\n",
    "ridge = KernelRidgeClassifier(kernel='rbf')\n",
    "params = {'C': [0.0005, 0.0001, 0.00005, 0.00001], 'gamma': [10, 5, 1, 0.5]}\n",
    "clf = GridSearchCV(ridge, params, scoring='accuracy', cv=skf, n_jobs=4, verbose=4)\n",
    "clf.fit(hogs, y)\n",
    "print(clf.best_params_)\n",
    "print(clf.best_score_)"
   ]
  },
  {
   "cell_type": "code",
   "execution_count": 35,
   "metadata": {},
   "outputs": [
    {
     "data": {
      "text/plain": [
       "{'mean_fit_time': array([103.74861245, 102.97363267, 102.99051366, 103.29763937,\n",
       "        103.90078092, 102.34434924, 102.80078959, 100.35307627,\n",
       "         96.44503951,  97.80430236,  95.55394483,  94.46885748,\n",
       "         86.2771265 ,  88.28214536,  88.54024043,  89.12340446]),\n",
       " 'std_fit_time': array([ 0.97506234,  1.04799799,  0.87632787,  1.46667516,  2.67176885,\n",
       "         3.34148522,  3.68157096,  3.68593637,  5.97784013,  7.2585037 ,\n",
       "         8.09543388,  9.13536099, 15.77395682, 17.54491436, 16.7983347 ,\n",
       "        16.98016501]),\n",
       " 'mean_score_time': array([ 89.76554246,  90.86001482,  90.7993114 ,  90.99357438,\n",
       "         95.2432107 ,  92.87578678,  92.77999806,  90.93485365,\n",
       "         96.02198343,  95.09483366,  94.76069975,  94.26492853,\n",
       "        103.63611927,  99.24694066,  99.24639635,  97.8061902 ]),\n",
       " 'std_score_time': array([ 2.22204051,  1.3449433 ,  0.93360537,  0.7843087 ,  1.46478332,\n",
       "         2.53803625,  3.87655913,  2.14651659,  4.89296985,  5.51093783,\n",
       "         6.78335001,  6.94998588,  9.88770847, 14.88802534, 11.67871067,\n",
       "        14.67992917]),\n",
       " 'param_C': masked_array(data=[0.0005, 0.0005, 0.0005, 0.0005, 0.0001, 0.0001, 0.0001,\n",
       "                    0.0001, 5e-05, 5e-05, 5e-05, 5e-05, 1e-05, 1e-05,\n",
       "                    1e-05, 1e-05],\n",
       "              mask=[False, False, False, False, False, False, False, False,\n",
       "                    False, False, False, False, False, False, False, False],\n",
       "        fill_value='?',\n",
       "             dtype=object),\n",
       " 'param_gamma': masked_array(data=[10, 5, 1, 0.5, 10, 5, 1, 0.5, 10, 5, 1, 0.5, 10, 5, 1,\n",
       "                    0.5],\n",
       "              mask=[False, False, False, False, False, False, False, False,\n",
       "                    False, False, False, False, False, False, False, False],\n",
       "        fill_value='?',\n",
       "             dtype=object),\n",
       " 'params': [{'C': 0.0005, 'gamma': 10},\n",
       "  {'C': 0.0005, 'gamma': 5},\n",
       "  {'C': 0.0005, 'gamma': 1},\n",
       "  {'C': 0.0005, 'gamma': 0.5},\n",
       "  {'C': 0.0001, 'gamma': 10},\n",
       "  {'C': 0.0001, 'gamma': 5},\n",
       "  {'C': 0.0001, 'gamma': 1},\n",
       "  {'C': 0.0001, 'gamma': 0.5},\n",
       "  {'C': 5e-05, 'gamma': 10},\n",
       "  {'C': 5e-05, 'gamma': 5},\n",
       "  {'C': 5e-05, 'gamma': 1},\n",
       "  {'C': 5e-05, 'gamma': 0.5},\n",
       "  {'C': 1e-05, 'gamma': 10},\n",
       "  {'C': 1e-05, 'gamma': 5},\n",
       "  {'C': 1e-05, 'gamma': 1},\n",
       "  {'C': 1e-05, 'gamma': 0.5}],\n",
       " 'split0_test_score': array([0.474 , 0.468 , 0.5595, 0.569 , 0.474 , 0.469 , 0.5915, 0.5895,\n",
       "        0.474 , 0.4695, 0.595 , 0.592 , 0.474 , 0.4705, 0.599 , 0.5895]),\n",
       " 'split1_test_score': array([0.4595, 0.451 , 0.579 , 0.5805, 0.4595, 0.4515, 0.604 , 0.602 ,\n",
       "        0.4595, 0.4515, 0.602 , 0.6005, 0.4595, 0.4515, 0.6075, 0.595 ]),\n",
       " 'split2_test_score': array([0.476 , 0.48  , 0.5695, 0.5735, 0.476 , 0.481 , 0.5965, 0.597 ,\n",
       "        0.476 , 0.4815, 0.602 , 0.595 , 0.476 , 0.482 , 0.601 , 0.5975]),\n",
       " 'split3_test_score': array([0.467 , 0.46  , 0.5615, 0.5655, 0.467 , 0.4615, 0.5915, 0.6035,\n",
       "        0.467 , 0.4615, 0.6005, 0.6015, 0.467 , 0.4625, 0.601 , 0.598 ]),\n",
       " 'split4_test_score': array([0.483 , 0.465 , 0.5665, 0.571 , 0.483 , 0.4675, 0.588 , 0.596 ,\n",
       "        0.483 , 0.4685, 0.5945, 0.6005, 0.483 , 0.469 , 0.6   , 0.5985]),\n",
       " 'mean_test_score': array([0.4719, 0.4648, 0.5672, 0.5719, 0.4719, 0.4661, 0.5943, 0.5976,\n",
       "        0.4719, 0.4665, 0.5988, 0.5979, 0.4719, 0.4671, 0.6017, 0.5957]),\n",
       " 'std_test_score': array([0.00802745, 0.0095373 , 0.00688186, 0.00503389, 0.00802745,\n",
       "        0.00966126, 0.00555518, 0.00495379, 0.00802745, 0.00987927,\n",
       "        0.00335559, 0.00373363, 0.00802745, 0.01001699, 0.00299333,\n",
       "        0.00332566]),\n",
       " 'rank_test_score': array([ 9, 16,  8,  7,  9, 15,  6,  4,  9, 14,  2,  3,  9, 13,  1,  5],\n",
       "       dtype=int32)}"
      ]
     },
     "execution_count": 35,
     "metadata": {},
     "output_type": "execute_result"
    }
   ],
   "source": [
    "clf.cv_results_"
   ]
  },
  {
   "cell_type": "code",
   "execution_count": 10,
   "metadata": {
    "scrolled": true
   },
   "outputs": [
    {
     "name": "stdout",
     "output_type": "stream",
     "text": [
      "Fitting 5 folds for each of 9 candidates, totalling 45 fits\n",
      "Start computing kernel similarity matrix...\n",
      "Kernel similarity matrix computed in 0.38 seconds\n"
     ]
    },
    {
     "name": "stderr",
     "output_type": "stream",
     "text": [
      "100%|███████████████████████████████████████████| 10/10 [00:04<00:00,  2.17it/s]\n"
     ]
    },
    {
     "name": "stdout",
     "output_type": "stream",
     "text": [
      "Predicting...\n"
     ]
    },
    {
     "name": "stderr",
     "output_type": "stream",
     "text": [
      "100%|███████████████████████████████████████| 1000/1000 [00:31<00:00, 31.99it/s]\n"
     ]
    },
    {
     "name": "stdout",
     "output_type": "stream",
     "text": [
      "[CV 1/5] END .............C=5e-05, gamma=0.0005;, score=0.237 total time=  36.3s\n",
      "Start computing kernel similarity matrix...\n",
      "Kernel similarity matrix computed in 0.39 seconds\n"
     ]
    },
    {
     "name": "stderr",
     "output_type": "stream",
     "text": [
      "100%|███████████████████████████████████████████| 10/10 [00:04<00:00,  2.16it/s]\n"
     ]
    },
    {
     "name": "stdout",
     "output_type": "stream",
     "text": [
      "Predicting...\n"
     ]
    },
    {
     "name": "stderr",
     "output_type": "stream",
     "text": [
      "100%|███████████████████████████████████████| 1000/1000 [00:31<00:00, 31.50it/s]\n"
     ]
    },
    {
     "name": "stdout",
     "output_type": "stream",
     "text": [
      "[CV 2/5] END .............C=5e-05, gamma=0.0005;, score=0.205 total time=  36.8s\n",
      "Start computing kernel similarity matrix...\n",
      "Kernel similarity matrix computed in 0.40 seconds\n"
     ]
    },
    {
     "name": "stderr",
     "output_type": "stream",
     "text": [
      "100%|███████████████████████████████████████████| 10/10 [00:04<00:00,  2.14it/s]\n"
     ]
    },
    {
     "name": "stdout",
     "output_type": "stream",
     "text": [
      "Predicting...\n"
     ]
    },
    {
     "name": "stderr",
     "output_type": "stream",
     "text": [
      "100%|███████████████████████████████████████| 1000/1000 [00:31<00:00, 31.64it/s]\n"
     ]
    },
    {
     "name": "stdout",
     "output_type": "stream",
     "text": [
      "[CV 3/5] END .............C=5e-05, gamma=0.0005;, score=0.214 total time=  36.8s\n",
      "Start computing kernel similarity matrix...\n",
      "Kernel similarity matrix computed in 0.37 seconds\n"
     ]
    },
    {
     "name": "stderr",
     "output_type": "stream",
     "text": [
      "100%|███████████████████████████████████████████| 10/10 [00:04<00:00,  2.16it/s]\n"
     ]
    },
    {
     "name": "stdout",
     "output_type": "stream",
     "text": [
      "Predicting...\n"
     ]
    },
    {
     "name": "stderr",
     "output_type": "stream",
     "text": [
      "100%|███████████████████████████████████████| 1000/1000 [00:31<00:00, 32.04it/s]\n"
     ]
    },
    {
     "name": "stdout",
     "output_type": "stream",
     "text": [
      "[CV 4/5] END .............C=5e-05, gamma=0.0005;, score=0.231 total time=  36.3s\n",
      "Start computing kernel similarity matrix...\n",
      "Kernel similarity matrix computed in 0.40 seconds\n"
     ]
    },
    {
     "name": "stderr",
     "output_type": "stream",
     "text": [
      "100%|███████████████████████████████████████████| 10/10 [00:04<00:00,  2.18it/s]\n"
     ]
    },
    {
     "name": "stdout",
     "output_type": "stream",
     "text": [
      "Predicting...\n"
     ]
    },
    {
     "name": "stderr",
     "output_type": "stream",
     "text": [
      "100%|███████████████████████████████████████| 1000/1000 [00:31<00:00, 31.29it/s]\n"
     ]
    },
    {
     "name": "stdout",
     "output_type": "stream",
     "text": [
      "[CV 5/5] END .............C=5e-05, gamma=0.0005;, score=0.250 total time=  37.0s\n",
      "Start computing kernel similarity matrix...\n",
      "Kernel similarity matrix computed in 0.47 seconds\n"
     ]
    },
    {
     "name": "stderr",
     "output_type": "stream",
     "text": [
      "100%|███████████████████████████████████████████| 10/10 [00:05<00:00,  1.73it/s]\n"
     ]
    },
    {
     "name": "stdout",
     "output_type": "stream",
     "text": [
      "Predicting...\n"
     ]
    },
    {
     "name": "stderr",
     "output_type": "stream",
     "text": [
      "100%|███████████████████████████████████████| 1000/1000 [00:32<00:00, 30.58it/s]\n"
     ]
    },
    {
     "name": "stdout",
     "output_type": "stream",
     "text": [
      "[CV 1/5] END .............C=5e-05, gamma=0.0001;, score=0.235 total time=  39.0s\n",
      "Start computing kernel similarity matrix...\n",
      "Kernel similarity matrix computed in 0.42 seconds\n"
     ]
    },
    {
     "name": "stderr",
     "output_type": "stream",
     "text": [
      "100%|███████████████████████████████████████████| 10/10 [00:04<00:00,  2.02it/s]\n"
     ]
    },
    {
     "name": "stdout",
     "output_type": "stream",
     "text": [
      "Predicting...\n"
     ]
    },
    {
     "name": "stderr",
     "output_type": "stream",
     "text": [
      "100%|███████████████████████████████████████| 1000/1000 [00:31<00:00, 31.99it/s]\n"
     ]
    },
    {
     "name": "stdout",
     "output_type": "stream",
     "text": [
      "[CV 2/5] END .............C=5e-05, gamma=0.0001;, score=0.195 total time=  36.7s\n",
      "Start computing kernel similarity matrix...\n",
      "Kernel similarity matrix computed in 0.36 seconds\n"
     ]
    },
    {
     "name": "stderr",
     "output_type": "stream",
     "text": [
      "100%|███████████████████████████████████████████| 10/10 [00:04<00:00,  2.19it/s]\n"
     ]
    },
    {
     "name": "stdout",
     "output_type": "stream",
     "text": [
      "Predicting...\n"
     ]
    },
    {
     "name": "stderr",
     "output_type": "stream",
     "text": [
      "100%|███████████████████████████████████████| 1000/1000 [00:31<00:00, 32.23it/s]\n"
     ]
    },
    {
     "name": "stdout",
     "output_type": "stream",
     "text": [
      "[CV 3/5] END .............C=5e-05, gamma=0.0001;, score=0.210 total time=  36.0s\n",
      "Start computing kernel similarity matrix...\n",
      "Kernel similarity matrix computed in 0.37 seconds\n"
     ]
    },
    {
     "name": "stderr",
     "output_type": "stream",
     "text": [
      "100%|███████████████████████████████████████████| 10/10 [00:05<00:00,  1.82it/s]\n"
     ]
    },
    {
     "name": "stdout",
     "output_type": "stream",
     "text": [
      "Predicting...\n"
     ]
    },
    {
     "name": "stderr",
     "output_type": "stream",
     "text": [
      "100%|███████████████████████████████████████| 1000/1000 [00:31<00:00, 31.74it/s]\n"
     ]
    },
    {
     "name": "stdout",
     "output_type": "stream",
     "text": [
      "[CV 4/5] END .............C=5e-05, gamma=0.0001;, score=0.214 total time=  37.4s\n",
      "Start computing kernel similarity matrix...\n",
      "Kernel similarity matrix computed in 0.37 seconds\n"
     ]
    },
    {
     "name": "stderr",
     "output_type": "stream",
     "text": [
      "100%|███████████████████████████████████████████| 10/10 [00:04<00:00,  2.20it/s]\n"
     ]
    },
    {
     "name": "stdout",
     "output_type": "stream",
     "text": [
      "Predicting...\n"
     ]
    },
    {
     "name": "stderr",
     "output_type": "stream",
     "text": [
      "100%|███████████████████████████████████████| 1000/1000 [00:30<00:00, 32.45it/s]\n"
     ]
    },
    {
     "name": "stdout",
     "output_type": "stream",
     "text": [
      "[CV 5/5] END .............C=5e-05, gamma=0.0001;, score=0.223 total time=  35.8s\n",
      "Start computing kernel similarity matrix...\n",
      "Kernel similarity matrix computed in 0.37 seconds\n"
     ]
    },
    {
     "name": "stderr",
     "output_type": "stream",
     "text": [
      "100%|███████████████████████████████████████████| 10/10 [00:04<00:00,  2.19it/s]\n"
     ]
    },
    {
     "name": "stdout",
     "output_type": "stream",
     "text": [
      "Predicting...\n"
     ]
    },
    {
     "name": "stderr",
     "output_type": "stream",
     "text": [
      "100%|███████████████████████████████████████| 1000/1000 [00:30<00:00, 32.85it/s]\n"
     ]
    },
    {
     "name": "stdout",
     "output_type": "stream",
     "text": [
      "[CV 1/5] END ..............C=5e-05, gamma=5e-05;, score=0.217 total time=  35.4s\n",
      "Start computing kernel similarity matrix...\n",
      "Kernel similarity matrix computed in 0.36 seconds\n"
     ]
    },
    {
     "name": "stderr",
     "output_type": "stream",
     "text": [
      "100%|███████████████████████████████████████████| 10/10 [00:04<00:00,  2.16it/s]\n"
     ]
    },
    {
     "name": "stdout",
     "output_type": "stream",
     "text": [
      "Predicting...\n"
     ]
    },
    {
     "name": "stderr",
     "output_type": "stream",
     "text": [
      "100%|███████████████████████████████████████| 1000/1000 [00:30<00:00, 32.31it/s]\n"
     ]
    },
    {
     "name": "stdout",
     "output_type": "stream",
     "text": [
      "[CV 2/5] END ..............C=5e-05, gamma=5e-05;, score=0.186 total time=  36.0s\n",
      "Start computing kernel similarity matrix...\n",
      "Kernel similarity matrix computed in 0.37 seconds\n"
     ]
    },
    {
     "name": "stderr",
     "output_type": "stream",
     "text": [
      "100%|███████████████████████████████████████████| 10/10 [00:04<00:00,  2.21it/s]\n"
     ]
    },
    {
     "name": "stdout",
     "output_type": "stream",
     "text": [
      "Predicting...\n"
     ]
    },
    {
     "name": "stderr",
     "output_type": "stream",
     "text": [
      "100%|███████████████████████████████████████| 1000/1000 [00:30<00:00, 32.34it/s]\n"
     ]
    },
    {
     "name": "stdout",
     "output_type": "stream",
     "text": [
      "[CV 3/5] END ..............C=5e-05, gamma=5e-05;, score=0.197 total time=  35.9s\n",
      "Start computing kernel similarity matrix...\n",
      "Kernel similarity matrix computed in 0.36 seconds\n"
     ]
    },
    {
     "name": "stderr",
     "output_type": "stream",
     "text": [
      "100%|███████████████████████████████████████████| 10/10 [00:04<00:00,  2.13it/s]\n"
     ]
    },
    {
     "name": "stdout",
     "output_type": "stream",
     "text": [
      "Predicting...\n"
     ]
    },
    {
     "name": "stderr",
     "output_type": "stream",
     "text": [
      "100%|███████████████████████████████████████| 1000/1000 [00:32<00:00, 31.02it/s]\n"
     ]
    },
    {
     "name": "stdout",
     "output_type": "stream",
     "text": [
      "[CV 4/5] END ..............C=5e-05, gamma=5e-05;, score=0.204 total time=  37.4s\n",
      "Start computing kernel similarity matrix...\n",
      "Kernel similarity matrix computed in 0.36 seconds\n"
     ]
    },
    {
     "name": "stderr",
     "output_type": "stream",
     "text": [
      "100%|███████████████████████████████████████████| 10/10 [00:04<00:00,  2.10it/s]\n"
     ]
    },
    {
     "name": "stdout",
     "output_type": "stream",
     "text": [
      "Predicting...\n"
     ]
    },
    {
     "name": "stderr",
     "output_type": "stream",
     "text": [
      "100%|███████████████████████████████████████| 1000/1000 [00:31<00:00, 31.45it/s]\n"
     ]
    },
    {
     "name": "stdout",
     "output_type": "stream",
     "text": [
      "[CV 5/5] END ..............C=5e-05, gamma=5e-05;, score=0.203 total time=  37.0s\n",
      "Start computing kernel similarity matrix...\n",
      "Kernel similarity matrix computed in 0.39 seconds\n"
     ]
    },
    {
     "name": "stderr",
     "output_type": "stream",
     "text": [
      "100%|███████████████████████████████████████████| 10/10 [00:05<00:00,  1.90it/s]\n"
     ]
    },
    {
     "name": "stdout",
     "output_type": "stream",
     "text": [
      "Predicting...\n"
     ]
    },
    {
     "name": "stderr",
     "output_type": "stream",
     "text": [
      "100%|███████████████████████████████████████| 1000/1000 [00:31<00:00, 31.67it/s]\n"
     ]
    },
    {
     "name": "stdout",
     "output_type": "stream",
     "text": [
      "[CV 1/5] END .............C=1e-05, gamma=0.0005;, score=0.244 total time=  37.3s\n",
      "Start computing kernel similarity matrix...\n",
      "Kernel similarity matrix computed in 0.37 seconds\n"
     ]
    },
    {
     "name": "stderr",
     "output_type": "stream",
     "text": [
      "100%|███████████████████████████████████████████| 10/10 [00:04<00:00,  2.06it/s]\n"
     ]
    },
    {
     "name": "stdout",
     "output_type": "stream",
     "text": [
      "Predicting...\n"
     ]
    },
    {
     "name": "stderr",
     "output_type": "stream",
     "text": [
      "100%|███████████████████████████████████████| 1000/1000 [00:31<00:00, 32.06it/s]\n"
     ]
    },
    {
     "name": "stdout",
     "output_type": "stream",
     "text": [
      "[CV 2/5] END .............C=1e-05, gamma=0.0005;, score=0.208 total time=  36.5s\n",
      "Start computing kernel similarity matrix...\n",
      "Kernel similarity matrix computed in 0.41 seconds\n"
     ]
    },
    {
     "name": "stderr",
     "output_type": "stream",
     "text": [
      "100%|███████████████████████████████████████████| 10/10 [00:06<00:00,  1.64it/s]\n"
     ]
    },
    {
     "name": "stdout",
     "output_type": "stream",
     "text": [
      "Predicting...\n"
     ]
    },
    {
     "name": "stderr",
     "output_type": "stream",
     "text": [
      "100%|███████████████████████████████████████| 1000/1000 [00:32<00:00, 30.73it/s]\n"
     ]
    },
    {
     "name": "stdout",
     "output_type": "stream",
     "text": [
      "[CV 3/5] END .............C=1e-05, gamma=0.0005;, score=0.215 total time=  39.1s\n",
      "Start computing kernel similarity matrix...\n",
      "Kernel similarity matrix computed in 0.44 seconds\n"
     ]
    },
    {
     "name": "stderr",
     "output_type": "stream",
     "text": [
      "100%|███████████████████████████████████████████| 10/10 [00:05<00:00,  1.86it/s]\n"
     ]
    },
    {
     "name": "stdout",
     "output_type": "stream",
     "text": [
      "Predicting...\n"
     ]
    },
    {
     "name": "stderr",
     "output_type": "stream",
     "text": [
      "100%|███████████████████████████████████████| 1000/1000 [00:32<00:00, 31.20it/s]\n"
     ]
    },
    {
     "name": "stdout",
     "output_type": "stream",
     "text": [
      "[CV 4/5] END .............C=1e-05, gamma=0.0005;, score=0.223 total time=  38.0s\n",
      "Start computing kernel similarity matrix...\n",
      "Kernel similarity matrix computed in 0.38 seconds\n"
     ]
    },
    {
     "name": "stderr",
     "output_type": "stream",
     "text": [
      "100%|███████████████████████████████████████████| 10/10 [00:04<00:00,  2.08it/s]\n"
     ]
    },
    {
     "name": "stdout",
     "output_type": "stream",
     "text": [
      "Predicting...\n"
     ]
    },
    {
     "name": "stderr",
     "output_type": "stream",
     "text": [
      "100%|███████████████████████████████████████| 1000/1000 [00:31<00:00, 32.04it/s]\n"
     ]
    },
    {
     "name": "stdout",
     "output_type": "stream",
     "text": [
      "[CV 5/5] END .............C=1e-05, gamma=0.0005;, score=0.255 total time=  36.5s\n",
      "Start computing kernel similarity matrix...\n",
      "Kernel similarity matrix computed in 0.38 seconds\n"
     ]
    },
    {
     "name": "stderr",
     "output_type": "stream",
     "text": [
      "100%|███████████████████████████████████████████| 10/10 [00:04<00:00,  2.00it/s]\n"
     ]
    },
    {
     "name": "stdout",
     "output_type": "stream",
     "text": [
      "Predicting...\n"
     ]
    },
    {
     "name": "stderr",
     "output_type": "stream",
     "text": [
      "100%|███████████████████████████████████████| 1000/1000 [00:31<00:00, 31.32it/s]\n"
     ]
    },
    {
     "name": "stdout",
     "output_type": "stream",
     "text": [
      "[CV 1/5] END .............C=1e-05, gamma=0.0001;, score=0.229 total time=  37.4s\n",
      "Start computing kernel similarity matrix...\n",
      "Kernel similarity matrix computed in 0.37 seconds\n"
     ]
    },
    {
     "name": "stderr",
     "output_type": "stream",
     "text": [
      "100%|███████████████████████████████████████████| 10/10 [00:04<00:00,  2.09it/s]\n"
     ]
    },
    {
     "name": "stdout",
     "output_type": "stream",
     "text": [
      "Predicting...\n"
     ]
    },
    {
     "name": "stderr",
     "output_type": "stream",
     "text": [
      "100%|███████████████████████████████████████| 1000/1000 [00:32<00:00, 30.48it/s]\n"
     ]
    },
    {
     "name": "stdout",
     "output_type": "stream",
     "text": [
      "[CV 2/5] END .............C=1e-05, gamma=0.0001;, score=0.192 total time=  38.0s\n",
      "Start computing kernel similarity matrix...\n",
      "Kernel similarity matrix computed in 0.37 seconds\n"
     ]
    },
    {
     "name": "stderr",
     "output_type": "stream",
     "text": [
      "100%|███████████████████████████████████████████| 10/10 [00:05<00:00,  1.74it/s]\n"
     ]
    },
    {
     "name": "stdout",
     "output_type": "stream",
     "text": [
      "Predicting...\n"
     ]
    },
    {
     "name": "stderr",
     "output_type": "stream",
     "text": [
      "100%|███████████████████████████████████████| 1000/1000 [00:31<00:00, 31.36it/s]\n"
     ]
    },
    {
     "name": "stdout",
     "output_type": "stream",
     "text": [
      "[CV 3/5] END .............C=1e-05, gamma=0.0001;, score=0.196 total time=  38.1s\n",
      "Start computing kernel similarity matrix...\n",
      "Kernel similarity matrix computed in 0.37 seconds\n"
     ]
    },
    {
     "name": "stderr",
     "output_type": "stream",
     "text": [
      "100%|███████████████████████████████████████████| 10/10 [00:06<00:00,  1.64it/s]\n"
     ]
    },
    {
     "name": "stdout",
     "output_type": "stream",
     "text": [
      "Predicting...\n"
     ]
    },
    {
     "name": "stderr",
     "output_type": "stream",
     "text": [
      "100%|███████████████████████████████████████| 1000/1000 [00:31<00:00, 31.27it/s]\n"
     ]
    },
    {
     "name": "stdout",
     "output_type": "stream",
     "text": [
      "[CV 4/5] END .............C=1e-05, gamma=0.0001;, score=0.222 total time=  38.5s\n",
      "Start computing kernel similarity matrix...\n",
      "Kernel similarity matrix computed in 0.44 seconds\n"
     ]
    },
    {
     "name": "stderr",
     "output_type": "stream",
     "text": [
      "100%|███████████████████████████████████████████| 10/10 [00:04<00:00,  2.19it/s]\n"
     ]
    },
    {
     "name": "stdout",
     "output_type": "stream",
     "text": [
      "Predicting...\n"
     ]
    },
    {
     "name": "stderr",
     "output_type": "stream",
     "text": [
      "100%|███████████████████████████████████████| 1000/1000 [00:31<00:00, 31.61it/s]\n"
     ]
    },
    {
     "name": "stdout",
     "output_type": "stream",
     "text": [
      "[CV 5/5] END .............C=1e-05, gamma=0.0001;, score=0.224 total time=  36.7s\n",
      "Start computing kernel similarity matrix...\n",
      "Kernel similarity matrix computed in 0.39 seconds\n"
     ]
    },
    {
     "name": "stderr",
     "output_type": "stream",
     "text": [
      "100%|███████████████████████████████████████████| 10/10 [00:04<00:00,  2.02it/s]\n"
     ]
    },
    {
     "name": "stdout",
     "output_type": "stream",
     "text": [
      "Predicting...\n"
     ]
    },
    {
     "name": "stderr",
     "output_type": "stream",
     "text": [
      "100%|███████████████████████████████████████| 1000/1000 [00:31<00:00, 31.48it/s]\n"
     ]
    },
    {
     "name": "stdout",
     "output_type": "stream",
     "text": [
      "[CV 1/5] END ..............C=1e-05, gamma=5e-05;, score=0.215 total time=  37.2s\n",
      "Start computing kernel similarity matrix...\n",
      "Kernel similarity matrix computed in 0.37 seconds\n"
     ]
    },
    {
     "name": "stderr",
     "output_type": "stream",
     "text": [
      "100%|███████████████████████████████████████████| 10/10 [00:04<00:00,  2.17it/s]\n"
     ]
    },
    {
     "name": "stdout",
     "output_type": "stream",
     "text": [
      "Predicting...\n"
     ]
    },
    {
     "name": "stderr",
     "output_type": "stream",
     "text": [
      "100%|███████████████████████████████████████| 1000/1000 [00:31<00:00, 32.16it/s]\n"
     ]
    },
    {
     "name": "stdout",
     "output_type": "stream",
     "text": [
      "[CV 2/5] END ..............C=1e-05, gamma=5e-05;, score=0.186 total time=  36.1s\n",
      "Start computing kernel similarity matrix...\n",
      "Kernel similarity matrix computed in 0.37 seconds\n"
     ]
    },
    {
     "name": "stderr",
     "output_type": "stream",
     "text": [
      "100%|███████████████████████████████████████████| 10/10 [00:04<00:00,  2.11it/s]\n"
     ]
    },
    {
     "name": "stdout",
     "output_type": "stream",
     "text": [
      "Predicting...\n"
     ]
    },
    {
     "name": "stderr",
     "output_type": "stream",
     "text": [
      "100%|███████████████████████████████████████| 1000/1000 [00:31<00:00, 31.28it/s]\n"
     ]
    },
    {
     "name": "stdout",
     "output_type": "stream",
     "text": [
      "[CV 3/5] END ..............C=1e-05, gamma=5e-05;, score=0.191 total time=  37.1s\n",
      "Start computing kernel similarity matrix...\n",
      "Kernel similarity matrix computed in 0.48 seconds\n"
     ]
    },
    {
     "name": "stderr",
     "output_type": "stream",
     "text": [
      "100%|███████████████████████████████████████████| 10/10 [00:04<00:00,  2.09it/s]\n"
     ]
    },
    {
     "name": "stdout",
     "output_type": "stream",
     "text": [
      "Predicting...\n"
     ]
    },
    {
     "name": "stderr",
     "output_type": "stream",
     "text": [
      "100%|███████████████████████████████████████| 1000/1000 [00:31<00:00, 31.86it/s]\n"
     ]
    },
    {
     "name": "stdout",
     "output_type": "stream",
     "text": [
      "[CV 4/5] END ..............C=1e-05, gamma=5e-05;, score=0.202 total time=  36.7s\n",
      "Start computing kernel similarity matrix...\n",
      "Kernel similarity matrix computed in 0.37 seconds\n"
     ]
    },
    {
     "name": "stderr",
     "output_type": "stream",
     "text": [
      "100%|███████████████████████████████████████████| 10/10 [00:04<00:00,  2.19it/s]\n"
     ]
    },
    {
     "name": "stdout",
     "output_type": "stream",
     "text": [
      "Predicting...\n"
     ]
    },
    {
     "name": "stderr",
     "output_type": "stream",
     "text": [
      "100%|███████████████████████████████████████| 1000/1000 [00:31<00:00, 32.03it/s]\n"
     ]
    },
    {
     "name": "stdout",
     "output_type": "stream",
     "text": [
      "[CV 5/5] END ..............C=1e-05, gamma=5e-05;, score=0.206 total time=  36.2s\n",
      "Start computing kernel similarity matrix...\n",
      "Kernel similarity matrix computed in 0.37 seconds\n"
     ]
    },
    {
     "name": "stderr",
     "output_type": "stream",
     "text": [
      "100%|███████████████████████████████████████████| 10/10 [00:04<00:00,  2.18it/s]\n"
     ]
    },
    {
     "name": "stdout",
     "output_type": "stream",
     "text": [
      "Predicting...\n"
     ]
    },
    {
     "name": "stderr",
     "output_type": "stream",
     "text": [
      "100%|███████████████████████████████████████| 1000/1000 [00:31<00:00, 31.64it/s]\n"
     ]
    },
    {
     "name": "stdout",
     "output_type": "stream",
     "text": [
      "[CV 1/5] END .............C=5e-06, gamma=0.0005;, score=0.244 total time=  36.6s\n",
      "Start computing kernel similarity matrix...\n",
      "Kernel similarity matrix computed in 0.37 seconds\n"
     ]
    },
    {
     "name": "stderr",
     "output_type": "stream",
     "text": [
      "100%|███████████████████████████████████████████| 10/10 [00:04<00:00,  2.15it/s]\n"
     ]
    },
    {
     "name": "stdout",
     "output_type": "stream",
     "text": [
      "Predicting...\n"
     ]
    },
    {
     "name": "stderr",
     "output_type": "stream",
     "text": [
      "100%|███████████████████████████████████████| 1000/1000 [00:31<00:00, 31.71it/s]\n"
     ]
    },
    {
     "name": "stdout",
     "output_type": "stream",
     "text": [
      "[CV 2/5] END .............C=5e-06, gamma=0.0005;, score=0.209 total time=  36.6s\n",
      "Start computing kernel similarity matrix...\n",
      "Kernel similarity matrix computed in 0.37 seconds\n"
     ]
    },
    {
     "name": "stderr",
     "output_type": "stream",
     "text": [
      "100%|███████████████████████████████████████████| 10/10 [00:04<00:00,  2.14it/s]\n"
     ]
    },
    {
     "name": "stdout",
     "output_type": "stream",
     "text": [
      "Predicting...\n"
     ]
    },
    {
     "name": "stderr",
     "output_type": "stream",
     "text": [
      "100%|███████████████████████████████████████| 1000/1000 [00:31<00:00, 31.46it/s]\n"
     ]
    },
    {
     "name": "stdout",
     "output_type": "stream",
     "text": [
      "[CV 3/5] END .............C=5e-06, gamma=0.0005;, score=0.218 total time=  36.9s\n",
      "Start computing kernel similarity matrix...\n",
      "Kernel similarity matrix computed in 0.41 seconds\n"
     ]
    },
    {
     "name": "stderr",
     "output_type": "stream",
     "text": [
      "100%|███████████████████████████████████████████| 10/10 [00:04<00:00,  2.15it/s]\n"
     ]
    },
    {
     "name": "stdout",
     "output_type": "stream",
     "text": [
      "Predicting...\n"
     ]
    },
    {
     "name": "stderr",
     "output_type": "stream",
     "text": [
      "100%|███████████████████████████████████████| 1000/1000 [00:31<00:00, 31.63it/s]\n"
     ]
    },
    {
     "name": "stdout",
     "output_type": "stream",
     "text": [
      "[CV 4/5] END .............C=5e-06, gamma=0.0005;, score=0.224 total time=  36.7s\n",
      "Start computing kernel similarity matrix...\n",
      "Kernel similarity matrix computed in 0.37 seconds\n"
     ]
    },
    {
     "name": "stderr",
     "output_type": "stream",
     "text": [
      "100%|███████████████████████████████████████████| 10/10 [00:04<00:00,  2.11it/s]\n"
     ]
    },
    {
     "name": "stdout",
     "output_type": "stream",
     "text": [
      "Predicting...\n"
     ]
    },
    {
     "name": "stderr",
     "output_type": "stream",
     "text": [
      "100%|███████████████████████████████████████| 1000/1000 [00:31<00:00, 32.25it/s]\n"
     ]
    },
    {
     "name": "stdout",
     "output_type": "stream",
     "text": [
      "[CV 5/5] END .............C=5e-06, gamma=0.0005;, score=0.253 total time=  36.2s\n",
      "Start computing kernel similarity matrix...\n",
      "Kernel similarity matrix computed in 0.36 seconds\n"
     ]
    },
    {
     "name": "stderr",
     "output_type": "stream",
     "text": [
      "100%|███████████████████████████████████████████| 10/10 [00:04<00:00,  2.09it/s]\n"
     ]
    },
    {
     "name": "stdout",
     "output_type": "stream",
     "text": [
      "Predicting...\n"
     ]
    },
    {
     "name": "stderr",
     "output_type": "stream",
     "text": [
      "100%|███████████████████████████████████████| 1000/1000 [00:31<00:00, 31.82it/s]\n"
     ]
    },
    {
     "name": "stdout",
     "output_type": "stream",
     "text": [
      "[CV 1/5] END .............C=5e-06, gamma=0.0001;, score=0.222 total time=  36.6s\n",
      "Start computing kernel similarity matrix...\n",
      "Kernel similarity matrix computed in 0.36 seconds\n"
     ]
    },
    {
     "name": "stderr",
     "output_type": "stream",
     "text": [
      "100%|███████████████████████████████████████████| 10/10 [00:04<00:00,  2.13it/s]\n"
     ]
    },
    {
     "name": "stdout",
     "output_type": "stream",
     "text": [
      "Predicting...\n"
     ]
    },
    {
     "name": "stderr",
     "output_type": "stream",
     "text": [
      "100%|███████████████████████████████████████| 1000/1000 [00:30<00:00, 32.52it/s]\n"
     ]
    },
    {
     "name": "stdout",
     "output_type": "stream",
     "text": [
      "[CV 2/5] END .............C=5e-06, gamma=0.0001;, score=0.196 total time=  35.9s\n",
      "Start computing kernel similarity matrix...\n",
      "Kernel similarity matrix computed in 0.37 seconds\n"
     ]
    },
    {
     "name": "stderr",
     "output_type": "stream",
     "text": [
      "100%|███████████████████████████████████████████| 10/10 [00:04<00:00,  2.18it/s]\n"
     ]
    },
    {
     "name": "stdout",
     "output_type": "stream",
     "text": [
      "Predicting...\n"
     ]
    },
    {
     "name": "stderr",
     "output_type": "stream",
     "text": [
      "100%|███████████████████████████████████████| 1000/1000 [00:30<00:00, 32.54it/s]\n"
     ]
    },
    {
     "name": "stdout",
     "output_type": "stream",
     "text": [
      "[CV 3/5] END .............C=5e-06, gamma=0.0001;, score=0.200 total time=  35.7s\n",
      "Start computing kernel similarity matrix...\n",
      "Kernel similarity matrix computed in 0.36 seconds\n"
     ]
    },
    {
     "name": "stderr",
     "output_type": "stream",
     "text": [
      "100%|███████████████████████████████████████████| 10/10 [00:04<00:00,  2.20it/s]\n"
     ]
    },
    {
     "name": "stdout",
     "output_type": "stream",
     "text": [
      "Predicting...\n"
     ]
    },
    {
     "name": "stderr",
     "output_type": "stream",
     "text": [
      "100%|███████████████████████████████████████| 1000/1000 [00:31<00:00, 32.22it/s]\n"
     ]
    },
    {
     "name": "stdout",
     "output_type": "stream",
     "text": [
      "[CV 4/5] END .............C=5e-06, gamma=0.0001;, score=0.217 total time=  36.0s\n",
      "Start computing kernel similarity matrix...\n",
      "Kernel similarity matrix computed in 0.37 seconds\n"
     ]
    },
    {
     "name": "stderr",
     "output_type": "stream",
     "text": [
      "100%|███████████████████████████████████████████| 10/10 [00:04<00:00,  2.06it/s]\n"
     ]
    },
    {
     "name": "stdout",
     "output_type": "stream",
     "text": [
      "Predicting...\n"
     ]
    },
    {
     "name": "stderr",
     "output_type": "stream",
     "text": [
      "100%|███████████████████████████████████████| 1000/1000 [00:31<00:00, 31.44it/s]\n"
     ]
    },
    {
     "name": "stdout",
     "output_type": "stream",
     "text": [
      "[CV 5/5] END .............C=5e-06, gamma=0.0001;, score=0.227 total time=  37.1s\n",
      "Start computing kernel similarity matrix...\n",
      "Kernel similarity matrix computed in 0.37 seconds\n"
     ]
    },
    {
     "name": "stderr",
     "output_type": "stream",
     "text": [
      "100%|███████████████████████████████████████████| 10/10 [00:04<00:00,  2.08it/s]\n"
     ]
    },
    {
     "name": "stdout",
     "output_type": "stream",
     "text": [
      "Predicting...\n"
     ]
    },
    {
     "name": "stderr",
     "output_type": "stream",
     "text": [
      "100%|███████████████████████████████████████| 1000/1000 [00:30<00:00, 32.29it/s]\n"
     ]
    },
    {
     "name": "stdout",
     "output_type": "stream",
     "text": [
      "[CV 1/5] END ..............C=5e-06, gamma=5e-05;, score=0.210 total time=  36.2s\n",
      "Start computing kernel similarity matrix...\n",
      "Kernel similarity matrix computed in 0.37 seconds\n"
     ]
    },
    {
     "name": "stderr",
     "output_type": "stream",
     "text": [
      "100%|███████████████████████████████████████████| 10/10 [00:04<00:00,  2.06it/s]\n"
     ]
    },
    {
     "name": "stdout",
     "output_type": "stream",
     "text": [
      "Predicting...\n"
     ]
    },
    {
     "name": "stderr",
     "output_type": "stream",
     "text": [
      "100%|███████████████████████████████████████| 1000/1000 [00:30<00:00, 32.46it/s]\n"
     ]
    },
    {
     "name": "stdout",
     "output_type": "stream",
     "text": [
      "[CV 2/5] END ..............C=5e-06, gamma=5e-05;, score=0.186 total time=  36.1s\n",
      "Start computing kernel similarity matrix...\n",
      "Kernel similarity matrix computed in 0.36 seconds\n"
     ]
    },
    {
     "name": "stderr",
     "output_type": "stream",
     "text": [
      "100%|███████████████████████████████████████████| 10/10 [00:04<00:00,  2.12it/s]\n"
     ]
    },
    {
     "name": "stdout",
     "output_type": "stream",
     "text": [
      "Predicting...\n"
     ]
    },
    {
     "name": "stderr",
     "output_type": "stream",
     "text": [
      "100%|███████████████████████████████████████| 1000/1000 [00:31<00:00, 32.15it/s]\n"
     ]
    },
    {
     "name": "stdout",
     "output_type": "stream",
     "text": [
      "[CV 3/5] END ..............C=5e-06, gamma=5e-05;, score=0.186 total time=  36.3s\n",
      "Start computing kernel similarity matrix...\n",
      "Kernel similarity matrix computed in 0.37 seconds\n"
     ]
    },
    {
     "name": "stderr",
     "output_type": "stream",
     "text": [
      "100%|███████████████████████████████████████████| 10/10 [00:04<00:00,  2.06it/s]\n"
     ]
    },
    {
     "name": "stdout",
     "output_type": "stream",
     "text": [
      "Predicting...\n"
     ]
    },
    {
     "name": "stderr",
     "output_type": "stream",
     "text": [
      "100%|███████████████████████████████████████| 1000/1000 [00:31<00:00, 32.25it/s]\n"
     ]
    },
    {
     "name": "stdout",
     "output_type": "stream",
     "text": [
      "[CV 4/5] END ..............C=5e-06, gamma=5e-05;, score=0.210 total time=  36.3s\n",
      "Start computing kernel similarity matrix...\n",
      "Kernel similarity matrix computed in 0.36 seconds\n"
     ]
    },
    {
     "name": "stderr",
     "output_type": "stream",
     "text": [
      "100%|███████████████████████████████████████████| 10/10 [00:04<00:00,  2.14it/s]\n"
     ]
    },
    {
     "name": "stdout",
     "output_type": "stream",
     "text": [
      "Predicting...\n"
     ]
    },
    {
     "name": "stderr",
     "output_type": "stream",
     "text": [
      "100%|███████████████████████████████████████| 1000/1000 [00:31<00:00, 31.43it/s]\n"
     ]
    },
    {
     "name": "stdout",
     "output_type": "stream",
     "text": [
      "[CV 5/5] END ..............C=5e-06, gamma=5e-05;, score=0.210 total time=  36.9s\n",
      "Start computing kernel similarity matrix...\n",
      "Kernel similarity matrix computed in 0.56 seconds\n"
     ]
    },
    {
     "name": "stderr",
     "output_type": "stream",
     "text": [
      "100%|███████████████████████████████████████████| 10/10 [00:08<00:00,  1.12it/s]"
     ]
    },
    {
     "name": "stdout",
     "output_type": "stream",
     "text": [
      "{'C': 5e-06, 'gamma': 0.0005}\n",
      "0.22959999999999997\n"
     ]
    },
    {
     "name": "stderr",
     "output_type": "stream",
     "text": [
      "\n"
     ]
    }
   ],
   "source": [
    "skf = StratifiedKFold(n_splits=5, shuffle=True)\n",
    "scaler = StandardScaler()\n",
    "ridge = KernelRidgeClassifier(kernel='rbf')\n",
    "pipe = Pipeline(steps=[(\"scaler\", scaler), (\"krr\", ridge)])\n",
    "params = {'krr__C': [0.1, 0.01], 'krr__gamma': [0.01, 0.001, 0.0001]}\n",
    "clf = GridSearchCV(pipe, params, scoring='accuracy', cv=skf, n_jobs=3, verbose=4)\n",
    "clf.fit(Xtr, Ytr)\n",
    "print(clf.best_params_)\n",
    "print(clf.best_score_)"
   ]
  },
  {
   "cell_type": "markdown",
   "metadata": {},
   "source": [
    "SVM with cross-validation:"
   ]
  },
  {
   "cell_type": "code",
   "execution_count": 9,
   "metadata": {
    "scrolled": true
   },
   "outputs": [
    {
     "name": "stdout",
     "output_type": "stream",
     "text": [
      "Fitting 5 folds for each of 6 candidates, totalling 30 fits\n",
      "Start computing kernel similarity matrix...\n",
      "Kernel similarity matrix computed in 0.91 seconds\n",
      "Start computing kernel similarity matrix...\n",
      "Kernel similarity matrix computed in 0.93 seconds\n",
      "Start computing kernel similarity matrix...\n",
      "Kernel similarity matrix computed in 0.94 seconds\n"
     ]
    },
    {
     "name": "stderr",
     "output_type": "stream",
     "text": [
      "100%|██████████| 10/10 [06:11<00:00, 37.19s/it]\n",
      "  0%|          | 3/1000 [00:00<00:40, 24.43it/s]"
     ]
    },
    {
     "name": "stdout",
     "output_type": "stream",
     "text": [
      "Predicting...\n"
     ]
    },
    {
     "name": "stderr",
     "output_type": "stream",
     "text": [
      "100%|██████████| 10/10 [06:15<00:00, 37.54s/it]s]\n",
      "  8%|▊         | 77/1000 [00:03<00:40, 22.69it/s]"
     ]
    },
    {
     "name": "stdout",
     "output_type": "stream",
     "text": [
      "Predicting...\n"
     ]
    },
    {
     "name": "stderr",
     "output_type": "stream",
     "text": [
      "100%|██████████| 10/10 [06:16<00:00, 37.63s/it]s]\n",
      "  3%|▎         | 28/1000 [00:01<00:34, 28.04it/s]"
     ]
    },
    {
     "name": "stdout",
     "output_type": "stream",
     "text": [
      "Predicting...\n"
     ]
    },
    {
     "name": "stderr",
     "output_type": "stream",
     "text": [
      " 97%|█████████▋| 971/1000 [00:31<00:01, 24.17it/s]]\n",
      "  0%|          | 0/10 [00:00<?, ?it/s]"
     ]
    },
    {
     "name": "stdout",
     "output_type": "stream",
     "text": [
      "[CV 3/5] END .....svm__C=10000, svm__gamma=0.01;, score=0.114 total time= 6.8min\n",
      "Start computing kernel similarity matrix...\n",
      "Kernel similarity matrix computed in 0.67 seconds\n",
      "[CV 2/5] END .....svm__C=10000, svm__gamma=0.01;, score=0.109 total time= 6.8min\n",
      "Start computing kernel similarity matrix...\n",
      "Kernel similarity matrix computed in 0.64 seconds\n"
     ]
    },
    {
     "name": "stderr",
     "output_type": "stream",
     "text": [
      " 97%|█████████▋| 974/1000 [00:31<00:01, 25.05it/s]\n",
      "100%|██████████| 1000/1000 [00:32<00:00, 30.91it/s]\n",
      "  0%|          | 0/10 [00:00<?, ?it/s]"
     ]
    },
    {
     "name": "stdout",
     "output_type": "stream",
     "text": [
      "[CV 1/5] END .....svm__C=10000, svm__gamma=0.01;, score=0.107 total time= 6.8min\n",
      "Start computing kernel similarity matrix...\n",
      "Kernel similarity matrix computed in 1.01 seconds\n"
     ]
    },
    {
     "name": "stderr",
     "output_type": "stream",
     "text": [
      "100%|██████████| 10/10 [06:09<00:00, 36.94s/it]\n",
      "  0%|          | 2/1000 [00:00<01:08, 14.63it/s]"
     ]
    },
    {
     "name": "stdout",
     "output_type": "stream",
     "text": [
      "Predicting...\n"
     ]
    },
    {
     "name": "stderr",
     "output_type": "stream",
     "text": [
      "100%|██████████| 10/10 [06:16<00:00, 37.66s/it]/s]\n",
      "  0%|          | 4/1000 [00:00<00:32, 30.80it/s]s]"
     ]
    },
    {
     "name": "stdout",
     "output_type": "stream",
     "text": [
      "Predicting...\n"
     ]
    },
    {
     "name": "stderr",
     "output_type": "stream",
     "text": [
      "100%|██████████| 10/10 [06:36<00:00, 39.65s/it]/s]\n",
      "  0%|          | 0/1000 [00:00<?, ?it/s]"
     ]
    },
    {
     "name": "stdout",
     "output_type": "stream",
     "text": [
      "Predicting...\n"
     ]
    },
    {
     "name": "stderr",
     "output_type": "stream",
     "text": [
      " 94%|█████████▎| 937/1000 [00:32<00:02, 28.54it/s]]\n",
      " 94%|█████████▍| 940/1000 [00:32<00:02, 28.82it/s]"
     ]
    },
    {
     "name": "stdout",
     "output_type": "stream",
     "text": [
      "[CV 5/5] END .....svm__C=10000, svm__gamma=0.01;, score=0.105 total time= 6.8min\n",
      "Start computing kernel similarity matrix...\n",
      "Kernel similarity matrix computed in 0.53 seconds\n"
     ]
    },
    {
     "name": "stderr",
     "output_type": "stream",
     "text": [
      " 41%|████▏     | 413/1000 [00:13<00:22, 26.04it/s]]\n",
      " 42%|████▏     | 416/1000 [00:13<00:21, 26.78it/s]"
     ]
    },
    {
     "name": "stdout",
     "output_type": "stream",
     "text": [
      "[CV 4/5] END .....svm__C=10000, svm__gamma=0.01;, score=0.108 total time= 6.9min\n",
      "Start computing kernel similarity matrix...\n",
      "Kernel similarity matrix computed in 0.76 seconds\n"
     ]
    },
    {
     "name": "stderr",
     "output_type": "stream",
     "text": [
      "100%|██████████| 1000/1000 [00:39<00:00, 25.15it/s]"
     ]
    },
    {
     "name": "stdout",
     "output_type": "stream",
     "text": [
      "[CV 1/5] END ....svm__C=10000, svm__gamma=0.001;, score=0.144 total time= 7.3min\n",
      "Start computing kernel similarity matrix...\n",
      "Kernel similarity matrix computed in 1.14 seconds\n"
     ]
    },
    {
     "name": "stderr",
     "output_type": "stream",
     "text": [
      "\n",
      "100%|██████████| 10/10 [06:46<00:00, 40.65s/it]\n",
      "  0%|          | 2/1000 [00:00<01:07, 14.74it/s]"
     ]
    },
    {
     "name": "stdout",
     "output_type": "stream",
     "text": [
      "Predicting...\n"
     ]
    },
    {
     "name": "stderr",
     "output_type": "stream",
     "text": [
      "  9%|▉         | 91/1000 [00:05<01:05, 13.95it/s]\n",
      "  0%|          | 0/1000 [00:00<?, ?it/s]"
     ]
    },
    {
     "name": "stdout",
     "output_type": "stream",
     "text": [
      "Predicting...\n"
     ]
    },
    {
     "name": "stderr",
     "output_type": "stream",
     "text": [
      "100%|██████████| 10/10 [06:36<00:00, 39.66s/it]/s]\n",
      "  0%|          | 0/1000 [00:00<?, ?it/s]"
     ]
    },
    {
     "name": "stdout",
     "output_type": "stream",
     "text": [
      "Predicting...\n"
     ]
    },
    {
     "name": "stderr",
     "output_type": "stream",
     "text": [
      " 99%|█████████▉| 994/1000 [00:33<00:00, 29.97it/s]]\n",
      " 57%|█████▊    | 575/1000 [00:17<00:14, 30.23it/s]]"
     ]
    },
    {
     "name": "stdout",
     "output_type": "stream",
     "text": [
      "[CV 2/5] END ....svm__C=10000, svm__gamma=0.001;, score=0.151 total time= 7.4min\n",
      "Start computing kernel similarity matrix...\n",
      "Kernel similarity matrix computed in 0.46 seconds\n"
     ]
    },
    {
     "name": "stderr",
     "output_type": "stream",
     "text": [
      " 60%|██████    | 603/1000 [00:18<00:15, 26.41it/s]\n",
      " 61%|██████    | 606/1000 [00:19<00:15, 26.18it/s]"
     ]
    },
    {
     "name": "stdout",
     "output_type": "stream",
     "text": [
      "[CV 3/5] END ....svm__C=10000, svm__gamma=0.001;, score=0.145 total time= 7.4min\n",
      "Start computing kernel similarity matrix...\n",
      "Kernel similarity matrix computed in 0.59 seconds\n"
     ]
    },
    {
     "name": "stderr",
     "output_type": "stream",
     "text": [
      "100%|██████████| 1000/1000 [00:35<00:00, 28.28it/s]\n",
      "  0%|          | 0/10 [00:00<?, ?it/s]"
     ]
    },
    {
     "name": "stdout",
     "output_type": "stream",
     "text": [
      "[CV 4/5] END ....svm__C=10000, svm__gamma=0.001;, score=0.143 total time= 7.2min\n",
      "Start computing kernel similarity matrix...\n",
      "Kernel similarity matrix computed in 0.97 seconds\n"
     ]
    },
    {
     "name": "stderr",
     "output_type": "stream",
     "text": [
      "100%|██████████| 10/10 [06:57<00:00, 41.74s/it]\n",
      "  0%|          | 2/1000 [00:00<01:16, 12.98it/s]"
     ]
    },
    {
     "name": "stdout",
     "output_type": "stream",
     "text": [
      "Predicting...\n"
     ]
    },
    {
     "name": "stderr",
     "output_type": "stream",
     "text": [
      "100%|██████████| 1000/1000 [00:46<00:00, 21.55it/s]\n",
      "  0%|          | 0/10 [00:00<?, ?it/s]"
     ]
    },
    {
     "name": "stdout",
     "output_type": "stream",
     "text": [
      "[CV 5/5] END ....svm__C=10000, svm__gamma=0.001;, score=0.143 total time= 7.7min\n",
      "Start computing kernel similarity matrix...\n",
      "Kernel similarity matrix computed in 0.99 seconds\n"
     ]
    },
    {
     "name": "stderr",
     "output_type": "stream",
     "text": [
      "\r",
      "100%|██████████| 10/10 [07:48<00:00, 44.28s/it]\r",
      "100%|██████████| 10/10 [07:48<00:00, 46.90s/it]\n",
      "\r",
      "  0%|          | 0/1000 [00:00<?, ?it/s]\r",
      "  0%|          | 2/1000 [00:00<01:06, 14.97it/s]"
     ]
    },
    {
     "name": "stdout",
     "output_type": "stream",
     "text": [
      "Predicting...\n"
     ]
    },
    {
     "name": "stderr",
     "output_type": "stream",
     "text": [
      "100%|██████████| 10/10 [07:48<00:00, 46.83s/it]/s]\n",
      " 36%|███▌      | 360/1000 [00:17<00:26, 23.94it/s]"
     ]
    },
    {
     "name": "stdout",
     "output_type": "stream",
     "text": [
      "Predicting...\n"
     ]
    },
    {
     "name": "stderr",
     "output_type": "stream",
     "text": [
      " 66%|██████▋   | 664/1000 [00:24<00:12, 26.21it/s]]\n",
      " 67%|██████▋   | 667/1000 [00:24<00:12, 26.29it/s]"
     ]
    },
    {
     "name": "stdout",
     "output_type": "stream",
     "text": [
      "[CV 1/5] END ...svm__C=10000, svm__gamma=0.0001;, score=0.113 total time= 8.5min\n",
      "Start computing kernel similarity matrix...\n",
      "Kernel similarity matrix computed in 0.75 seconds\n"
     ]
    },
    {
     "name": "stderr",
     "output_type": "stream",
     "text": [
      "100%|██████████| 1000/1000 [00:38<00:00, 25.98it/s]\n",
      "  0%|          | 0/10 [00:00<?, ?it/s]"
     ]
    },
    {
     "name": "stdout",
     "output_type": "stream",
     "text": [
      "[CV 2/5] END ...svm__C=10000, svm__gamma=0.0001;, score=0.116 total time= 8.5min\n",
      "Start computing kernel similarity matrix...\n",
      "Kernel similarity matrix computed in 0.90 seconds\n"
     ]
    },
    {
     "ename": "KeyboardInterrupt",
     "evalue": "",
     "output_type": "error",
     "traceback": [
      "\u001b[0;31m---------------------------------------------------------------------------\u001b[0m",
      "\u001b[0;31mKeyboardInterrupt\u001b[0m                         Traceback (most recent call last)",
      "\u001b[0;32m/tmp/ipykernel_203048/2186287730.py\u001b[0m in \u001b[0;36m<module>\u001b[0;34m\u001b[0m\n\u001b[1;32m      5\u001b[0m \u001b[0mparams\u001b[0m \u001b[0;34m=\u001b[0m \u001b[0;34m{\u001b[0m\u001b[0;34m'svm__C'\u001b[0m\u001b[0;34m:\u001b[0m \u001b[0;34m[\u001b[0m\u001b[0;36m10000\u001b[0m\u001b[0;34m,\u001b[0m \u001b[0;36m1000\u001b[0m\u001b[0;34m]\u001b[0m\u001b[0;34m,\u001b[0m \u001b[0;34m'svm__gamma'\u001b[0m\u001b[0;34m:\u001b[0m \u001b[0;34m[\u001b[0m\u001b[0;36m0.01\u001b[0m\u001b[0;34m,\u001b[0m \u001b[0;36m0.001\u001b[0m\u001b[0;34m,\u001b[0m \u001b[0;36m0.0001\u001b[0m\u001b[0;34m]\u001b[0m\u001b[0;34m}\u001b[0m\u001b[0;34m\u001b[0m\u001b[0;34m\u001b[0m\u001b[0m\n\u001b[1;32m      6\u001b[0m \u001b[0mclf\u001b[0m \u001b[0;34m=\u001b[0m \u001b[0mGridSearchCV\u001b[0m\u001b[0;34m(\u001b[0m\u001b[0mpipe\u001b[0m\u001b[0;34m,\u001b[0m \u001b[0mparams\u001b[0m\u001b[0;34m,\u001b[0m \u001b[0mscoring\u001b[0m\u001b[0;34m=\u001b[0m\u001b[0;34m'accuracy'\u001b[0m\u001b[0;34m,\u001b[0m \u001b[0mcv\u001b[0m\u001b[0;34m=\u001b[0m\u001b[0mskf\u001b[0m\u001b[0;34m,\u001b[0m \u001b[0mn_jobs\u001b[0m\u001b[0;34m=\u001b[0m\u001b[0;36m3\u001b[0m\u001b[0;34m,\u001b[0m \u001b[0mverbose\u001b[0m\u001b[0;34m=\u001b[0m\u001b[0;36m4\u001b[0m\u001b[0;34m)\u001b[0m\u001b[0;34m\u001b[0m\u001b[0;34m\u001b[0m\u001b[0m\n\u001b[0;32m----> 7\u001b[0;31m \u001b[0mclf\u001b[0m\u001b[0;34m.\u001b[0m\u001b[0mfit\u001b[0m\u001b[0;34m(\u001b[0m\u001b[0mXtr\u001b[0m\u001b[0;34m,\u001b[0m \u001b[0mYtr\u001b[0m\u001b[0;34m)\u001b[0m\u001b[0;34m\u001b[0m\u001b[0;34m\u001b[0m\u001b[0m\n\u001b[0m\u001b[1;32m      8\u001b[0m \u001b[0mprint\u001b[0m\u001b[0;34m(\u001b[0m\u001b[0mclf\u001b[0m\u001b[0;34m.\u001b[0m\u001b[0mbest_params_\u001b[0m\u001b[0;34m)\u001b[0m\u001b[0;34m\u001b[0m\u001b[0;34m\u001b[0m\u001b[0m\n\u001b[1;32m      9\u001b[0m \u001b[0mprint\u001b[0m\u001b[0;34m(\u001b[0m\u001b[0mclf\u001b[0m\u001b[0;34m.\u001b[0m\u001b[0mbest_score_\u001b[0m\u001b[0;34m)\u001b[0m\u001b[0;34m\u001b[0m\u001b[0;34m\u001b[0m\u001b[0m\n",
      "\u001b[0;32m/usr/local/lib/python3.8/dist-packages/sklearn/model_selection/_search.py\u001b[0m in \u001b[0;36mfit\u001b[0;34m(self, X, y, groups, **fit_params)\u001b[0m\n\u001b[1;32m    889\u001b[0m                 \u001b[0;32mreturn\u001b[0m \u001b[0mresults\u001b[0m\u001b[0;34m\u001b[0m\u001b[0;34m\u001b[0m\u001b[0m\n\u001b[1;32m    890\u001b[0m \u001b[0;34m\u001b[0m\u001b[0m\n\u001b[0;32m--> 891\u001b[0;31m             \u001b[0mself\u001b[0m\u001b[0;34m.\u001b[0m\u001b[0m_run_search\u001b[0m\u001b[0;34m(\u001b[0m\u001b[0mevaluate_candidates\u001b[0m\u001b[0;34m)\u001b[0m\u001b[0;34m\u001b[0m\u001b[0;34m\u001b[0m\u001b[0m\n\u001b[0m\u001b[1;32m    892\u001b[0m \u001b[0;34m\u001b[0m\u001b[0m\n\u001b[1;32m    893\u001b[0m             \u001b[0;31m# multimetric is determined here because in the case of a callable\u001b[0m\u001b[0;34m\u001b[0m\u001b[0;34m\u001b[0m\u001b[0;34m\u001b[0m\u001b[0m\n",
      "\u001b[0;32m/usr/local/lib/python3.8/dist-packages/sklearn/model_selection/_search.py\u001b[0m in \u001b[0;36m_run_search\u001b[0;34m(self, evaluate_candidates)\u001b[0m\n\u001b[1;32m   1390\u001b[0m     \u001b[0;32mdef\u001b[0m \u001b[0m_run_search\u001b[0m\u001b[0;34m(\u001b[0m\u001b[0mself\u001b[0m\u001b[0;34m,\u001b[0m \u001b[0mevaluate_candidates\u001b[0m\u001b[0;34m)\u001b[0m\u001b[0;34m:\u001b[0m\u001b[0;34m\u001b[0m\u001b[0;34m\u001b[0m\u001b[0m\n\u001b[1;32m   1391\u001b[0m         \u001b[0;34m\"\"\"Search all candidates in param_grid\"\"\"\u001b[0m\u001b[0;34m\u001b[0m\u001b[0;34m\u001b[0m\u001b[0m\n\u001b[0;32m-> 1392\u001b[0;31m         \u001b[0mevaluate_candidates\u001b[0m\u001b[0;34m(\u001b[0m\u001b[0mParameterGrid\u001b[0m\u001b[0;34m(\u001b[0m\u001b[0mself\u001b[0m\u001b[0;34m.\u001b[0m\u001b[0mparam_grid\u001b[0m\u001b[0;34m)\u001b[0m\u001b[0;34m)\u001b[0m\u001b[0;34m\u001b[0m\u001b[0;34m\u001b[0m\u001b[0m\n\u001b[0m\u001b[1;32m   1393\u001b[0m \u001b[0;34m\u001b[0m\u001b[0m\n\u001b[1;32m   1394\u001b[0m \u001b[0;34m\u001b[0m\u001b[0m\n",
      "\u001b[0;32m/usr/local/lib/python3.8/dist-packages/sklearn/model_selection/_search.py\u001b[0m in \u001b[0;36mevaluate_candidates\u001b[0;34m(candidate_params, cv, more_results)\u001b[0m\n\u001b[1;32m    836\u001b[0m                     )\n\u001b[1;32m    837\u001b[0m \u001b[0;34m\u001b[0m\u001b[0m\n\u001b[0;32m--> 838\u001b[0;31m                 out = parallel(\n\u001b[0m\u001b[1;32m    839\u001b[0m                     delayed(_fit_and_score)(\n\u001b[1;32m    840\u001b[0m                         \u001b[0mclone\u001b[0m\u001b[0;34m(\u001b[0m\u001b[0mbase_estimator\u001b[0m\u001b[0;34m)\u001b[0m\u001b[0;34m,\u001b[0m\u001b[0;34m\u001b[0m\u001b[0;34m\u001b[0m\u001b[0m\n",
      "\u001b[0;32m/usr/local/lib/python3.8/dist-packages/joblib/parallel.py\u001b[0m in \u001b[0;36m__call__\u001b[0;34m(self, iterable)\u001b[0m\n\u001b[1;32m   1054\u001b[0m \u001b[0;34m\u001b[0m\u001b[0m\n\u001b[1;32m   1055\u001b[0m             \u001b[0;32mwith\u001b[0m \u001b[0mself\u001b[0m\u001b[0;34m.\u001b[0m\u001b[0m_backend\u001b[0m\u001b[0;34m.\u001b[0m\u001b[0mretrieval_context\u001b[0m\u001b[0;34m(\u001b[0m\u001b[0;34m)\u001b[0m\u001b[0;34m:\u001b[0m\u001b[0;34m\u001b[0m\u001b[0;34m\u001b[0m\u001b[0m\n\u001b[0;32m-> 1056\u001b[0;31m                 \u001b[0mself\u001b[0m\u001b[0;34m.\u001b[0m\u001b[0mretrieve\u001b[0m\u001b[0;34m(\u001b[0m\u001b[0;34m)\u001b[0m\u001b[0;34m\u001b[0m\u001b[0;34m\u001b[0m\u001b[0m\n\u001b[0m\u001b[1;32m   1057\u001b[0m             \u001b[0;31m# Make sure that we get a last message telling us we are done\u001b[0m\u001b[0;34m\u001b[0m\u001b[0;34m\u001b[0m\u001b[0;34m\u001b[0m\u001b[0m\n\u001b[1;32m   1058\u001b[0m             \u001b[0melapsed_time\u001b[0m \u001b[0;34m=\u001b[0m \u001b[0mtime\u001b[0m\u001b[0;34m.\u001b[0m\u001b[0mtime\u001b[0m\u001b[0;34m(\u001b[0m\u001b[0;34m)\u001b[0m \u001b[0;34m-\u001b[0m \u001b[0mself\u001b[0m\u001b[0;34m.\u001b[0m\u001b[0m_start_time\u001b[0m\u001b[0;34m\u001b[0m\u001b[0;34m\u001b[0m\u001b[0m\n",
      "\u001b[0;32m/usr/local/lib/python3.8/dist-packages/joblib/parallel.py\u001b[0m in \u001b[0;36mretrieve\u001b[0;34m(self)\u001b[0m\n\u001b[1;32m    933\u001b[0m             \u001b[0;32mtry\u001b[0m\u001b[0;34m:\u001b[0m\u001b[0;34m\u001b[0m\u001b[0;34m\u001b[0m\u001b[0m\n\u001b[1;32m    934\u001b[0m                 \u001b[0;32mif\u001b[0m \u001b[0mgetattr\u001b[0m\u001b[0;34m(\u001b[0m\u001b[0mself\u001b[0m\u001b[0;34m.\u001b[0m\u001b[0m_backend\u001b[0m\u001b[0;34m,\u001b[0m \u001b[0;34m'supports_timeout'\u001b[0m\u001b[0;34m,\u001b[0m \u001b[0;32mFalse\u001b[0m\u001b[0;34m)\u001b[0m\u001b[0;34m:\u001b[0m\u001b[0;34m\u001b[0m\u001b[0;34m\u001b[0m\u001b[0m\n\u001b[0;32m--> 935\u001b[0;31m                     \u001b[0mself\u001b[0m\u001b[0;34m.\u001b[0m\u001b[0m_output\u001b[0m\u001b[0;34m.\u001b[0m\u001b[0mextend\u001b[0m\u001b[0;34m(\u001b[0m\u001b[0mjob\u001b[0m\u001b[0;34m.\u001b[0m\u001b[0mget\u001b[0m\u001b[0;34m(\u001b[0m\u001b[0mtimeout\u001b[0m\u001b[0;34m=\u001b[0m\u001b[0mself\u001b[0m\u001b[0;34m.\u001b[0m\u001b[0mtimeout\u001b[0m\u001b[0;34m)\u001b[0m\u001b[0;34m)\u001b[0m\u001b[0;34m\u001b[0m\u001b[0;34m\u001b[0m\u001b[0m\n\u001b[0m\u001b[1;32m    936\u001b[0m                 \u001b[0;32melse\u001b[0m\u001b[0;34m:\u001b[0m\u001b[0;34m\u001b[0m\u001b[0;34m\u001b[0m\u001b[0m\n\u001b[1;32m    937\u001b[0m                     \u001b[0mself\u001b[0m\u001b[0;34m.\u001b[0m\u001b[0m_output\u001b[0m\u001b[0;34m.\u001b[0m\u001b[0mextend\u001b[0m\u001b[0;34m(\u001b[0m\u001b[0mjob\u001b[0m\u001b[0;34m.\u001b[0m\u001b[0mget\u001b[0m\u001b[0;34m(\u001b[0m\u001b[0;34m)\u001b[0m\u001b[0;34m)\u001b[0m\u001b[0;34m\u001b[0m\u001b[0;34m\u001b[0m\u001b[0m\n",
      "\u001b[0;32m/usr/local/lib/python3.8/dist-packages/joblib/_parallel_backends.py\u001b[0m in \u001b[0;36mwrap_future_result\u001b[0;34m(future, timeout)\u001b[0m\n\u001b[1;32m    540\u001b[0m         AsyncResults.get from multiprocessing.\"\"\"\n\u001b[1;32m    541\u001b[0m         \u001b[0;32mtry\u001b[0m\u001b[0;34m:\u001b[0m\u001b[0;34m\u001b[0m\u001b[0;34m\u001b[0m\u001b[0m\n\u001b[0;32m--> 542\u001b[0;31m             \u001b[0;32mreturn\u001b[0m \u001b[0mfuture\u001b[0m\u001b[0;34m.\u001b[0m\u001b[0mresult\u001b[0m\u001b[0;34m(\u001b[0m\u001b[0mtimeout\u001b[0m\u001b[0;34m=\u001b[0m\u001b[0mtimeout\u001b[0m\u001b[0;34m)\u001b[0m\u001b[0;34m\u001b[0m\u001b[0;34m\u001b[0m\u001b[0m\n\u001b[0m\u001b[1;32m    543\u001b[0m         \u001b[0;32mexcept\u001b[0m \u001b[0mCfTimeoutError\u001b[0m \u001b[0;32mas\u001b[0m \u001b[0me\u001b[0m\u001b[0;34m:\u001b[0m\u001b[0;34m\u001b[0m\u001b[0;34m\u001b[0m\u001b[0m\n\u001b[1;32m    544\u001b[0m             \u001b[0;32mraise\u001b[0m \u001b[0mTimeoutError\u001b[0m \u001b[0;32mfrom\u001b[0m \u001b[0me\u001b[0m\u001b[0;34m\u001b[0m\u001b[0;34m\u001b[0m\u001b[0m\n",
      "\u001b[0;32m/usr/lib/python3.8/concurrent/futures/_base.py\u001b[0m in \u001b[0;36mresult\u001b[0;34m(self, timeout)\u001b[0m\n\u001b[1;32m    437\u001b[0m                     \u001b[0;32mreturn\u001b[0m \u001b[0mself\u001b[0m\u001b[0;34m.\u001b[0m\u001b[0m__get_result\u001b[0m\u001b[0;34m(\u001b[0m\u001b[0;34m)\u001b[0m\u001b[0;34m\u001b[0m\u001b[0;34m\u001b[0m\u001b[0m\n\u001b[1;32m    438\u001b[0m \u001b[0;34m\u001b[0m\u001b[0m\n\u001b[0;32m--> 439\u001b[0;31m                 \u001b[0mself\u001b[0m\u001b[0;34m.\u001b[0m\u001b[0m_condition\u001b[0m\u001b[0;34m.\u001b[0m\u001b[0mwait\u001b[0m\u001b[0;34m(\u001b[0m\u001b[0mtimeout\u001b[0m\u001b[0;34m)\u001b[0m\u001b[0;34m\u001b[0m\u001b[0;34m\u001b[0m\u001b[0m\n\u001b[0m\u001b[1;32m    440\u001b[0m \u001b[0;34m\u001b[0m\u001b[0m\n\u001b[1;32m    441\u001b[0m                 \u001b[0;32mif\u001b[0m \u001b[0mself\u001b[0m\u001b[0;34m.\u001b[0m\u001b[0m_state\u001b[0m \u001b[0;32min\u001b[0m \u001b[0;34m[\u001b[0m\u001b[0mCANCELLED\u001b[0m\u001b[0;34m,\u001b[0m \u001b[0mCANCELLED_AND_NOTIFIED\u001b[0m\u001b[0;34m]\u001b[0m\u001b[0;34m:\u001b[0m\u001b[0;34m\u001b[0m\u001b[0;34m\u001b[0m\u001b[0m\n",
      "\u001b[0;32m/usr/lib/python3.8/threading.py\u001b[0m in \u001b[0;36mwait\u001b[0;34m(self, timeout)\u001b[0m\n\u001b[1;32m    300\u001b[0m         \u001b[0;32mtry\u001b[0m\u001b[0;34m:\u001b[0m    \u001b[0;31m# restore state no matter what (e.g., KeyboardInterrupt)\u001b[0m\u001b[0;34m\u001b[0m\u001b[0;34m\u001b[0m\u001b[0m\n\u001b[1;32m    301\u001b[0m             \u001b[0;32mif\u001b[0m \u001b[0mtimeout\u001b[0m \u001b[0;32mis\u001b[0m \u001b[0;32mNone\u001b[0m\u001b[0;34m:\u001b[0m\u001b[0;34m\u001b[0m\u001b[0;34m\u001b[0m\u001b[0m\n\u001b[0;32m--> 302\u001b[0;31m                 \u001b[0mwaiter\u001b[0m\u001b[0;34m.\u001b[0m\u001b[0macquire\u001b[0m\u001b[0;34m(\u001b[0m\u001b[0;34m)\u001b[0m\u001b[0;34m\u001b[0m\u001b[0;34m\u001b[0m\u001b[0m\n\u001b[0m\u001b[1;32m    303\u001b[0m                 \u001b[0mgotit\u001b[0m \u001b[0;34m=\u001b[0m \u001b[0;32mTrue\u001b[0m\u001b[0;34m\u001b[0m\u001b[0;34m\u001b[0m\u001b[0m\n\u001b[1;32m    304\u001b[0m             \u001b[0;32melse\u001b[0m\u001b[0;34m:\u001b[0m\u001b[0;34m\u001b[0m\u001b[0;34m\u001b[0m\u001b[0m\n",
      "\u001b[0;31mKeyboardInterrupt\u001b[0m: "
     ]
    }
   ],
   "source": [
    "skf = StratifiedKFold(n_splits=5, shuffle=True)\n",
    "scaler = StandardScaler()\n",
    "svm = KernelSVC(kernel='rbf')\n",
    "pipe = Pipeline(steps=[(\"scaler\", scaler), (\"svm\", svm)])\n",
    "params = {'svm__C': [10000, 1000], 'svm__gamma': [0.01, 0.001, 0.0001]}\n",
    "clf = GridSearchCV(pipe, params, scoring='accuracy', cv=skf, n_jobs=3, verbose=4)\n",
    "clf.fit(Xtr, Ytr)\n",
    "print(clf.best_params_)\n",
    "print(clf.best_score_)"
   ]
  },
  {
   "cell_type": "code",
   "execution_count": 201,
   "metadata": {
    "scrolled": true
   },
   "outputs": [
    {
     "name": "stdout",
     "output_type": "stream",
     "text": [
      "Fitting 5 folds for each of 3 candidates, totalling 15 fits\n"
     ]
    },
    {
     "name": "stderr",
     "output_type": "stream",
     "text": [
      "\r",
      "  0%|          | 0/10 [00:00<?, ?it/s]\r",
      "  0%|          | 0/10 [00:00<?, ?it/s]\r",
      "  0%|          | 0/10 [00:00<?, ?it/s]"
     ]
    },
    {
     "name": "stdout",
     "output_type": "stream",
     "text": [
      "Start computing kernel similarity matrix...\n",
      "Kernel similarity matrix computed in 0.09 seconds\n",
      "Start computing kernel similarity matrix...\n",
      "Kernel similarity matrix computed in 0.11 seconds\n",
      "Start computing kernel similarity matrix...\n",
      "Kernel similarity matrix computed in 0.13 seconds\n"
     ]
    },
    {
     "name": "stderr",
     "output_type": "stream",
     "text": [
      "100%|██████████| 10/10 [08:12<00:00, 49.25s/it]\n",
      " 13%|█▎        | 129/1000 [00:00<00:00, 1287.71it/s]"
     ]
    },
    {
     "name": "stdout",
     "output_type": "stream",
     "text": [
      "Predicting...\n"
     ]
    },
    {
     "name": "stderr",
     "output_type": "stream",
     "text": [
      "100%|██████████| 1000/1000 [00:00<00:00, 1843.40it/s]"
     ]
    },
    {
     "name": "stdout",
     "output_type": "stream",
     "text": [
      "[CV 1/5] END ..............................C=10;, score=0.100 total time= 8.2min\n",
      "Start computing kernel similarity matrix...\n",
      "Kernel similarity matrix computed in 0.12 seconds\n"
     ]
    },
    {
     "name": "stderr",
     "output_type": "stream",
     "text": [
      "\n",
      "100%|██████████| 10/10 [08:24<00:00, 50.45s/it]\n",
      " 16%|█▌        | 160/1000 [00:00<00:00, 1593.94it/s]"
     ]
    },
    {
     "name": "stdout",
     "output_type": "stream",
     "text": [
      "Predicting...\n"
     ]
    },
    {
     "name": "stderr",
     "output_type": "stream",
     "text": [
      "100%|██████████| 1000/1000 [00:00<00:00, 2321.69it/s]"
     ]
    },
    {
     "name": "stdout",
     "output_type": "stream",
     "text": [
      "[CV 3/5] END ..............................C=10;, score=0.100 total time= 8.4min\n",
      "Start computing kernel similarity matrix...\n",
      "Kernel similarity matrix computed in 0.07 seconds\n"
     ]
    },
    {
     "name": "stderr",
     "output_type": "stream",
     "text": [
      "\n",
      "100%|██████████| 10/10 [08:32<00:00, 51.24s/it]\n",
      " 23%|██▎       | 231/1000 [00:00<00:00, 2305.32it/s]"
     ]
    },
    {
     "name": "stdout",
     "output_type": "stream",
     "text": [
      "Predicting...\n"
     ]
    },
    {
     "name": "stderr",
     "output_type": "stream",
     "text": [
      "100%|██████████| 1000/1000 [00:00<00:00, 1963.93it/s]\n",
      "  0%|          | 0/10 [00:00<?, ?it/s]"
     ]
    },
    {
     "name": "stdout",
     "output_type": "stream",
     "text": [
      "[CV 2/5] END ..............................C=10;, score=0.100 total time= 8.6min\n",
      "Start computing kernel similarity matrix...\n",
      "Kernel similarity matrix computed in 0.11 seconds\n"
     ]
    },
    {
     "name": "stderr",
     "output_type": "stream",
     "text": [
      "100%|██████████| 10/10 [08:16<00:00, 49.61s/it]\n",
      " 18%|█▊        | 177/1000 [00:00<00:00, 1764.37it/s]"
     ]
    },
    {
     "name": "stdout",
     "output_type": "stream",
     "text": [
      "Predicting...\n"
     ]
    },
    {
     "name": "stderr",
     "output_type": "stream",
     "text": [
      "100%|██████████| 1000/1000 [00:00<00:00, 2006.22it/s]\n",
      "  0%|          | 0/10 [00:00<?, ?it/s]"
     ]
    },
    {
     "name": "stdout",
     "output_type": "stream",
     "text": [
      "[CV 4/5] END ..............................C=10;, score=0.100 total time= 8.3min\n",
      "Start computing kernel similarity matrix...\n",
      "Kernel similarity matrix computed in 0.11 seconds\n"
     ]
    },
    {
     "name": "stderr",
     "output_type": "stream",
     "text": [
      "\r",
      "100%|██████████| 10/10 [07:59<00:00, 46.19s/it]\r",
      "100%|██████████| 10/10 [07:59<00:00, 47.91s/it]\n",
      "\r",
      "  0%|          | 0/1000 [00:00<?, ?it/s]\r",
      " 11%|█         | 106/1000 [00:00<00:00, 1056.07it/s]"
     ]
    },
    {
     "name": "stdout",
     "output_type": "stream",
     "text": [
      "Predicting...\n"
     ]
    },
    {
     "name": "stderr",
     "output_type": "stream",
     "text": [
      "100%|██████████| 1000/1000 [00:00<00:00, 1771.27it/s]\n",
      "  0%|          | 0/10 [00:00<?, ?it/s]"
     ]
    },
    {
     "name": "stdout",
     "output_type": "stream",
     "text": [
      "[CV 1/5] END ...............................C=1;, score=0.100 total time= 8.0min\n",
      "Start computing kernel similarity matrix...\n",
      "Kernel similarity matrix computed in 0.11 seconds\n"
     ]
    },
    {
     "name": "stderr",
     "output_type": "stream",
     "text": [
      "\r",
      "100%|██████████| 10/10 [08:21<00:00, 49.60s/it]\r",
      "100%|██████████| 10/10 [08:21<00:00, 50.16s/it]\n",
      "\r",
      "  0%|          | 0/1000 [00:00<?, ?it/s]\r",
      " 41%|████▏     | 413/1000 [00:00<00:00, 4129.17it/s]"
     ]
    },
    {
     "name": "stdout",
     "output_type": "stream",
     "text": [
      "Predicting...\n"
     ]
    },
    {
     "name": "stderr",
     "output_type": "stream",
     "text": [
      "\r",
      " 83%|████████▎ | 826/1000 [00:00<00:00, 3323.93it/s]\r",
      "100%|██████████| 1000/1000 [00:00<00:00, 3383.77it/s]"
     ]
    },
    {
     "name": "stdout",
     "output_type": "stream",
     "text": [
      "[CV 5/5] END ..............................C=10;, score=0.100 total time= 8.4min\n",
      "Start computing kernel similarity matrix...\n",
      "Kernel similarity matrix computed in 0.09 seconds\n"
     ]
    },
    {
     "name": "stderr",
     "output_type": "stream",
     "text": [
      "\n",
      "100%|██████████| 10/10 [07:39<00:00, 45.99s/it]\n",
      " 18%|█▊        | 185/1000 [00:00<00:00, 1848.17it/s]"
     ]
    },
    {
     "name": "stdout",
     "output_type": "stream",
     "text": [
      "Predicting...\n"
     ]
    },
    {
     "name": "stderr",
     "output_type": "stream",
     "text": [
      "100%|██████████| 1000/1000 [00:00<00:00, 2036.36it/s]"
     ]
    },
    {
     "name": "stdout",
     "output_type": "stream",
     "text": [
      "[CV 2/5] END ...............................C=1;, score=0.100 total time= 7.7min\n",
      "Start computing kernel similarity matrix...\n",
      "Kernel similarity matrix computed in 0.07 seconds\n"
     ]
    },
    {
     "name": "stderr",
     "output_type": "stream",
     "text": [
      "\n",
      "100%|██████████| 10/10 [07:56<00:00, 47.63s/it]\n",
      " 34%|███▍      | 343/1000 [00:00<00:00, 3427.15it/s]"
     ]
    },
    {
     "name": "stdout",
     "output_type": "stream",
     "text": [
      "Predicting...\n"
     ]
    },
    {
     "name": "stderr",
     "output_type": "stream",
     "text": [
      "100%|██████████| 1000/1000 [00:00<00:00, 3634.08it/s]\n",
      "  0%|          | 0/10 [00:00<?, ?it/s]"
     ]
    },
    {
     "name": "stdout",
     "output_type": "stream",
     "text": [
      "[CV 3/5] END ...............................C=1;, score=0.100 total time= 8.0min\n",
      "Start computing kernel similarity matrix...\n",
      "Kernel similarity matrix computed in 0.09 seconds\n"
     ]
    },
    {
     "name": "stderr",
     "output_type": "stream",
     "text": [
      "\r",
      "100%|██████████| 10/10 [07:57<00:00, 45.98s/it]\r",
      "100%|██████████| 10/10 [07:57<00:00, 47.79s/it]\n",
      "\r",
      "  0%|          | 0/1000 [00:00<?, ?it/s]\r",
      " 30%|███       | 305/1000 [00:00<00:00, 3046.93it/s]"
     ]
    },
    {
     "name": "stdout",
     "output_type": "stream",
     "text": [
      "Predicting...\n"
     ]
    },
    {
     "name": "stderr",
     "output_type": "stream",
     "text": [
      "100%|██████████| 1000/1000 [00:00<00:00, 2455.89it/s]\n",
      "  0%|          | 0/10 [00:00<?, ?it/s]"
     ]
    },
    {
     "name": "stdout",
     "output_type": "stream",
     "text": [
      "[CV 4/5] END ...............................C=1;, score=0.100 total time= 8.0min\n",
      "Start computing kernel similarity matrix...\n",
      "Kernel similarity matrix computed in 0.13 seconds\n"
     ]
    },
    {
     "name": "stderr",
     "output_type": "stream",
     "text": [
      "100%|██████████| 10/10 [07:41<00:00, 46.14s/it]\n",
      " 20%|██        | 201/1000 [00:00<00:00, 2000.82it/s]"
     ]
    },
    {
     "name": "stdout",
     "output_type": "stream",
     "text": [
      "Predicting...\n"
     ]
    },
    {
     "name": "stderr",
     "output_type": "stream",
     "text": [
      "100%|██████████| 1000/1000 [00:00<00:00, 1934.58it/s]"
     ]
    },
    {
     "name": "stdout",
     "output_type": "stream",
     "text": [
      "[CV 5/5] END ...............................C=1;, score=0.100 total time= 7.7min\n",
      "Start computing kernel similarity matrix...\n",
      "Kernel similarity matrix computed in 0.11 seconds\n"
     ]
    },
    {
     "name": "stderr",
     "output_type": "stream",
     "text": [
      "\n",
      "100%|██████████| 10/10 [07:36<00:00, 45.62s/it]\n",
      " 17%|█▋        | 172/1000 [00:00<00:00, 1716.36it/s]"
     ]
    },
    {
     "name": "stdout",
     "output_type": "stream",
     "text": [
      "Predicting...\n"
     ]
    },
    {
     "name": "stderr",
     "output_type": "stream",
     "text": [
      "100%|██████████| 1000/1000 [00:00<00:00, 1841.54it/s]\n",
      "  0%|          | 0/10 [00:00<?, ?it/s]"
     ]
    },
    {
     "name": "stdout",
     "output_type": "stream",
     "text": [
      "[CV 1/5] END .............................C=0.1;, score=0.100 total time= 7.6min\n",
      "Start computing kernel similarity matrix...\n",
      "Kernel similarity matrix computed in 0.10 seconds\n"
     ]
    },
    {
     "name": "stderr",
     "output_type": "stream",
     "text": [
      "\r",
      "100%|██████████| 10/10 [07:36<00:00, 43.59s/it]\r",
      "100%|██████████| 10/10 [07:36<00:00, 45.62s/it]\n",
      "\r",
      "  0%|          | 0/1000 [00:00<?, ?it/s]\r",
      " 20%|██        | 203/1000 [00:00<00:00, 2028.35it/s]"
     ]
    },
    {
     "name": "stdout",
     "output_type": "stream",
     "text": [
      "Predicting...\n"
     ]
    },
    {
     "name": "stderr",
     "output_type": "stream",
     "text": [
      "100%|██████████| 1000/1000 [00:00<00:00, 1968.95it/s]\n",
      "  0%|          | 0/10 [00:00<?, ?it/s]"
     ]
    },
    {
     "name": "stdout",
     "output_type": "stream",
     "text": [
      "[CV 2/5] END .............................C=0.1;, score=0.100 total time= 7.6min\n",
      "Start computing kernel similarity matrix...\n",
      "Kernel similarity matrix computed in 0.10 seconds\n"
     ]
    },
    {
     "name": "stderr",
     "output_type": "stream",
     "text": [
      "100%|██████████| 10/10 [07:26<00:00, 44.64s/it]\n",
      " 25%|██▍       | 249/1000 [00:00<00:00, 2486.54it/s]"
     ]
    },
    {
     "name": "stdout",
     "output_type": "stream",
     "text": [
      "Predicting...\n"
     ]
    },
    {
     "name": "stderr",
     "output_type": "stream",
     "text": [
      "100%|██████████| 10/10 [07:31<00:00, 45.20s/it]1it/s]\n",
      " 37%|███▋      | 370/1000 [00:00<00:00, 3693.87it/s]"
     ]
    },
    {
     "name": "stdout",
     "output_type": "stream",
     "text": [
      "Predicting...\n"
     ]
    },
    {
     "name": "stderr",
     "output_type": "stream",
     "text": [
      "100%|██████████| 10/10 [07:24<00:00, 44.46s/it]0it/s]\n",
      "100%|██████████| 1000/1000 [00:00<00:00, 9097.76it/s]"
     ]
    },
    {
     "name": "stdout",
     "output_type": "stream",
     "text": [
      "Predicting...\n",
      "Start computing kernel similarity matrix...\n",
      "Kernel similarity matrix computed in 0.11 seconds\n"
     ]
    },
    {
     "name": "stderr",
     "output_type": "stream",
     "text": [
      " 60%|██████████████████████████▍                 | 6/10 [04:15<03:03, 45.95s/it]"
     ]
    },
    {
     "name": "stdout",
     "output_type": "stream",
     "text": [
      "[CV 3/5] END .............................C=0.1;, score=0.100 total time= 7.5min\n"
     ]
    },
    {
     "name": "stderr",
     "output_type": "stream",
     "text": [
      "\n"
     ]
    },
    {
     "name": "stdout",
     "output_type": "stream",
     "text": [
      "[CV 4/5] END .............................C=0.1;, score=0.100 total time= 7.5min\n"
     ]
    },
    {
     "name": "stderr",
     "output_type": "stream",
     "text": [
      "\n"
     ]
    },
    {
     "name": "stdout",
     "output_type": "stream",
     "text": [
      "[CV 5/5] END .............................C=0.1;, score=0.100 total time= 7.4min\n"
     ]
    },
    {
     "name": "stderr",
     "output_type": "stream",
     "text": [
      "\n",
      "100%|███████████████████████████████████████████| 10/10 [06:56<00:00, 41.68s/it]"
     ]
    },
    {
     "name": "stdout",
     "output_type": "stream",
     "text": [
      "{'C': 10}\n",
      "0.1\n"
     ]
    },
    {
     "name": "stderr",
     "output_type": "stream",
     "text": [
      "\n"
     ]
    }
   ],
   "source": [
    "# on HOGs\n",
    "skf = StratifiedKFold(n_splits=5, shuffle=True)\n",
    "svm = KernelSVC(kernel='linear')\n",
    "params = {'C': [10, 1, 0.1]}\n",
    "clf = GridSearchCV(svm, params, scoring='accuracy', cv=skf, n_jobs=3, verbose=4)\n",
    "clf.fit(hogs, Ytr)\n",
    "print(clf.best_params_)\n",
    "print(clf.best_score_)"
   ]
  },
  {
   "cell_type": "markdown",
   "metadata": {},
   "source": [
    "## Predict and export"
   ]
  },
  {
   "cell_type": "code",
   "execution_count": 113,
   "metadata": {},
   "outputs": [],
   "source": [
    "Xte_scaled = scaler.transform(Xte)"
   ]
  },
  {
   "cell_type": "code",
   "execution_count": 32,
   "metadata": {},
   "outputs": [],
   "source": [
    "hog_test = HOGExtractor().fit_transform(Xte)"
   ]
  },
  {
   "cell_type": "code",
   "execution_count": 33,
   "metadata": {
    "scrolled": true
   },
   "outputs": [
    {
     "name": "stdout",
     "output_type": "stream",
     "text": [
      "Predicting...\n"
     ]
    },
    {
     "name": "stderr",
     "output_type": "stream",
     "text": [
      "100%|███████████████████████████████████████| 2000/2000 [02:15<00:00, 14.79it/s]"
     ]
    },
    {
     "name": "stdout",
     "output_type": "stream",
     "text": [
      "predict completed in 135.24 seconds\n"
     ]
    },
    {
     "name": "stderr",
     "output_type": "stream",
     "text": [
      "\n"
     ]
    }
   ],
   "source": [
    "start = time.time()\n",
    "Yte = clf.predict(hog_test)\n",
    "end = time.time()\n",
    "print(f\"predict completed in {end - start:.2f} seconds\")"
   ]
  },
  {
   "cell_type": "code",
   "execution_count": 34,
   "metadata": {},
   "outputs": [
    {
     "data": {
      "text/plain": [
       "KernelRidgeClassifier(C=1e-05, gamma=1)"
      ]
     },
     "execution_count": 34,
     "metadata": {},
     "output_type": "execute_result"
    }
   ],
   "source": [
    "clf.best_estimator_"
   ]
  },
  {
   "cell_type": "code",
   "execution_count": 36,
   "metadata": {},
   "outputs": [
    {
     "name": "stderr",
     "output_type": "stream",
     "text": [
      "\n"
     ]
    },
    {
     "name": "stdout",
     "output_type": "stream",
     "text": [
      "[CV 2/5] END ................C=1e-05, gamma=0.5;, score=0.595 total time= 3.0min\n"
     ]
    },
    {
     "name": "stderr",
     "output_type": "stream",
     "text": [
      "\n"
     ]
    },
    {
     "name": "stdout",
     "output_type": "stream",
     "text": [
      "[CV 3/5] END ................C=1e-05, gamma=0.5;, score=0.598 total time= 3.1min\n"
     ]
    },
    {
     "name": "stderr",
     "output_type": "stream",
     "text": [
      "\n"
     ]
    },
    {
     "name": "stdout",
     "output_type": "stream",
     "text": [
      "[CV 4/5] END ................C=1e-05, gamma=0.5;, score=0.598 total time= 3.2min\n"
     ]
    },
    {
     "name": "stderr",
     "output_type": "stream",
     "text": [
      "\n"
     ]
    },
    {
     "name": "stdout",
     "output_type": "stream",
     "text": [
      "[CV 5/5] END ................C=1e-05, gamma=0.5;, score=0.599 total time= 3.1min\n"
     ]
    }
   ],
   "source": [
    "Yte = {'Prediction' : Yte}\n",
    "dataframe = pd.DataFrame(Yte)\n",
    "dataframe.index += 1\n",
    "dataframe.to_csv('Yte_pred_krr_rbf_C0.00001_gamma1_hog_aug1.csv', index_label='Id')"
   ]
  },
  {
   "cell_type": "markdown",
   "metadata": {},
   "source": [
    "## Tests"
   ]
  },
  {
   "cell_type": "code",
   "execution_count": 11,
   "metadata": {},
   "outputs": [],
   "source": [
    "from sklearn.datasets import make_classification\n",
    "from sklearn.linear_model import RidgeClassifier"
   ]
  },
  {
   "cell_type": "code",
   "execution_count": null,
   "metadata": {},
   "outputs": [],
   "source": [
    "X, y = make_classification(n_informative=5, n_classes=10)\n",
    "y"
   ]
  },
  {
   "cell_type": "code",
   "execution_count": null,
   "metadata": {
    "scrolled": true
   },
   "outputs": [],
   "source": [
    "clf = KernelRidgeClassifier(kernel='linear')\n",
    "clf.fit(X, y)\n",
    "clf.predict(X)"
   ]
  },
  {
   "cell_type": "code",
   "execution_count": null,
   "metadata": {},
   "outputs": [],
   "source": [
    "clf.K.similarity_matrix()"
   ]
  },
  {
   "cell_type": "code",
   "execution_count": null,
   "metadata": {},
   "outputs": [],
   "source": [
    "clf = RidgeClassifier(fit_intercept=False)\n",
    "clf.fit(X, Ytr)\n",
    "Yte = clf.predict(Xte_scaled)"
   ]
  },
  {
   "cell_type": "markdown",
   "metadata": {},
   "source": [
    "### Comparison for regression"
   ]
  },
  {
   "cell_type": "code",
   "execution_count": 7,
   "metadata": {},
   "outputs": [],
   "source": [
    "from sklearn.kernel_ridge import KernelRidge\n",
    "from sklearn.datasets import make_regression"
   ]
  },
  {
   "cell_type": "code",
   "execution_count": 8,
   "metadata": {},
   "outputs": [
    {
     "data": {
      "image/png": "[encoded data removed]",
      "text/plain": [
       "<Figure size 432x288 with 1 Axes>"
      ]
     },
     "metadata": {
      "needs_background": "light"
     },
     "output_type": "display_data"
    }
   ],
   "source": [
    "x = np.linspace(2,30,100)\n",
    "y= x + 4*np.sin(x)+ 4*np.random.rand(x.shape[0])\n",
    "plt.scatter(x, y)\n",
    "plt.show()"
   ]
  },
  {
   "cell_type": "code",
   "execution_count": 9,
   "metadata": {},
   "outputs": [],
   "source": [
    "C = 0.01\n",
    "gamma = 10"
   ]
  },
  {
   "cell_type": "code",
   "execution_count": 10,
   "metadata": {},
   "outputs": [
    {
     "name": "stdout",
     "output_type": "stream",
     "text": [
      "Start computing kernel similarity matrix...\n",
      "Kernel similarity matrix computed in 0.00 seconds\n",
      "Predicting...\n"
     ]
    },
    {
     "name": "stderr",
     "output_type": "stream",
     "text": [
      "100%|██████████| 175/175 [00:00<00:00, 1428.10it/s]\n"
     ]
    }
   ],
   "source": [
    "x = StandardScaler().fit_transform(x.reshape(-1,1))[:,0]\n",
    "reg = KernelRidgeRegressor(C=C/len(x), kernel='rbf', gamma=gamma)\n",
    "reg.fit(x.reshape(-1,1), y)\n",
    "x_pred=np.arange(0,35,0.2)\n",
    "x_pred = StandardScaler().fit_transform(x_pred.reshape(-1, 1))[:,0]\n",
    "y_pred = reg.predict(x_pred)"
   ]
  },
  {
   "cell_type": "code",
   "execution_count": 11,
   "metadata": {
    "scrolled": true
   },
   "outputs": [],
   "source": [
    "reg2 = KernelRidge(alpha=C, kernel='rbf', gamma=gamma)\n",
    "reg2.fit(x.reshape(-1,1), y)\n",
    "y_pred2 = reg2.predict(x_pred.reshape(-1,1))"
   ]
  },
  {
   "cell_type": "code",
   "execution_count": 12,
   "metadata": {
    "scrolled": true
   },
   "outputs": [
    {
     "data": {
      "image/png": "[encoded data removed]",
      "text/plain": [
       "<Figure size 432x288 with 1 Axes>"
      ]
     },
     "metadata": {
      "needs_background": "light"
     },
     "output_type": "display_data"
    }
   ],
   "source": [
    "plt.scatter(x, y)\n",
    "plt.plot(x_pred, y_pred)\n",
    "plt.plot(x_pred, y_pred2, linestyle=(0, (5, 10)))\n",
    "plt.show()"
   ]
  },
  {
   "cell_type": "markdown",
   "metadata": {},
   "source": [
    "In our implementation, regularization is multiplied by the number of training examples. Fixing the regularization factor, its behavior is the same as sklearn's KernelRidge if the value is divided by the number of examples. It is also important to standardize."
   ]
  },
  {
   "cell_type": "code",
   "execution_count": 13,
   "metadata": {},
   "outputs": [
    {
     "name": "stdout",
     "output_type": "stream",
     "text": [
      "Start computing kernel similarity matrix...\n",
      "Kernel similarity matrix computed in 0.14 seconds\n",
      "Predicting...\n"
     ]
    },
    {
     "name": "stderr",
     "output_type": "stream",
     "text": [
      "100%|██████████| 1000/1000 [00:07<00:00, 132.03it/s]\n"
     ]
    }
   ],
   "source": [
    "X, y = make_regression(n_samples=1000, n_features=500)\n",
    "#X = StandardScaler().fit_transform(X)\n",
    "\n",
    "reg1 = KernelRidgeRegressor(C=C/len(X), kernel='rbf', gamma=gamma)\n",
    "reg1.fit(X, y)\n",
    "y_pred1 = reg1.predict(X)\n",
    "\n",
    "reg2 = KernelRidge(alpha=C, kernel='rbf', gamma=gamma)\n",
    "reg2.fit(X, y)\n",
    "y_pred2 = reg2.predict(X)"
   ]
  },
  {
   "cell_type": "code",
   "execution_count": 14,
   "metadata": {},
   "outputs": [
    {
     "name": "stdout",
     "output_type": "stream",
     "text": [
      "3.096179128528922\n",
      "3.096179128528922\n"
     ]
    }
   ],
   "source": [
    "from sklearn.metrics import mean_squared_error\n",
    "print(mean_squared_error(y, y_pred1))\n",
    "print(mean_squared_error(y, y_pred2))"
   ]
  }
 ],
 "metadata": {
  "kernelspec": {
   "display_name": "Python 3 (ipykernel)",
   "language": "python",
   "name": "python3"
  },
  "language_info": {
   "codemirror_mode": {
    "name": "ipython",
    "version": 3
   },
   "file_extension": ".py",
   "mimetype": "text/x-python",
   "name": "python",
   "nbconvert_exporter": "python",
   "pygments_lexer": "ipython3",
   "version": "3.8.10"
  },
  "toc": {
   "base_numbering": 1,
   "nav_menu": {},
   "number_sections": false,
   "sideBar": false,
   "skip_h1_title": false,
   "title_cell": "Table of Contents",
   "title_sidebar": "Contents",
   "toc_cell": false,
   "toc_position": {},
   "toc_section_display": true,
   "toc_window_display": false
  }
 },
 "nbformat": 4,
 "nbformat_minor": 5
}
