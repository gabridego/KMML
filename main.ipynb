{
 "cells": [
  {
   "cell_type": "markdown",
   "id": "94cf7738",
   "metadata": {},
   "source": [
    "# Kernel methods for machine learning - image classification challenge"
   ]
  },
  {
   "cell_type": "markdown",
   "id": "4908eba2",
   "metadata": {},
   "source": [
    "## Imports"
   ]
  },
  {
   "cell_type": "code",
   "execution_count": null,
   "id": "05b76b91",
   "metadata": {},
   "outputs": [],
   "source": [
    "import pandas as pd\n",
    "import numpy as np\n",
    "import matplotlib.pyplot as plt\n",
    "import time\n",
    "from tqdm import tqdm\n",
    "%matplotlib inline"
   ]
  },
  {
   "cell_type": "markdown",
   "id": "b860291e",
   "metadata": {},
   "source": [
    "### Helper functions"
   ]
  },
  {
   "cell_type": "code",
   "execution_count": null,
   "id": "c736053d",
   "metadata": {},
   "outputs": [],
   "source": [
    "from sklearn.base import BaseEstimator\n",
    "from sklearn.preprocessing import LabelBinarizer\n",
    "from sklearn.model_selection import StratifiedKFold, GridSearchCV, ParameterGrid"
   ]
  },
  {
   "cell_type": "markdown",
   "id": "5cb77269",
   "metadata": {},
   "source": [
    "## Load data"
   ]
  },
  {
   "cell_type": "code",
   "execution_count": null,
   "id": "c9ae23c3",
   "metadata": {},
   "outputs": [],
   "source": [
    "Xtr = np.array(pd.read_csv('data/Xtr.csv', header=None, sep=',', usecols=range(3072)))\n",
    "Xte = np.array(pd.read_csv('data/Xte.csv', header=None, sep=',', usecols=range(3072)))\n",
    "Ytr = np.array(pd.read_csv('data/Ytr.csv', sep=',', usecols=[1])).squeeze()\n",
    "\n",
    "classes = ['airplane', 'automobile', 'bird', 'cat', 'deer', 'dog', 'frog', 'horse', 'ship', 'truck']"
   ]
  },
  {
   "cell_type": "code",
   "execution_count": null,
   "id": "d0e2420e",
   "metadata": {},
   "outputs": [],
   "source": [
    "Ytr"
   ]
  },
  {
   "cell_type": "markdown",
   "id": "101212ff",
   "metadata": {},
   "source": [
    "## Visualization"
   ]
  },
  {
   "cell_type": "code",
   "execution_count": null,
   "id": "fb34fe34",
   "metadata": {},
   "outputs": [],
   "source": [
    "def scale(A):\n",
    "    return (A-np.min(A))/(np.max(A) - np.min(A))\n",
    "\n",
    "X = scale(Xtr)"
   ]
  },
  {
   "cell_type": "code",
   "execution_count": null,
   "id": "a29c6428",
   "metadata": {},
   "outputs": [],
   "source": [
    "i = 1000\n",
    "print(classes[Ytr[i]])\n",
    "tmp = scale(Xtr[i])\n",
    "r = tmp[:1024].reshape([32, 32])\n",
    "g = tmp[1024:2048].reshape([32, 32])\n",
    "b = tmp[2048:].reshape([32, 32])\n",
    "img = np.dstack((r, g, b))\n",
    "\n",
    "plt.imshow(scale(img))\n",
    "plt.show()\n",
    "\n",
    "tmp = X[i]\n",
    "r = tmp[:1024].reshape([32, 32])\n",
    "g = tmp[1024:2048].reshape([32, 32])\n",
    "b = tmp[2048:].reshape([32, 32])\n",
    "img = np.dstack((r, g, b))\n",
    "\n",
    "plt.imshow(scale(img))\n",
    "plt.show()"
   ]
  },
  {
   "cell_type": "markdown",
   "id": "acf93450",
   "metadata": {},
   "source": [
    "## Kernels"
   ]
  },
  {
   "cell_type": "code",
   "execution_count": null,
   "id": "a5d5a38d",
   "metadata": {},
   "outputs": [],
   "source": [
    "class Kernel:\n",
    "    \n",
    "    def __init__(self, X, gamma):\n",
    "        self.X = X\n",
    "        self.gamma = gamma\n",
    "\n",
    "\n",
    "class LinearKernel(Kernel):\n",
    "    \n",
    "    def __init__(self, X, gamma=None):\n",
    "        super().__init__(X, gamma)\n",
    "    \n",
    "    def similarity_matrix(self):\n",
    "        l = len(self.X)\n",
    "        K = np.empty([l, l])\n",
    "        for i in range(l):\n",
    "            for j in range(i, l):\n",
    "                K[i, j] = K[j, i] = np.dot(self.X[i], self.X[j])\n",
    "        return K\n",
    "    \n",
    "    def similarity(self, x):\n",
    "        return np.array([np.dot(x_i, x) for x_i in self.X])\n",
    "\n",
    "\n",
    "class GaussianKernel(Kernel):\n",
    "    \n",
    "    def __init__(self, X, gamma):\n",
    "        super().__init__(X, gamma)\n",
    "    \n",
    "    def similarity_matrix(self):\n",
    "        l = len(self.X)\n",
    "        K = np.empty([l, l])\n",
    "        for i in range(l):\n",
    "            for j in range(i, l):\n",
    "                K[i, j] = K[j, i] = np.exp(- self.gamma * (np.linalg.norm(self.X[i] - self.X[j]) ** 2))\n",
    "        return K\n",
    "    \n",
    "    def similarity(self, x):\n",
    "        return np.array([np.exp(- self.gamma * (np.linalg.norm(x_i - x) ** 2)) for x_i in self.X])\n",
    "    \n",
    "\n",
    "kernels = {'linear': LinearKernel, 'rbf': GaussianKernel}"
   ]
  },
  {
   "cell_type": "markdown",
   "id": "badc16a7",
   "metadata": {},
   "source": [
    "## Algorithms"
   ]
  },
  {
   "cell_type": "code",
   "execution_count": null,
   "id": "4af8aa69",
   "metadata": {},
   "outputs": [],
   "source": [
    "class KernelRidgeClassifier(BaseEstimator):\n",
    "    \n",
    "    def __init__(self, C=1.0, kernel='rbf', gamma=10):\n",
    "        self.C = C\n",
    "        self.kernel = kernel\n",
    "        self.gamma = gamma\n",
    "    \n",
    "    def fit(self, X, y):\n",
    "        # map labels in {-1, 1}\n",
    "        Y = LabelBinarizer(pos_label=1, neg_label=-1).fit_transform(y)\n",
    "        # initialize kernel\n",
    "        self.K = kernels[self.kernel](X, self.gamma)\n",
    "        print(\"Start computing kernel similarity matrix...\")\n",
    "        start = time.time()\n",
    "        K = self.K.similarity_matrix()\n",
    "        end = time.time()\n",
    "        print(f\"Kernel similarity matrix computed in {end - start:.2f} seconds\")\n",
    "        \n",
    "        # get second term of KRR\n",
    "        diag = np.zeros_like(K)\n",
    "        np.fill_diagonal(diag, self.C * len(X))\n",
    "        # compute coefficients for each class, one-vs-all\n",
    "        # @ is matrix multiplication, equivalent to np.matmul\n",
    "        self.alpha = []\n",
    "        print(\"Fitting alphas...\")\n",
    "        for c in tqdm(sorted(set(y))):\n",
    "            self.alpha.append(np.linalg.inv(K + diag) @ Y[:,c])\n",
    "        self.alpha = np.array(self.alpha)\n",
    "        return self\n",
    "    \n",
    "    def predict(self, X):\n",
    "        print(\"Predicting...\")\n",
    "        preds = []\n",
    "        for x in tqdm(X):\n",
    "            similarity = self.K.similarity(x)\n",
    "            preds.append(np.argmax([np.dot(alpha, similarity) for alpha in self.alpha]))\n",
    "        return np.array(preds)"
   ]
  },
  {
   "cell_type": "markdown",
   "id": "38cca75d",
   "metadata": {},
   "source": [
    "## Training"
   ]
  },
  {
   "cell_type": "markdown",
   "id": "09324aac",
   "metadata": {},
   "source": [
    "Kernel ridge regression with linear kernel:"
   ]
  },
  {
   "cell_type": "code",
   "execution_count": null,
   "id": "4a5ba898",
   "metadata": {},
   "outputs": [],
   "source": [
    "clf = KernelRidgeClassifier(kernel='linear')\n",
    "start = time.time()\n",
    "clf.fit(Xtr, Ytr)\n",
    "end = time.time()\n",
    "print(f\"fit completed in {end - start:2f} seconds\")"
   ]
  },
  {
   "cell_type": "markdown",
   "id": "4cef825c",
   "metadata": {},
   "source": [
    "**Kernel ridge regression with linear kernel:**"
   ]
  },
  {
   "cell_type": "code",
   "execution_count": null,
   "id": "8ff970c3",
   "metadata": {},
   "outputs": [],
   "source": [
    "clf = KernelRidgeClassifier(kernel='rbf', gamma=0.1)\n",
    "start = time.time()\n",
    "clf.fit(Xtr, Ytr)\n",
    "end = time.time()\n",
    "print(f\"fit completed in {end - start:2f} seconds\")"
   ]
  },
  {
   "cell_type": "markdown",
   "id": "e5a301b9",
   "metadata": {},
   "source": [
    "With cross-validation:"
   ]
  },
  {
   "cell_type": "code",
   "execution_count": null,
   "id": "fb06b071",
   "metadata": {
    "scrolled": true
   },
   "outputs": [],
   "source": [
    "skf = StratifiedKFold(n_splits=5, shuffle=True)\n",
    "ridge = KernelRidgeClassifier(kernel='rbf', verbose=True)\n",
    "params = {'C': [0.01, 0.1, 1, 10, 100], 'gamma': [0.01, 0.1, 1, 10, 100]}\n",
    "clf = GridSearchCV(ridge, params, scoring='accuracy', cv=skf, verbose=5)\n",
    "clf.fit(Xtr, Ytr)\n",
    "print(clf.best_params_)\n",
    "print(clf.best_score_)"
   ]
  },
  {
   "cell_type": "markdown",
   "id": "ac079a65",
   "metadata": {},
   "source": [
    "## Predict and export"
   ]
  },
  {
   "cell_type": "code",
   "execution_count": null,
   "id": "5e7235a5",
   "metadata": {
    "scrolled": true
   },
   "outputs": [],
   "source": [
    "start = time.time()\n",
    "Yte = clf.predict(Xte)\n",
    "end = time.time()\n",
    "print(f\"predict completed in {end - start:.2f} seconds\")"
   ]
  },
  {
   "cell_type": "code",
   "execution_count": null,
   "id": "e94c7535",
   "metadata": {},
   "outputs": [],
   "source": [
    "Yte = {'Prediction' : Yte}\n",
    "dataframe = pd.DataFrame(Yte)\n",
    "dataframe.index += 1\n",
    "dataframe.to_csv('Yte_pred_krr_rbf_C1_gamma0.1.csv', index_label='Id')"
   ]
  },
  {
   "cell_type": "markdown",
   "id": "73e5d2f0",
   "metadata": {},
   "source": [
    "## Tests"
   ]
  },
  {
   "cell_type": "code",
   "execution_count": null,
   "id": "0fd8f75c",
   "metadata": {},
   "outputs": [],
   "source": [
    "from sklearn.datasets import make_classification\n",
    "from sklearn.linear_model import RidgeClassifier"
   ]
  },
  {
   "cell_type": "code",
   "execution_count": null,
   "id": "75486b7f",
   "metadata": {},
   "outputs": [],
   "source": [
    "X, y = make_classification(n_informative=5, n_classes=10)\n",
    "y"
   ]
  },
  {
   "cell_type": "code",
   "execution_count": null,
   "id": "b305aae6",
   "metadata": {
    "scrolled": true
   },
   "outputs": [],
   "source": [
    "clf = KernelRidgeClassifier(kernel='rbf', gamma=0.01, verbose=False)\n",
    "clf.fit(X, y)\n",
    "clf.predict(X)"
   ]
  },
  {
   "cell_type": "code",
   "execution_count": null,
   "id": "914e843a",
   "metadata": {},
   "outputs": [],
   "source": [
    "clf.K.similarity_matrix()"
   ]
  },
  {
   "cell_type": "code",
   "execution_count": null,
   "id": "0870d9ee",
   "metadata": {},
   "outputs": [],
   "source": [
    "clf = RidgeClassifier()\n",
    "clf.fit(Xtr, Ytr)\n",
    "clf.predict(Xte)"
   ]
  }
 ],
 "metadata": {
  "kernelspec": {
   "display_name": "Python 3 (ipykernel)",
   "language": "python",
   "name": "python3"
  },
  "language_info": {
   "codemirror_mode": {
    "name": "ipython",
    "version": 3
   },
   "file_extension": ".py",
   "mimetype": "text/x-python",
   "name": "python",
   "nbconvert_exporter": "python",
   "pygments_lexer": "ipython3",
   "version": "3.8.10"
  },
  "toc": {
   "base_numbering": 1,
   "nav_menu": {},
   "number_sections": false,
   "sideBar": false,
   "skip_h1_title": false,
   "title_cell": "Table of Contents",
   "title_sidebar": "Contents",
   "toc_cell": false,
   "toc_position": {},
   "toc_section_display": true,
   "toc_window_display": false
  }
 },
 "nbformat": 4,
 "nbformat_minor": 5
}
